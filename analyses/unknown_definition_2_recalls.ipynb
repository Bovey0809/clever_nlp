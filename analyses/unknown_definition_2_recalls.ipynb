{
 "cells": [
  {
   "cell_type": "code",
   "execution_count": 64,
   "id": "3a67fbcb",
   "metadata": {},
   "outputs": [],
   "source": [
    "import torch\n",
    "from model import DictNet\n",
    "from transformers import AutoTokenizer\n",
    "from evaluation import norm_recall, cosine_recall"
   ]
  },
  {
   "cell_type": "code",
   "execution_count": 41,
   "id": "fb4b8a8a",
   "metadata": {},
   "outputs": [
    {
     "name": "stderr",
     "output_type": "stream",
     "text": [
      "Some weights of the model checkpoint at bert-base-uncased were not used when initializing BertModel: ['cls.predictions.decoder.weight', 'cls.seq_relationship.weight', 'cls.predictions.transform.LayerNorm.weight', 'cls.predictions.bias', 'cls.predictions.transform.dense.bias', 'cls.seq_relationship.bias', 'cls.predictions.transform.LayerNorm.bias', 'cls.predictions.transform.dense.weight']\n",
      "- This IS expected if you are initializing BertModel from the checkpoint of a model trained on another task or with another architecture (e.g. initializing a BertForSequenceClassification model from a BertForPreTraining model).\n",
      "- This IS NOT expected if you are initializing BertModel from the checkpoint of a model that you expect to be exactly identical (initializing a BertForSequenceClassification model from a BertForSequenceClassification model).\n"
     ]
    },
    {
     "data": {
      "text/plain": [
       "<All keys matched successfully>"
      ]
     },
     "execution_count": 41,
     "metadata": {},
     "output_type": "execute_result"
    }
   ],
   "source": [
    "# weight_path = '/diskb/houbowei/ray_results/train_2022-01-05_20-09-55/train_64e33_00107_107_batch_size=8,epochs=100,lr=0.001_2022-01-05_20-16-11/checkpoint_000098/checkpoint'\n",
    "weight_path = \"/diskb/houbowei/ray_results/train_2022-01-14_16-14-10/train_f3c7b_00022_22_batch_size=8,epochs=100,lr=0.001_2022-01-14_16-14-56/checkpoint_000098/checkpoint\"\n",
    "model = DictNet()\n",
    "\n",
    "state_dict = torch.load(weight_path)\n",
    "\n",
    "model.load_state_dict(state_dict[0])"
   ]
  },
  {
   "cell_type": "code",
   "execution_count": 42,
   "id": "daeaa841",
   "metadata": {},
   "outputs": [],
   "source": [
    "# Build Tokenizer\n",
    "checkpoint = 'bert-base-uncased'\n",
    "tokenizer = AutoTokenizer.from_pretrained(checkpoint)"
   ]
  },
  {
   "cell_type": "code",
   "execution_count": 62,
   "id": "3499dcc6",
   "metadata": {},
   "outputs": [],
   "source": [
    "def definition_recalls(definiton, function):\n",
    "    inputs = tokenizer(definiton, return_tensors='pt')\n",
    "    inputs['word_ids'] = 0\n",
    "\n",
    "    model.eval()\n",
    "    pred_vecotr = model(**inputs)\n",
    "\n",
    "    recall_ids, norm_distances = function(pred_vecotr, model.embedding_weight)\n",
    "\n",
    "    return tokenizer.convert_ids_to_tokens(recall_ids[0])"
   ]
  },
  {
   "cell_type": "code",
   "execution_count": 135,
   "id": "ed6aadd8",
   "metadata": {},
   "outputs": [
    {
     "data": {
      "text/plain": [
       "['truck',\n",
       " 'cars',\n",
       " 'vehicles',\n",
       " 'automotive',\n",
       " 'car',\n",
       " '1970',\n",
       " '1986',\n",
       " 'automobile',\n",
       " '2008',\n",
       " '1988']"
      ]
     },
     "execution_count": 135,
     "metadata": {},
     "output_type": "execute_result"
    }
   ],
   "source": [
    "# 小鹏\n",
    "definition = 'It is an electric vehicle company headquartered in China with autopilot driving technology.'\n",
    "\n",
    "definition_recalls(definition, norm_recall)"
   ]
  },
  {
   "cell_type": "code",
   "execution_count": 134,
   "id": "501bb3f8",
   "metadata": {},
   "outputs": [
    {
     "data": {
      "text/plain": [
       "['automobile',\n",
       " 'automotive',\n",
       " 'vehicles',\n",
       " 'cars',\n",
       " 'truck',\n",
       " 'vehicle',\n",
       " 'car',\n",
       " 'trucks',\n",
       " 'engine',\n",
       " 'engines']"
      ]
     },
     "execution_count": 134,
     "metadata": {},
     "output_type": "execute_result"
    }
   ],
   "source": [
    "# tesla\n",
    "definition = 'An American electric vehicle company manufactures autopilot electric cars.'\n",
    "\n",
    "definition_recalls(definition, norm_recall)"
   ]
  },
  {
   "cell_type": "code",
   "execution_count": 140,
   "id": "8ad2d689",
   "metadata": {},
   "outputs": [
    {
     "data": {
      "text/plain": [
       "['vehicles',\n",
       " 'technologies',\n",
       " '1986',\n",
       " 'chemicals',\n",
       " '1982',\n",
       " 'vehicle',\n",
       " 'facility',\n",
       " 'innovative',\n",
       " 'technology',\n",
       " 'electronics']"
      ]
     },
     "execution_count": 140,
     "metadata": {},
     "output_type": "execute_result"
    }
   ],
   "source": [
    "# 鹏行\n",
    "definition = 'A technology company that produces bionic intelligent robots.'\n",
    "\n",
    "definition_recalls(definition, norm_recall)"
   ]
  },
  {
   "cell_type": "code",
   "execution_count": 119,
   "id": "37db43cd",
   "metadata": {},
   "outputs": [
    {
     "data": {
      "text/plain": [
       "26060"
      ]
     },
     "execution_count": 119,
     "metadata": {},
     "output_type": "execute_result"
    }
   ],
   "source": [
    "tokenizer.convert_tokens_to_ids('tesla')\n",
    "\n",
    "tokenizer.convert_ids_to_tokens(26060)"
   ]
  },
  {
   "cell_type": "code",
   "execution_count": 124,
   "id": "6d736fc9",
   "metadata": {},
   "outputs": [
    {
     "name": "stdout",
     "output_type": "stream",
     "text": [
      "100\n"
     ]
    },
    {
     "data": {
      "text/plain": [
       "'[UNK]'"
      ]
     },
     "execution_count": 124,
     "metadata": {},
     "output_type": "execute_result"
    }
   ],
   "source": [
    "print(tokenizer.convert_tokens_to_ids('xiaopeng'))\n",
    "\n",
    "tokenizer.convert_ids_to_tokens(100)"
   ]
  },
  {
   "cell_type": "code",
   "execution_count": 125,
   "id": "0e6ec606",
   "metadata": {},
   "outputs": [
    {
     "data": {
      "text/plain": [
       "['1909',\n",
       " '1913',\n",
       " '1912',\n",
       " '1915',\n",
       " '1905',\n",
       " '1911',\n",
       " '1916',\n",
       " '1910',\n",
       " '1892',\n",
       " '1906']"
      ]
     },
     "execution_count": 125,
     "metadata": {},
     "output_type": "execute_result"
    }
   ],
   "source": [
    "definition = '[UNK]'\n",
    "\n",
    "definition_recalls(definition, norm_recall)"
   ]
  }
 ],
 "metadata": {
  "kernelspec": {
   "display_name": "Python 3 (ipykernel)",
   "language": "python",
   "name": "python3"
  },
  "language_info": {
   "codemirror_mode": {
    "name": "ipython",
    "version": 3
   },
   "file_extension": ".py",
   "mimetype": "text/x-python",
   "name": "python",
   "nbconvert_exporter": "python",
   "pygments_lexer": "ipython3",
   "version": "3.8.8"
  }
 },
 "nbformat": 4,
 "nbformat_minor": 5
}
