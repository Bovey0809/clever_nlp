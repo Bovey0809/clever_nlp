{
 "cells": [
  {
   "cell_type": "code",
   "execution_count": 2,
   "id": "ba516540",
   "metadata": {},
   "outputs": [],
   "source": [
    "dir_path = \"/diskb/houbowei/ray_results/train_2022-01-05_18-22-49/train_6f168_00012_12_batch_size=32,epochs=10,lr=0.1_2022-01-05_18-22-52/checkpoint_000009/checkpoint\""
   ]
  },
  {
   "cell_type": "code",
   "execution_count": 3,
   "id": "8dd3c7ee",
   "metadata": {},
   "outputs": [],
   "source": [
    "dir_path = '/diskb/houbowei/ray_results/train_2022-01-05_20-09-55/train_64e33_00107_107_batch_size=8,epochs=100,lr=0.001_2022-01-05_20-16-11/checkpoint_000098/checkpoint'"
   ]
  },
  {
   "cell_type": "code",
   "execution_count": 4,
   "id": "54d18692",
   "metadata": {},
   "outputs": [],
   "source": [
    "import torch"
   ]
  },
  {
   "cell_type": "code",
   "execution_count": 5,
   "id": "948a9d11",
   "metadata": {},
   "outputs": [],
   "source": [
    "state_dict = torch.load(dir_path)"
   ]
  },
  {
   "cell_type": "code",
   "execution_count": 6,
   "id": "b53346f4",
   "metadata": {},
   "outputs": [],
   "source": [
    "from model import DictNet"
   ]
  },
  {
   "cell_type": "code",
   "execution_count": 7,
   "id": "d89eb427",
   "metadata": {},
   "outputs": [
    {
     "name": "stderr",
     "output_type": "stream",
     "text": [
      "Some weights of the model checkpoint at bert-base-uncased were not used when initializing BertModel: ['cls.seq_relationship.bias', 'cls.predictions.transform.LayerNorm.bias', 'cls.seq_relationship.weight', 'cls.predictions.transform.LayerNorm.weight', 'cls.predictions.decoder.weight', 'cls.predictions.transform.dense.weight', 'cls.predictions.bias', 'cls.predictions.transform.dense.bias']\n",
      "- This IS expected if you are initializing BertModel from the checkpoint of a model trained on another task or with another architecture (e.g. initializing a BertForSequenceClassification model from a BertForPreTraining model).\n",
      "- This IS NOT expected if you are initializing BertModel from the checkpoint of a model that you expect to be exactly identical (initializing a BertForSequenceClassification model from a BertForSequenceClassification model).\n"
     ]
    }
   ],
   "source": [
    "model = DictNet()"
   ]
  },
  {
   "cell_type": "code",
   "execution_count": 8,
   "id": "db5852da",
   "metadata": {},
   "outputs": [
    {
     "data": {
      "text/plain": [
       "<All keys matched successfully>"
      ]
     },
     "execution_count": 8,
     "metadata": {},
     "output_type": "execute_result"
    }
   ],
   "source": [
    "model.load_state_dict(state_dict[0])"
   ]
  },
  {
   "cell_type": "code",
   "execution_count": 9,
   "id": "441f3740",
   "metadata": {},
   "outputs": [],
   "source": [
    "from transformers import AutoTokenizer"
   ]
  },
  {
   "cell_type": "code",
   "execution_count": 10,
   "id": "df7996cc",
   "metadata": {},
   "outputs": [],
   "source": [
    "tokenizer = AutoTokenizer.from_pretrained('bert-base-uncased')"
   ]
  },
  {
   "cell_type": "code",
   "execution_count": 11,
   "id": "687e73ba",
   "metadata": {},
   "outputs": [],
   "source": [
    "word = \"owl\""
   ]
  },
  {
   "cell_type": "code",
   "execution_count": 12,
   "id": "4a05822d",
   "metadata": {},
   "outputs": [],
   "source": [
    "import pandas as pd"
   ]
  },
  {
   "cell_type": "code",
   "execution_count": 13,
   "id": "7c4925d4",
   "metadata": {},
   "outputs": [],
   "source": [
    "wordnet = pd.read_csv(\"./wordnet_bert_common_words.csv\")"
   ]
  },
  {
   "cell_type": "code",
   "execution_count": 14,
   "id": "0e0d134c",
   "metadata": {},
   "outputs": [],
   "source": [
    "owl_definition = wordnet[wordnet.words == 'owl']"
   ]
  },
  {
   "cell_type": "code",
   "execution_count": 15,
   "id": "858f7eef",
   "metadata": {},
   "outputs": [],
   "source": [
    "definition = str(owl_definition.definition.values).strip(\"''[]\")"
   ]
  },
  {
   "cell_type": "code",
   "execution_count": 16,
   "id": "5211e14f",
   "metadata": {},
   "outputs": [
    {
     "data": {
      "text/html": [
       "<div>\n",
       "<style scoped>\n",
       "    .dataframe tbody tr th:only-of-type {\n",
       "        vertical-align: middle;\n",
       "    }\n",
       "\n",
       "    .dataframe tbody tr th {\n",
       "        vertical-align: top;\n",
       "    }\n",
       "\n",
       "    .dataframe thead th {\n",
       "        text-align: right;\n",
       "    }\n",
       "</style>\n",
       "<table border=\"1\" class=\"dataframe\">\n",
       "  <thead>\n",
       "    <tr style=\"text-align: right;\">\n",
       "      <th></th>\n",
       "      <th>norms</th>\n",
       "      <th>words</th>\n",
       "      <th>definition</th>\n",
       "      <th>embeddings_ids</th>\n",
       "      <th>word_ids</th>\n",
       "    </tr>\n",
       "  </thead>\n",
       "  <tbody>\n",
       "    <tr>\n",
       "      <th>9687</th>\n",
       "      <td>1.372753</td>\n",
       "      <td>owl</td>\n",
       "      <td>nocturnal bird of prey with hawk-like beak and...</td>\n",
       "      <td>13547</td>\n",
       "      <td>13547</td>\n",
       "    </tr>\n",
       "  </tbody>\n",
       "</table>\n",
       "</div>"
      ],
      "text/plain": [
       "         norms words                                         definition  \\\n",
       "9687  1.372753   owl  nocturnal bird of prey with hawk-like beak and...   \n",
       "\n",
       "      embeddings_ids  word_ids  \n",
       "9687           13547     13547  "
      ]
     },
     "execution_count": 16,
     "metadata": {},
     "output_type": "execute_result"
    }
   ],
   "source": [
    "owl_definition"
   ]
  },
  {
   "cell_type": "code",
   "execution_count": 17,
   "id": "eadb11d8",
   "metadata": {},
   "outputs": [],
   "source": [
    "input = tokenizer(definition, return_tensors='pt')"
   ]
  },
  {
   "cell_type": "code",
   "execution_count": 18,
   "id": "d93c6417",
   "metadata": {},
   "outputs": [
    {
     "name": "stderr",
     "output_type": "stream",
     "text": [
      "/diskb/houbowei/clever_nlp/model.py:65: UserWarning: Using a target size (torch.Size([768])) that is different to the input size (torch.Size([1, 768])). This will likely lead to incorrect results due to broadcasting. Please ensure they have the same size.\n",
      "  loss = F.mse_loss(\n"
     ]
    }
   ],
   "source": [
    "embeddings = model(**input, word_ids=torch.tensor(13547))['pred_embed']"
   ]
  },
  {
   "cell_type": "code",
   "execution_count": 19,
   "id": "55dcd1ea",
   "metadata": {},
   "outputs": [],
   "source": [
    "def cosine_recall(example, original_embeddings, K=10):\n",
    "    example_embedding = original_embeddings[tokenizer.convert_tokens_to_ids(example)]\n",
    "    # calculate cosine distance\n",
    "    cosine_sim = torch.nn.CosineSimilarity(dim=1, eps=1e-08)\n",
    "\n",
    "    cosine_similarity_of_example = cosine_sim(original_embeddings, example_embedding)\n",
    "\n",
    "    return tokenizer.convert_ids_to_tokens(cosine_similarity_of_example.argsort(descending=True)[:K])"
   ]
  },
  {
   "cell_type": "code",
   "execution_count": 22,
   "id": "07f6b08f",
   "metadata": {},
   "outputs": [
    {
     "data": {
      "text/plain": [
       "['butte',\n",
       " '1628',\n",
       " '1641',\n",
       " '1790',\n",
       " '1738',\n",
       " '1740',\n",
       " '1760',\n",
       " '1635',\n",
       " '1718',\n",
       " '1711']"
      ]
     },
     "execution_count": 22,
     "metadata": {},
     "output_type": "execute_result"
    }
   ],
   "source": [
    "cosine_recall('butte', model.embedding_weight)"
   ]
  },
  {
   "cell_type": "code",
   "execution_count": 23,
   "id": "c768b96a",
   "metadata": {},
   "outputs": [
    {
     "data": {
      "text/plain": [
       "tensor([[-3.6488e-03, -5.4358e-02, -1.4953e-02, -5.5390e-02, -3.2685e-03,\n",
       "         -1.3658e-02, -3.1868e-02, -1.9052e-02, -1.6168e-02, -7.0835e-02,\n",
       "         -3.2250e-02, -7.6980e-02, -7.7197e-02, -1.0638e-02, -5.4567e-02,\n",
       "         -5.4839e-02, -6.2392e-03, -1.8619e-02, -2.2610e-02, -1.2704e-02,\n",
       "         -2.3183e-03, -5.7066e-02,  2.8438e-02, -1.2125e-02, -2.8190e-02,\n",
       "         -3.2450e-03,  4.6704e-03, -2.0359e-02, -4.1028e-02, -6.7739e-02,\n",
       "         -3.8261e-02, -5.9996e-02, -3.1586e-02, -2.3010e-02, -3.1284e-02,\n",
       "          2.6140e-02, -2.4668e-02, -6.9533e-02, -6.6217e-02, -3.8179e-02,\n",
       "          8.7201e-03,  2.3213e-03,  1.5194e-02, -3.5676e-02, -7.1127e-03,\n",
       "          1.7512e-02, -2.4850e-02, -2.1139e-02,  9.9205e-03, -6.1748e-02,\n",
       "         -4.7415e-02, -9.2251e-03, -2.0584e-02, -5.0991e-02, -7.4479e-02,\n",
       "         -3.0817e-02,  2.1632e-02, -5.2125e-02, -8.0712e-02, -6.0016e-02,\n",
       "         -6.3978e-03, -4.3562e-02, -2.6527e-03,  2.0478e-02, -4.0139e-02,\n",
       "          1.3561e-02, -7.6849e-03,  4.5222e-03, -3.7373e-02, -4.0419e-02,\n",
       "         -8.6495e-03, -2.3983e-03, -4.2431e-02, -2.7642e-02, -5.3233e-02,\n",
       "         -1.6224e-02,  3.9878e-02, -2.8409e-02, -2.9927e-02, -9.3874e-02,\n",
       "         -1.4482e-02, -3.5456e-02, -1.7846e-02,  1.8420e-02, -2.8932e-02,\n",
       "         -1.6944e-03, -5.6767e-02, -5.5647e-02,  2.4343e-02,  9.4688e-03,\n",
       "          2.4095e-03, -3.0630e-02, -1.1370e-02, -5.0950e-02, -7.4177e-02,\n",
       "         -4.4232e-02, -1.9654e-02, -4.6118e-02, -8.3498e-04, -2.5481e-02,\n",
       "         -1.6977e-02,  5.0108e-03, -1.8078e-02, -5.0870e-02, -5.4153e-03,\n",
       "         -5.9203e-02, -7.1315e-02, -3.5222e-02, -7.9796e-02, -3.1081e-02,\n",
       "         -6.6630e-02, -3.7907e-02, -2.5618e-03,  1.6892e-03, -4.2887e-02,\n",
       "         -9.4809e-03, -1.7539e-03, -4.3329e-02, -4.9952e-02, -2.8324e-02,\n",
       "         -3.7683e-02,  9.4279e-03,  5.7027e-03, -4.3590e-02, -5.2664e-02,\n",
       "         -5.5265e-02, -4.7921e-02, -7.7753e-02, -4.0843e-02, -5.7880e-02,\n",
       "          3.1401e-02,  5.1533e-02,  2.0631e-02, -2.1634e-02, -2.5142e-02,\n",
       "         -3.5863e-02, -6.1245e-02, -1.2253e-02, -4.8349e-02,  1.0163e-02,\n",
       "         -6.1278e-02, -7.3551e-02, -2.6528e-02,  2.2717e-02,  3.9120e-03,\n",
       "         -4.2555e-04, -3.3451e-02,  2.9845e-03, -8.4832e-03, -9.2736e-03,\n",
       "          5.6239e-03, -2.9276e-02, -9.5297e-02, -3.3549e-02,  4.1170e-02,\n",
       "         -2.5697e-02,  1.2579e-02, -2.6080e-02, -5.0703e-02, -2.6753e-02,\n",
       "         -4.1473e-02, -6.5626e-02,  4.0175e-02, -1.0829e-02, -7.3531e-02,\n",
       "         -1.2754e-02, -1.7336e-02,  1.6402e-02, -1.3355e-02, -4.0757e-02,\n",
       "         -1.5381e-02, -6.0694e-03, -1.0961e-02,  8.5821e-04, -1.1950e-02,\n",
       "          3.0071e-02, -1.2159e-02, -3.5732e-02, -6.3923e-03,  2.2922e-02,\n",
       "         -6.2849e-02, -2.6120e-02, -6.2520e-02, -5.2239e-02, -4.5129e-02,\n",
       "         -2.6369e-02,  5.5656e-03, -4.2423e-02, -2.6772e-02, -2.9527e-02,\n",
       "         -2.0423e-02, -3.6058e-02, -5.4163e-02, -4.4868e-02, -1.0186e-02,\n",
       "         -4.5391e-02,  8.3956e-04, -1.7551e-02, -3.3478e-02,  4.6480e-03,\n",
       "         -4.5907e-02, -4.0076e-02, -2.9409e-02, -3.7503e-02, -5.2183e-02,\n",
       "         -4.3121e-03, -2.6151e-02,  1.2005e-02, -6.2394e-02, -4.5122e-02,\n",
       "         -9.7812e-03, -3.4669e-02, -2.0608e-02,  1.8085e-02,  2.0391e-03,\n",
       "         -7.2676e-02, -1.5130e-01, -1.2634e-02, -5.7975e-02,  1.5811e-03,\n",
       "         -3.0685e-03, -5.4544e-03, -4.2160e-02, -1.3971e-02, -6.2087e-02,\n",
       "         -1.0103e-01, -3.0426e-02, -4.7956e-02, -2.9951e-03, -2.8151e-02,\n",
       "          4.7017e-03, -3.4637e-02, -6.3456e-02, -1.5809e-02, -1.9489e-02,\n",
       "         -1.7999e-02, -2.7014e-02,  1.2793e-02, -3.0430e-02, -3.2533e-02,\n",
       "         -2.1216e-02, -4.9849e-03, -5.1300e-02, -2.0792e-02, -7.6810e-02,\n",
       "         -1.3175e-02,  1.5876e-02, -5.7909e-02,  4.9892e-03, -1.0131e-01,\n",
       "         -4.0441e-02, -6.7214e-02, -2.4806e-02, -2.3295e-02, -1.4079e-02,\n",
       "         -2.6639e-02, -1.6122e-02, -3.4083e-02, -1.9552e-03, -3.4917e-02,\n",
       "         -3.8852e-02, -5.9409e-02, -5.8666e-03, -3.0387e-03, -2.2453e-02,\n",
       "         -1.3338e-02, -6.2660e-03, -1.9599e-02,  1.9001e-02, -6.8000e-02,\n",
       "         -2.9741e-02, -2.5106e-02, -9.2897e-03,  4.1303e-03, -7.0817e-03,\n",
       "         -8.2345e-03,  3.8494e-03, -2.5805e-02, -4.4160e-02, -9.8968e-03,\n",
       "          1.3299e-03,  5.1687e-03, -9.3865e-04, -4.1345e-02, -4.3854e-02,\n",
       "         -3.7044e-02, -4.8741e-02, -1.4545e-02, -3.8432e-02, -3.4433e-02,\n",
       "         -7.2642e-02, -3.8292e-02, -3.6402e-02,  7.6471e-04, -5.0616e-02,\n",
       "         -4.3537e-02, -1.5079e-01, -5.7571e-02, -6.9883e-03, -4.1880e-02,\n",
       "         -4.6165e-02, -2.0445e-02, -1.5056e-03, -5.0207e-02, -4.7891e-02,\n",
       "         -5.0019e-02, -2.8052e-02,  1.8027e-02,  1.7048e-02,  3.1052e-02,\n",
       "         -3.8713e-02, -3.8764e-02, -2.7340e-02, -5.6726e-02, -3.6445e-03,\n",
       "         -1.2205e-02, -2.2360e-02,  1.2584e-02, -4.4117e-02, -4.1511e-02,\n",
       "         -2.4271e-02,  1.9307e-02, -3.1019e-02, -4.2698e-02, -2.1766e-02,\n",
       "         -8.6160e-03, -8.6761e-03, -1.3668e-02, -6.5058e-02,  3.0868e-02,\n",
       "         -8.8514e-02,  3.5700e-03, -4.4004e-02, -2.9738e-02, -4.4283e-02,\n",
       "          4.2433e-03, -6.4301e-02,  2.3174e-02,  8.3843e-03, -4.1005e-02,\n",
       "         -4.7981e-02, -1.8763e-02, -3.0247e-02, -8.9508e-03, -2.6508e-03,\n",
       "         -9.2696e-03, -2.5986e-02, -4.9486e-02, -3.0499e-02, -1.5569e-03,\n",
       "         -2.5929e-02, -3.3389e-02, -2.6267e-02, -1.3618e-02, -4.4077e-02,\n",
       "         -5.8542e-02, -2.1628e-02,  7.2663e-03, -2.1521e-02, -5.7047e-02,\n",
       "         -8.9062e-02, -3.8148e-02, -3.6647e-03, -7.7057e-02, -1.2264e-03,\n",
       "         -1.3278e-02, -1.4952e-02, -3.1103e-02, -1.9144e-02, -3.2775e-02,\n",
       "         -3.0864e-02,  6.2847e-03, -7.5917e-03, -1.7999e-02, -1.1535e-02,\n",
       "         -6.7751e-02, -2.8853e-02,  6.9724e-03, -3.0555e-02, -1.9181e-02,\n",
       "          3.0040e-02, -6.0851e-02, -2.3173e-02, -2.9512e-02,  1.4579e-02,\n",
       "          1.4362e-04, -4.3899e-02, -1.5411e-02, -4.9715e-02,  6.5467e-03,\n",
       "         -4.0313e-02, -4.1609e-03, -4.9386e-02, -4.2021e-02, -7.6012e-02,\n",
       "          1.2358e-02, -6.0274e-02, -1.6961e-02, -3.2498e-02, -4.4978e-02,\n",
       "         -3.9906e-02, -1.0762e-01, -2.4760e-02, -4.6160e-02, -2.2858e-02,\n",
       "         -5.2976e-02, -3.5337e-03, -6.7813e-02,  5.9759e-03, -2.7556e-02,\n",
       "         -2.4335e-02, -4.9758e-02, -4.8511e-02, -6.0735e-02,  2.4134e-02,\n",
       "         -3.8574e-02, -8.3194e-03, -5.0438e-02, -6.9543e-02, -2.3953e-02,\n",
       "         -4.4225e-02, -5.8793e-02, -1.7725e-02, -1.9362e-02, -5.0752e-02,\n",
       "         -4.3560e-02, -6.4528e-02, -3.2418e-02, -5.2854e-02, -7.9070e-02,\n",
       "         -1.6408e-04, -3.5861e-02,  2.7354e-03, -2.6325e-02, -9.7696e-04,\n",
       "          2.3491e-02, -2.6278e-03, -5.1239e-02, -2.3987e-02, -2.9269e-02,\n",
       "         -1.7096e-02, -2.7065e-02, -2.9632e-02, -1.8769e-02, -6.4741e-02,\n",
       "         -7.7187e-02, -3.2277e-03, -7.4624e-02, -3.4204e-02, -1.2004e-02,\n",
       "         -6.1404e-02, -2.7091e-02, -4.8163e-02, -4.7787e-02, -9.1721e-03,\n",
       "         -4.3546e-02, -2.8236e-02, -3.1662e-02, -3.8248e-02, -2.3592e-02,\n",
       "         -2.1722e-02, -8.1694e-02, -2.4149e-02, -6.4858e-02, -2.9840e-02,\n",
       "         -4.6239e-02, -4.2788e-02,  2.2747e-03, -5.6207e-02,  4.7517e-03,\n",
       "         -4.4102e-02, -5.5659e-02, -8.3426e-02,  3.3255e-03,  2.3273e-02,\n",
       "         -1.6537e-02, -2.3466e-02, -7.7389e-02, -2.8167e-02, -5.5167e-02,\n",
       "         -2.4285e-02, -2.8823e-04, -5.6937e-03, -5.1921e-02, -4.3310e-02,\n",
       "         -1.7180e-02, -3.3190e-02, -4.0124e-02, -4.5927e-03, -6.1979e-02,\n",
       "         -2.9703e-02, -3.6893e-02,  3.1114e-02, -5.5469e-02, -1.5132e-02,\n",
       "         -7.7501e-02, -5.2928e-02,  4.4114e-03, -6.5505e-02, -7.6698e-02,\n",
       "         -4.3858e-04, -3.2722e-05, -4.8879e-02, -6.1128e-02, -1.6288e-02,\n",
       "         -5.3095e-02, -3.4486e-02, -4.2075e-02, -7.4087e-02, -4.2586e-03,\n",
       "          1.5012e-02, -6.8907e-02, -8.2461e-02,  1.6433e-03, -1.3820e-02,\n",
       "         -2.1925e-02,  3.3297e-02, -4.3686e-03, -5.9190e-02, -6.4726e-03,\n",
       "         -4.0066e-02,  3.2413e-03,  2.0790e-02, -1.8545e-02, -4.1163e-02,\n",
       "          2.4908e-02, -3.7097e-02, -2.0412e-02,  3.5175e-02,  2.8936e-02,\n",
       "         -8.7851e-02, -2.9788e-02, -6.8377e-02,  2.9267e-03,  7.0665e-03,\n",
       "         -5.0981e-02, -5.4647e-02, -7.2705e-02, -3.7990e-02, -1.9573e-03,\n",
       "         -4.7994e-02, -2.6234e-03, -2.9538e-03, -1.8492e-02, -6.4507e-02,\n",
       "         -1.7176e-02, -3.5085e-02, -6.9911e-02, -3.7195e-02,  2.3994e-02,\n",
       "         -8.0131e-03,  7.4082e-04, -3.5310e-03, -2.0815e-02, -4.8622e-02,\n",
       "         -1.7355e-02,  1.2068e-02, -2.6494e-02, -2.3447e-02, -4.8075e-02,\n",
       "          2.1083e-02, -2.1725e-03,  2.9823e-02,  2.7586e-02, -4.4934e-02,\n",
       "         -2.7112e-03, -4.6473e-02, -2.2451e-02, -4.9220e-03, -3.4210e-02,\n",
       "         -4.6692e-02, -5.6044e-02, -2.3916e-02, -1.7120e-02, -5.1313e-03,\n",
       "         -2.6413e-02, -3.9802e-02, -1.2192e-02,  4.2306e-03,  6.1801e-03,\n",
       "         -5.7983e-03, -6.5745e-02, -5.3850e-02, -1.5989e-02, -3.5854e-02,\n",
       "         -5.3116e-02, -2.1623e-02, -2.5544e-02, -4.4470e-02,  2.6588e-03,\n",
       "         -4.7327e-02, -4.2104e-02, -6.5534e-02, -3.6445e-02, -5.5097e-03,\n",
       "         -2.1239e-02,  1.4800e-02,  1.4132e-02, -5.7368e-02,  3.1781e-02,\n",
       "         -6.2675e-02, -9.5942e-03, -2.0047e-02, -5.1655e-02, -3.6306e-02,\n",
       "         -2.7411e-02, -5.7608e-02, -8.4269e-02, -7.0093e-02, -1.2297e-02,\n",
       "         -4.0732e-02, -1.6275e-02, -7.3764e-03, -1.0036e-02, -2.3857e-02,\n",
       "         -1.4906e-02, -4.0923e-02, -4.3843e-02, -1.9799e-02, -1.3363e-02,\n",
       "         -5.4255e-02, -4.5019e-02, -1.8520e-02,  1.2565e-02, -1.0726e-03,\n",
       "         -4.4388e-02,  1.4316e-02, -4.7663e-02, -3.1612e-02, -3.7097e-02,\n",
       "         -4.5567e-02, -3.0280e-02, -1.5920e-02, -1.7772e-02, -1.7140e-02,\n",
       "          1.4980e-02,  1.0490e-02,  4.1164e-03, -1.0687e-02, -5.7881e-02,\n",
       "         -4.4158e-03, -4.3741e-02,  1.4069e-02,  2.8606e-02, -1.7263e-02,\n",
       "          1.4597e-02, -2.9101e-02, -1.9767e-03, -1.7745e-03, -2.8744e-03,\n",
       "         -4.1562e-02, -2.6823e-02, -6.2221e-02, -5.2209e-02,  1.6444e-02,\n",
       "         -3.8564e-03, -1.5438e-02, -6.3407e-02, -3.9444e-02, -4.2812e-02,\n",
       "         -5.8587e-03, -1.4610e-02,  2.1661e-02, -5.9095e-02,  9.7013e-03,\n",
       "         -1.1245e-02, -3.2689e-02, -5.1736e-02, -2.8373e-02,  7.0171e-03,\n",
       "         -2.5201e-02, -6.3452e-02, -6.2622e-02, -1.1003e-02,  3.6210e-03,\n",
       "          1.0366e-02, -4.0343e-02, -5.7461e-02,  9.4693e-03, -2.2414e-03,\n",
       "         -3.9492e-02, -2.9197e-02, -4.6150e-02, -2.9566e-02, -1.8330e-02,\n",
       "         -7.1924e-02,  2.1947e-02,  2.8937e-02, -6.5154e-02,  2.8968e-04,\n",
       "         -2.7429e-02,  3.0633e-02, -5.3105e-02, -1.7091e-02,  9.6195e-03,\n",
       "          1.7698e-03, -1.8450e-02,  2.9133e-02, -4.9899e-02, -4.2702e-02,\n",
       "          2.4687e-02, -1.3197e-02, -1.6364e-02, -8.2481e-02,  2.0028e-02,\n",
       "         -1.0162e-02, -2.9047e-04, -6.2354e-03,  1.1631e-02, -5.6244e-02,\n",
       "         -2.0812e-03, -5.2838e-02, -1.9789e-02, -5.4753e-02,  1.1258e-02,\n",
       "         -5.1674e-02, -3.9226e-02,  2.0224e-02, -1.6737e-02,  3.6408e-02,\n",
       "         -3.1500e-02, -1.9343e-02,  2.0745e-02, -5.9464e-02, -1.3182e-02,\n",
       "          3.5311e-02, -1.9841e-02, -3.0687e-02, -3.0670e-02, -3.4023e-02,\n",
       "         -3.6885e-02, -5.1312e-02,  2.3738e-02, -4.4331e-02, -1.1156e-02,\n",
       "         -3.4035e-02,  1.0629e-02,  2.7528e-03, -2.9595e-02, -3.9219e-02,\n",
       "         -2.0975e-02, -9.9755e-03, -2.2848e-02, -1.6968e-03, -1.4632e-02,\n",
       "          1.7170e-02,  5.0765e-03, -9.9495e-03, -4.4407e-02, -2.4071e-02,\n",
       "          4.0162e-02, -5.5113e-03, -4.2111e-02, -6.6526e-02, -4.8440e-02,\n",
       "         -2.7481e-02, -3.6713e-02,  7.6913e-03, -2.5239e-02, -3.6347e-02,\n",
       "         -1.6886e-02,  3.7123e-03, -2.7771e-02, -2.2758e-02, -5.6737e-02,\n",
       "         -4.8572e-02, -3.7530e-02, -2.3781e-02]], grad_fn=<MeanBackward1>)"
      ]
     },
     "execution_count": 23,
     "metadata": {},
     "output_type": "execute_result"
    }
   ],
   "source": [
    "def get_pred_embeddings(word, wordnet, tokenizer, model):\n",
    "    word_definition = wordnet[wordnet.words==word]\n",
    "    definition = str(word_definition.definition.values).strip(\"'[]\")\n",
    "    model_inputs = tokenizer(definition, return_tensors='pt')\n",
    "    word_id = torch.tensor(word_definition.word_ids.values)\n",
    "    model.eval()\n",
    "    embeddings = model(**model_inputs, word_ids=word_id)['pred_embed']\n",
    "    return embeddings\n",
    "\n",
    "get_pred_embeddings('owl', wordnet, tokenizer, model)"
   ]
  },
  {
   "cell_type": "code",
   "execution_count": 24,
   "id": "e2bfedca",
   "metadata": {},
   "outputs": [
    {
     "name": "stdout",
     "output_type": "stream",
     "text": [
      "torch.Size([1, 768])\n",
      "torch.Size([30522])\n"
     ]
    },
    {
     "data": {
      "text/plain": [
       "['mountain',\n",
       " 'mountains',\n",
       " 'plateau',\n",
       " 'valley',\n",
       " 'hill',\n",
       " 'cliff',\n",
       " 'hillside',\n",
       " 'hills',\n",
       " '1983',\n",
       " '1982']"
      ]
     },
     "execution_count": 24,
     "metadata": {},
     "output_type": "execute_result"
    }
   ],
   "source": [
    "example_embedding = get_pred_embeddings(\"butte\", wordnet, tokenizer, model)\n",
    "def norm_recall(example_embeddings, original_embeddings, K=10):\n",
    "    print(example_embedding.shape)\n",
    "    distance = ((original_embeddings - example_embedding)**2).sum(1)\n",
    "    print(distance.shape)\n",
    "    indexes = distance.argsort()[:K]\n",
    "    return indexes\n",
    "indexes = norm_recall(example_embedding, model.embedding_weight)\n",
    "tokenizer.convert_ids_to_tokens(indexes)"
   ]
  },
  {
   "cell_type": "code",
   "execution_count": 26,
   "id": "81d1ce3c",
   "metadata": {},
   "outputs": [
    {
     "data": {
      "text/plain": [
       "['hillside',\n",
       " 'hilltop',\n",
       " 'plateau',\n",
       " 'mountain',\n",
       " 'mountainous',\n",
       " 'hilly',\n",
       " 'cliff',\n",
       " '1679',\n",
       " '1682',\n",
       " 'ravine']"
      ]
     },
     "execution_count": 26,
     "metadata": {},
     "output_type": "execute_result"
    }
   ],
   "source": [
    "def cosine_recall(example_embedding, original_embeddings, K=10):\n",
    "    # calculate cosine distance\n",
    "    cosine_sim = torch.nn.CosineSimilarity(dim=1, eps=1e-08)\n",
    "\n",
    "    cosine_similarity_of_example = cosine_sim(original_embeddings, example_embedding)\n",
    "\n",
    "    return tokenizer.convert_ids_to_tokens(cosine_similarity_of_example.argsort(descending=True)[:K])\n",
    "cosine_recall(example_embedding, model.embedding_weight)"
   ]
  },
  {
   "cell_type": "code",
   "execution_count": 27,
   "id": "278b417f",
   "metadata": {},
   "outputs": [
    {
     "data": {
      "text/plain": [
       "tensor(1.3728)"
      ]
     },
     "execution_count": 27,
     "metadata": {},
     "output_type": "execute_result"
    }
   ],
   "source": [
    "model.embedding_weight[13547].norm()"
   ]
  },
  {
   "cell_type": "code",
   "execution_count": 28,
   "id": "e06d9fb0",
   "metadata": {},
   "outputs": [
    {
     "data": {
      "text/plain": [
       "tensor(1.1722, grad_fn=<CopyBackwards>)"
      ]
     },
     "execution_count": 28,
     "metadata": {},
     "output_type": "execute_result"
    }
   ],
   "source": [
    "example_embedding.norm()"
   ]
  },
  {
   "cell_type": "code",
   "execution_count": 35,
   "id": "e6818362",
   "metadata": {},
   "outputs": [
    {
     "name": "stdout",
     "output_type": "stream",
     "text": [
      "['a hill that rises abruptly from the surrounding region; has a flat top and sloping sides']\n"
     ]
    }
   ],
   "source": [
    "average_embeddings = 0\n",
    "example = 'butte'\n",
    "definition = str(wordnet[wordnet.words==example].definition.values)\n",
    "print(definition)\n",
    "for c, word in enumerate(definition.split()):\n",
    "    average_embeddings += model.embedding_weight[tokenizer.convert_tokens_to_ids(word)]\n",
    "average_embeddings = average_embeddings / c\n"
   ]
  },
  {
   "cell_type": "code",
   "execution_count": 36,
   "id": "54cd052b",
   "metadata": {},
   "outputs": [
    {
     "data": {
      "text/plain": [
       "tensor(0.6304)"
      ]
     },
     "execution_count": 36,
     "metadata": {},
     "output_type": "execute_result"
    }
   ],
   "source": [
    "average_embeddings.norm()"
   ]
  },
  {
   "cell_type": "code",
   "execution_count": 37,
   "id": "6bf66f58",
   "metadata": {},
   "outputs": [
    {
     "data": {
      "text/plain": [
       "['279', '306', '1738', '255', '292', '294', '272', '276', '189', '273']"
      ]
     },
     "execution_count": 37,
     "metadata": {},
     "output_type": "execute_result"
    }
   ],
   "source": [
    "cosine_recall(average_embeddings, original_embeddings=model.embedding_weight)"
   ]
  },
  {
   "cell_type": "code",
   "execution_count": 38,
   "id": "ff75efeb",
   "metadata": {},
   "outputs": [
    {
     "name": "stdout",
     "output_type": "stream",
     "text": [
      "torch.Size([1, 768])\n",
      "torch.Size([30522])\n"
     ]
    },
    {
     "data": {
      "text/plain": [
       "['mountain',\n",
       " 'mountains',\n",
       " 'plateau',\n",
       " 'valley',\n",
       " 'hill',\n",
       " 'cliff',\n",
       " 'hillside',\n",
       " 'hills',\n",
       " '1983',\n",
       " '1982']"
      ]
     },
     "execution_count": 38,
     "metadata": {},
     "output_type": "execute_result"
    }
   ],
   "source": [
    "tokenizer.convert_ids_to_tokens(norm_recall(average_embeddings, original_embeddings=model.embedding_weight))"
   ]
  },
  {
   "cell_type": "code",
   "execution_count": 39,
   "id": "e066b8c4",
   "metadata": {},
   "outputs": [
    {
     "data": {
      "text/plain": [
       "711"
      ]
     },
     "execution_count": 39,
     "metadata": {},
     "output_type": "execute_result"
    }
   ],
   "source": [
    "tokenizer.convert_tokens_to_ids('[unused706]')"
   ]
  },
  {
   "cell_type": "code",
   "execution_count": 40,
   "id": "a9ea22d1",
   "metadata": {},
   "outputs": [
    {
     "data": {
      "text/plain": [
       "[23789,\n",
       " 4743,\n",
       " 1997,\n",
       " 8336,\n",
       " 2007,\n",
       " 9881,\n",
       " 1011,\n",
       " 2066,\n",
       " 23525,\n",
       " 1998,\n",
       " 10702,\n",
       " 1998,\n",
       " 2312,\n",
       " 2132,\n",
       " 2007,\n",
       " 2392,\n",
       " 1011,\n",
       " 5307,\n",
       " 2159]"
      ]
     },
     "execution_count": 40,
     "metadata": {},
     "output_type": "execute_result"
    }
   ],
   "source": [
    "tokenizer.convert_tokens_to_ids(tokenizer.tokenize(\"nocturnal bird of prey with hawk-like beak and claws and large head with front-facing eyes\"))"
   ]
  },
  {
   "cell_type": "markdown",
   "id": "802f8f93",
   "metadata": {},
   "source": [
    "- [ ] 查找bad cases"
   ]
  },
  {
   "cell_type": "code",
   "execution_count": 43,
   "id": "72d0781c",
   "metadata": {},
   "outputs": [
    {
     "data": {
      "text/html": [
       "<div>\n",
       "<style scoped>\n",
       "    .dataframe tbody tr th:only-of-type {\n",
       "        vertical-align: middle;\n",
       "    }\n",
       "\n",
       "    .dataframe tbody tr th {\n",
       "        vertical-align: top;\n",
       "    }\n",
       "\n",
       "    .dataframe thead th {\n",
       "        text-align: right;\n",
       "    }\n",
       "</style>\n",
       "<table border=\"1\" class=\"dataframe\">\n",
       "  <thead>\n",
       "    <tr style=\"text-align: right;\">\n",
       "      <th></th>\n",
       "      <th>norms</th>\n",
       "      <th>words</th>\n",
       "      <th>definition</th>\n",
       "      <th>embeddings_ids</th>\n",
       "      <th>word_ids</th>\n",
       "    </tr>\n",
       "  </thead>\n",
       "  <tbody>\n",
       "    <tr>\n",
       "      <th>9687</th>\n",
       "      <td>1.372753</td>\n",
       "      <td>owl</td>\n",
       "      <td>nocturnal bird of prey with hawk-like beak and...</td>\n",
       "      <td>13547</td>\n",
       "      <td>13547</td>\n",
       "    </tr>\n",
       "  </tbody>\n",
       "</table>\n",
       "</div>"
      ],
      "text/plain": [
       "         norms words                                         definition  \\\n",
       "9687  1.372753   owl  nocturnal bird of prey with hawk-like beak and...   \n",
       "\n",
       "      embeddings_ids  word_ids  \n",
       "9687           13547     13547  "
      ]
     },
     "execution_count": 43,
     "metadata": {},
     "output_type": "execute_result"
    }
   ],
   "source": [
    "wordnet[wordnet.words == 'owl']"
   ]
  },
  {
   "cell_type": "code",
   "execution_count": 87,
   "id": "7c708816",
   "metadata": {},
   "outputs": [
    {
     "data": {
      "text/plain": [
       "'nocturnal bird of prey with hawk-like beak and claws and large head with front-facing eyes'"
      ]
     },
     "execution_count": 87,
     "metadata": {},
     "output_type": "execute_result"
    }
   ],
   "source": [
    "definition = str(wordnet[wordnet.words == 'owl'].definition.astype(str).values).strip(\"['']\")\n",
    "definition"
   ]
  },
  {
   "cell_type": "code",
   "execution_count": 89,
   "id": "cfcc8e5e",
   "metadata": {},
   "outputs": [],
   "source": [
    "# 去掉模长较长的单词。\n",
    "tokens = tokenizer.tokenize(definition)"
   ]
  },
  {
   "cell_type": "code",
   "execution_count": 91,
   "id": "c9fa4b91",
   "metadata": {},
   "outputs": [],
   "source": [
    "ids = tokenizer.convert_tokens_to_ids(tokens)"
   ]
  },
  {
   "cell_type": "code",
   "execution_count": 99,
   "id": "ea9b77e3",
   "metadata": {},
   "outputs": [],
   "source": [
    "ids.sort()"
   ]
  },
  {
   "cell_type": "code",
   "execution_count": 100,
   "id": "d3fca075",
   "metadata": {},
   "outputs": [
    {
     "data": {
      "text/plain": [
       "[1011,\n",
       " 1011,\n",
       " 1997,\n",
       " 1998,\n",
       " 1998,\n",
       " 2007,\n",
       " 2007,\n",
       " 2066,\n",
       " 2132,\n",
       " 2159,\n",
       " 2312,\n",
       " 2392,\n",
       " 4743,\n",
       " 5307,\n",
       " 8336,\n",
       " 9881,\n",
       " 10702,\n",
       " 23525,\n",
       " 23789]"
      ]
     },
     "execution_count": 100,
     "metadata": {},
     "output_type": "execute_result"
    }
   ],
   "source": [
    "ids"
   ]
  },
  {
   "cell_type": "code",
   "execution_count": 102,
   "id": "c8390c41",
   "metadata": {},
   "outputs": [
    {
     "data": {
      "text/plain": [
       "[10702, 23525, 23789]"
      ]
     },
     "execution_count": 102,
     "metadata": {},
     "output_type": "execute_result"
    }
   ],
   "source": [
    "ids[-3:]"
   ]
  },
  {
   "cell_type": "code",
   "execution_count": 107,
   "id": "03b5ed20",
   "metadata": {},
   "outputs": [
    {
     "data": {
      "text/plain": [
       "['-', '-', 'of', 'and', 'and']"
      ]
     },
     "execution_count": 107,
     "metadata": {},
     "output_type": "execute_result"
    }
   ],
   "source": [
    "tokenizer.convert_ids_to_tokens(ids[:5])"
   ]
  },
  {
   "cell_type": "code",
   "execution_count": 124,
   "id": "c1ac39b3",
   "metadata": {},
   "outputs": [],
   "source": [
    "wordnet['words'] = wordnet.words.apply(str)"
   ]
  },
  {
   "cell_type": "code",
   "execution_count": 128,
   "id": "43af2a95",
   "metadata": {},
   "outputs": [],
   "source": [
    "wordnet.definition = wordnet.definition.apply(str)"
   ]
  },
  {
   "cell_type": "code",
   "execution_count": 137,
   "id": "e7f78b0d",
   "metadata": {},
   "outputs": [
    {
     "data": {
      "text/plain": [
       "array(['nocturnal bird of prey with hawk-like beak and claws and large head with front-facing eyes'],\n",
       "      dtype=object)"
      ]
     },
     "execution_count": 137,
     "metadata": {},
     "output_type": "execute_result"
    }
   ],
   "source": [
    "wordnet[wordnet.words == 'owl'].definition.values"
   ]
  },
  {
   "cell_type": "code",
   "execution_count": 95,
   "id": "7fadba40",
   "metadata": {},
   "outputs": [
    {
     "data": {
      "text/plain": [
       "tensor([1.4114, 1.1149, 0.8438, 1.3371, 0.8776, 1.2976, 0.9000, 0.9927, 1.4834,\n",
       "        0.8982, 1.2902, 0.8982, 0.9341, 1.0726, 0.8776, 1.1226, 0.9000, 1.2175,\n",
       "        1.0178])"
      ]
     },
     "execution_count": 95,
     "metadata": {},
     "output_type": "execute_result"
    }
   ],
   "source": [
    "model.embedding_weight[ids].norm(dim=1)"
   ]
  },
  {
   "cell_type": "code",
   "execution_count": 170,
   "id": "d7beb9d6",
   "metadata": {},
   "outputs": [
    {
     "name": "stdout",
     "output_type": "stream",
     "text": [
      "torch.Size([1, 768])\n",
      "torch.Size([30522])\n"
     ]
    },
    {
     "data": {
      "text/plain": [
       "['mountain',\n",
       " 'mountains',\n",
       " 'plateau',\n",
       " 'valley',\n",
       " 'hill',\n",
       " 'cliff',\n",
       " 'hillside',\n",
       " 'hills',\n",
       " '1983',\n",
       " '1982']"
      ]
     },
     "execution_count": 170,
     "metadata": {},
     "output_type": "execute_result"
    }
   ],
   "source": [
    "tokenizer.convert_ids_to_tokens(norm_recall(embeddings, model.embedding_weight))"
   ]
  },
  {
   "cell_type": "code",
   "execution_count": 181,
   "id": "aae17ffa",
   "metadata": {},
   "outputs": [
    {
     "name": "stdout",
     "output_type": "stream",
     "text": [
      "word: owl, 'nocturnal bird of prey with hawk-like beak and claws and large head with front-facing eyes'\n",
      "[13547]\n",
      "torch.Size([1, 768])\n",
      "torch.Size([30522])\n",
      "cosine recall:  ['[unused272]', '[unused316]', '[unused505]', '[unused340]', '[unused412]', '[unused410]', '[unused330]', '[unused399]', '[unused306]', '[unused263]']\n",
      "\n",
      "\n",
      "norm recall:  ['mountain', 'mountains', 'plateau', 'valley', 'hill', 'cliff', 'hillside', 'hills', '1983', '1982']\n"
     ]
    }
   ],
   "source": [
    "# 去掉 - 符号\n",
    "example = \"nocturnal bird of prey with hawk like beak and claws and large head with front facing eyes\"\n",
    "def word_definiiton_recall(word, definition):\n",
    "    print(f'word: {word}, {definiton}')\n",
    "    inputs = tokenizer(example, return_tensors='pt')\n",
    "\n",
    "    word_ids = wordnet[wordnet.words == word].word_ids.values\n",
    "    print(word_ids)\n",
    "    inputs['word_ids'] = torch.tensor(word_ids)\n",
    "    model.eval()\n",
    "    embeddings = model(**inputs)['pred_embed']\n",
    "\n",
    "    cosine_res = tokenizer.convert_ids_to_tokens(cosine_recall(embeddings, model.embedding_weight))\n",
    "    norm_res = tokenizer.convert_ids_to_tokens(norm_recall(embeddings, model.embedding_weight))\n",
    "    print('cosine recall: ', cosine_res)\n",
    "    print('\\n')\n",
    "    print('norm recall: ', norm_res)\n",
    "    return cosine_res, norm_res\n",
    "\n",
    "word_definiiton_recall('owl', example);"
   ]
  }
 ],
 "metadata": {
  "kernelspec": {
   "display_name": "Python 3 (ipykernel)",
   "language": "python",
   "name": "python3"
  },
  "language_info": {
   "codemirror_mode": {
    "name": "ipython",
    "version": 3
   },
   "file_extension": ".py",
   "mimetype": "text/x-python",
   "name": "python",
   "nbconvert_exporter": "python",
   "pygments_lexer": "ipython3",
   "version": "3.8.8"
  }
 },
 "nbformat": 4,
 "nbformat_minor": 5
}
