{
 "cells": [
  {
   "cell_type": "code",
   "execution_count": 1,
   "id": "7c366aaf",
   "metadata": {},
   "outputs": [],
   "source": [
    "import pandas as pd"
   ]
  },
  {
   "cell_type": "code",
   "execution_count": 2,
   "id": "8b659d6b",
   "metadata": {},
   "outputs": [],
   "source": [
    "pd.options.display.max_rows = 4000"
   ]
  },
  {
   "cell_type": "code",
   "execution_count": 3,
   "id": "1ef1df09",
   "metadata": {},
   "outputs": [],
   "source": [
    "wordnet_results = pd.read_csv(\"./wordnet_results.csv\")"
   ]
  },
  {
   "cell_type": "code",
   "execution_count": 4,
   "id": "9102f0bb",
   "metadata": {},
   "outputs": [
    {
     "data": {
      "text/plain": [
       "Index(['Unnamed: 0', 'norm_recall', 'norm_distance', 'cos_recall',\n",
       "       'cos_distance', 'original_recall', 'original_distance', 'definition',\n",
       "       'word'],\n",
       "      dtype='object')"
      ]
     },
     "execution_count": 4,
     "metadata": {},
     "output_type": "execute_result"
    }
   ],
   "source": [
    "wordnet_results.columns"
   ]
  },
  {
   "cell_type": "code",
   "execution_count": 5,
   "id": "1dfa1478",
   "metadata": {},
   "outputs": [],
   "source": [
    "wordnet_results = wordnet_results.drop(columns='Unnamed: 0')"
   ]
  },
  {
   "cell_type": "code",
   "execution_count": 6,
   "id": "a8bfab79",
   "metadata": {
    "scrolled": false
   },
   "outputs": [
    {
     "data": {
      "text/html": [
       "<div>\n",
       "<style scoped>\n",
       "    .dataframe tbody tr th:only-of-type {\n",
       "        vertical-align: middle;\n",
       "    }\n",
       "\n",
       "    .dataframe tbody tr th {\n",
       "        vertical-align: top;\n",
       "    }\n",
       "\n",
       "    .dataframe thead th {\n",
       "        text-align: right;\n",
       "    }\n",
       "</style>\n",
       "<table border=\"1\" class=\"dataframe\">\n",
       "  <thead>\n",
       "    <tr style=\"text-align: right;\">\n",
       "      <th></th>\n",
       "      <th>norm_recall</th>\n",
       "      <th>norm_distance</th>\n",
       "      <th>cos_recall</th>\n",
       "      <th>cos_distance</th>\n",
       "      <th>original_recall</th>\n",
       "      <th>original_distance</th>\n",
       "      <th>definition</th>\n",
       "      <th>word</th>\n",
       "    </tr>\n",
       "  </thead>\n",
       "  <tbody>\n",
       "    <tr>\n",
       "      <th>0</th>\n",
       "      <td>(['[unused845]', '[unused230]', '[unused842]',...</td>\n",
       "      <td>[0.69792664 0.6932633  0.6935595  ... 0.942328...</td>\n",
       "      <td>['1656', '1655', '1683', '1654', '1784', '1704...</td>\n",
       "      <td>[0.7465496  0.7462372  0.74356157 0.7427157  0...</td>\n",
       "      <td>['exploit', 'exploitation', 'utilized', 'utili...</td>\n",
       "      <td>[0.81289256 0.73933345 0.6978392  0.67967105 0...</td>\n",
       "      <td>use or manipulate to one's advantage</td>\n",
       "      <td>exploited</td>\n",
       "    </tr>\n",
       "    <tr>\n",
       "      <th>1</th>\n",
       "      <td>(['concrete', 'sandstone', '1967', 'marble', '...</td>\n",
       "      <td>[1.323698  1.3317105 1.3251357 ... 1.5490806 1...</td>\n",
       "      <td>['concrete', '1703', '1785', '1655', '1664', '...</td>\n",
       "      <td>[0.5703736  0.5658724  0.56560504 0.565216   0...</td>\n",
       "      <td>['[unused169]', '[unused650]', '[unused656]', ...</td>\n",
       "      <td>[0.671616   0.6684143  0.6676686  0.667373   0...</td>\n",
       "      <td>a plaster now made mostly from Portland cement...</td>\n",
       "      <td>stucco</td>\n",
       "    </tr>\n",
       "    <tr>\n",
       "      <th>2</th>\n",
       "      <td>(['southern', 'south', 'northern', 'north', 'e...</td>\n",
       "      <td>[1.2565463 1.2563612 1.2515718 ... 1.3953149 1...</td>\n",
       "      <td>['northern', 'south', 'northeast', 'northwest'...</td>\n",
       "      <td>[0.67695284 0.67070466 0.65013045 0.6402861  0...</td>\n",
       "      <td>['northern', 'eastern', 'southwestern', 'south...</td>\n",
       "      <td>[0.7710162  0.66940564 0.627915   0.6232207  0...</td>\n",
       "      <td>in or characteristic of a region of the United...</td>\n",
       "      <td>southern</td>\n",
       "    </tr>\n",
       "    <tr>\n",
       "      <th>3</th>\n",
       "      <td>(['spanish', 'portuguese', '1976', '1977', '19...</td>\n",
       "      <td>[0.8788767 0.8777307 0.875213  ... 1.0504863 1...</td>\n",
       "      <td>['spaniards', '1646', '1708', '1695', '1743', ...</td>\n",
       "      <td>[0.643896   0.64120066 0.6407474  0.6394445  0...</td>\n",
       "      <td>['1734', '1638', '1752', '1709', '1746', '1655...</td>\n",
       "      <td>[0.674745   0.673436   0.67194825 0.6718841  0...</td>\n",
       "      <td>a Spanish-speaking quarter in a town or city (...</td>\n",
       "      <td>barrio</td>\n",
       "    </tr>\n",
       "    <tr>\n",
       "      <th>4</th>\n",
       "      <td>(['moisture', '1890', '1858', '1883', '1878', ...</td>\n",
       "      <td>[1.0541825 1.049956  1.0436265 ... 1.3398273 1...</td>\n",
       "      <td>['moisture', '1738', '1664', '1666', '1665', '...</td>\n",
       "      <td>[0.6885464  0.6882936  0.6879467  0.6872267  0...</td>\n",
       "      <td>['moisture', '[unused723]', '[unused71]', '[un...</td>\n",
       "      <td>[0.66587216 0.6640274  0.66384065 0.6628168  0...</td>\n",
       "      <td>wetness in the atmosphere</td>\n",
       "      <td>humidity</td>\n",
       "    </tr>\n",
       "    <tr>\n",
       "      <th>...</th>\n",
       "      <td>...</td>\n",
       "      <td>...</td>\n",
       "      <td>...</td>\n",
       "      <td>...</td>\n",
       "      <td>...</td>\n",
       "      <td>...</td>\n",
       "      <td>...</td>\n",
       "      <td>...</td>\n",
       "    </tr>\n",
       "    <tr>\n",
       "      <th>14505</th>\n",
       "      <td>(['biography', 'memoir', '[unused175]', '[unus...</td>\n",
       "      <td>[0.7900396 0.7975772 0.7844343 ... 1.0036991 0...</td>\n",
       "      <td>['memoir', 'autobiography', 'biographies', 'bi...</td>\n",
       "      <td>[0.73488957 0.72860426 0.718965   0.69461817 0...</td>\n",
       "      <td>['biographies', 'biographical', 'autobiography...</td>\n",
       "      <td>[0.75239754 0.7107083  0.6782543  0.67108774 0...</td>\n",
       "      <td>an account of the series of events making up a...</td>\n",
       "      <td>biography</td>\n",
       "    </tr>\n",
       "    <tr>\n",
       "      <th>14506</th>\n",
       "      <td>(['deacon', '[unused339]', '[unused176]', '[un...</td>\n",
       "      <td>[0.77199423 0.7733898  0.76931685 ... 0.983627...</td>\n",
       "      <td>['[unused339]', '[unused176]', 'clergyman', '[...</td>\n",
       "      <td>[0.69253385 0.69224983 0.6913041  0.69111794 0...</td>\n",
       "      <td>['[unused527]', '[unused706]', '[unused748]', ...</td>\n",
       "      <td>[0.5877849  0.5869986  0.58648366 0.5863963  0...</td>\n",
       "      <td>a Protestant layman who assists the minister</td>\n",
       "      <td>deacon</td>\n",
       "    </tr>\n",
       "    <tr>\n",
       "      <th>14507</th>\n",
       "      <td>(['completely', 'fully', 'totally', 'largely',...</td>\n",
       "      <td>[1.1195537 1.121753  1.1181879 ... 1.311897  1...</td>\n",
       "      <td>['fully', 'wholly', 'totally', 'utterly', 'par...</td>\n",
       "      <td>[0.7509009  0.6899886  0.6840309  0.675411   0...</td>\n",
       "      <td>['completely', 'wholly', 'totally', 'partially...</td>\n",
       "      <td>[0.6782344  0.6307775  0.59354734 0.57859486 0...</td>\n",
       "      <td>to the greatest degree or extent; completely o...</td>\n",
       "      <td>fully</td>\n",
       "    </tr>\n",
       "    <tr>\n",
       "      <th>14508</th>\n",
       "      <td>(['advertising', 'advertisement', '1970', '189...</td>\n",
       "      <td>[0.8080919  0.79169583 0.7964013  ... 1.036749...</td>\n",
       "      <td>['advertisements', 'advertising', '1641', '164...</td>\n",
       "      <td>[0.77478033 0.7683401  0.7478574  0.74536794 0...</td>\n",
       "      <td>['advertisements', 'advertisement', 'marketing...</td>\n",
       "      <td>[0.736807   0.7099809  0.64893204 0.62133807 0...</td>\n",
       "      <td>a public promotion of some product or service</td>\n",
       "      <td>advertising</td>\n",
       "    </tr>\n",
       "    <tr>\n",
       "      <th>14509</th>\n",
       "      <td>(['[unused706]', '[unused339]', '[unused613]',...</td>\n",
       "      <td>[0.753031  0.7497793 0.7435698 ... 1.0002934 1...</td>\n",
       "      <td>['1738', '1635', '1705', '1756', '1721', '1757...</td>\n",
       "      <td>[0.7098295  0.7093256  0.7089273  0.70868266 0...</td>\n",
       "      <td>['1721', 'excluding', '[unused430]', '1709', '...</td>\n",
       "      <td>[0.5404076  0.540237   0.53318703 0.53318155 0...</td>\n",
       "      <td>an arithmetic operation in which the differenc...</td>\n",
       "      <td>minus</td>\n",
       "    </tr>\n",
       "  </tbody>\n",
       "</table>\n",
       "<p>14510 rows × 8 columns</p>\n",
       "</div>"
      ],
      "text/plain": [
       "                                             norm_recall  \\\n",
       "0      (['[unused845]', '[unused230]', '[unused842]',...   \n",
       "1      (['concrete', 'sandstone', '1967', 'marble', '...   \n",
       "2      (['southern', 'south', 'northern', 'north', 'e...   \n",
       "3      (['spanish', 'portuguese', '1976', '1977', '19...   \n",
       "4      (['moisture', '1890', '1858', '1883', '1878', ...   \n",
       "...                                                  ...   \n",
       "14505  (['biography', 'memoir', '[unused175]', '[unus...   \n",
       "14506  (['deacon', '[unused339]', '[unused176]', '[un...   \n",
       "14507  (['completely', 'fully', 'totally', 'largely',...   \n",
       "14508  (['advertising', 'advertisement', '1970', '189...   \n",
       "14509  (['[unused706]', '[unused339]', '[unused613]',...   \n",
       "\n",
       "                                           norm_distance  \\\n",
       "0      [0.69792664 0.6932633  0.6935595  ... 0.942328...   \n",
       "1      [1.323698  1.3317105 1.3251357 ... 1.5490806 1...   \n",
       "2      [1.2565463 1.2563612 1.2515718 ... 1.3953149 1...   \n",
       "3      [0.8788767 0.8777307 0.875213  ... 1.0504863 1...   \n",
       "4      [1.0541825 1.049956  1.0436265 ... 1.3398273 1...   \n",
       "...                                                  ...   \n",
       "14505  [0.7900396 0.7975772 0.7844343 ... 1.0036991 0...   \n",
       "14506  [0.77199423 0.7733898  0.76931685 ... 0.983627...   \n",
       "14507  [1.1195537 1.121753  1.1181879 ... 1.311897  1...   \n",
       "14508  [0.8080919  0.79169583 0.7964013  ... 1.036749...   \n",
       "14509  [0.753031  0.7497793 0.7435698 ... 1.0002934 1...   \n",
       "\n",
       "                                              cos_recall  \\\n",
       "0      ['1656', '1655', '1683', '1654', '1784', '1704...   \n",
       "1      ['concrete', '1703', '1785', '1655', '1664', '...   \n",
       "2      ['northern', 'south', 'northeast', 'northwest'...   \n",
       "3      ['spaniards', '1646', '1708', '1695', '1743', ...   \n",
       "4      ['moisture', '1738', '1664', '1666', '1665', '...   \n",
       "...                                                  ...   \n",
       "14505  ['memoir', 'autobiography', 'biographies', 'bi...   \n",
       "14506  ['[unused339]', '[unused176]', 'clergyman', '[...   \n",
       "14507  ['fully', 'wholly', 'totally', 'utterly', 'par...   \n",
       "14508  ['advertisements', 'advertising', '1641', '164...   \n",
       "14509  ['1738', '1635', '1705', '1756', '1721', '1757...   \n",
       "\n",
       "                                            cos_distance  \\\n",
       "0      [0.7465496  0.7462372  0.74356157 0.7427157  0...   \n",
       "1      [0.5703736  0.5658724  0.56560504 0.565216   0...   \n",
       "2      [0.67695284 0.67070466 0.65013045 0.6402861  0...   \n",
       "3      [0.643896   0.64120066 0.6407474  0.6394445  0...   \n",
       "4      [0.6885464  0.6882936  0.6879467  0.6872267  0...   \n",
       "...                                                  ...   \n",
       "14505  [0.73488957 0.72860426 0.718965   0.69461817 0...   \n",
       "14506  [0.69253385 0.69224983 0.6913041  0.69111794 0...   \n",
       "14507  [0.7509009  0.6899886  0.6840309  0.675411   0...   \n",
       "14508  [0.77478033 0.7683401  0.7478574  0.74536794 0...   \n",
       "14509  [0.7098295  0.7093256  0.7089273  0.70868266 0...   \n",
       "\n",
       "                                         original_recall  \\\n",
       "0      ['exploit', 'exploitation', 'utilized', 'utili...   \n",
       "1      ['[unused169]', '[unused650]', '[unused656]', ...   \n",
       "2      ['northern', 'eastern', 'southwestern', 'south...   \n",
       "3      ['1734', '1638', '1752', '1709', '1746', '1655...   \n",
       "4      ['moisture', '[unused723]', '[unused71]', '[un...   \n",
       "...                                                  ...   \n",
       "14505  ['biographies', 'biographical', 'autobiography...   \n",
       "14506  ['[unused527]', '[unused706]', '[unused748]', ...   \n",
       "14507  ['completely', 'wholly', 'totally', 'partially...   \n",
       "14508  ['advertisements', 'advertisement', 'marketing...   \n",
       "14509  ['1721', 'excluding', '[unused430]', '1709', '...   \n",
       "\n",
       "                                       original_distance  \\\n",
       "0      [0.81289256 0.73933345 0.6978392  0.67967105 0...   \n",
       "1      [0.671616   0.6684143  0.6676686  0.667373   0...   \n",
       "2      [0.7710162  0.66940564 0.627915   0.6232207  0...   \n",
       "3      [0.674745   0.673436   0.67194825 0.6718841  0...   \n",
       "4      [0.66587216 0.6640274  0.66384065 0.6628168  0...   \n",
       "...                                                  ...   \n",
       "14505  [0.75239754 0.7107083  0.6782543  0.67108774 0...   \n",
       "14506  [0.5877849  0.5869986  0.58648366 0.5863963  0...   \n",
       "14507  [0.6782344  0.6307775  0.59354734 0.57859486 0...   \n",
       "14508  [0.736807   0.7099809  0.64893204 0.62133807 0...   \n",
       "14509  [0.5404076  0.540237   0.53318703 0.53318155 0...   \n",
       "\n",
       "                                              definition         word  \n",
       "0                   use or manipulate to one's advantage    exploited  \n",
       "1      a plaster now made mostly from Portland cement...       stucco  \n",
       "2      in or characteristic of a region of the United...     southern  \n",
       "3      a Spanish-speaking quarter in a town or city (...       barrio  \n",
       "4                              wetness in the atmosphere     humidity  \n",
       "...                                                  ...          ...  \n",
       "14505  an account of the series of events making up a...    biography  \n",
       "14506       a Protestant layman who assists the minister       deacon  \n",
       "14507  to the greatest degree or extent; completely o...        fully  \n",
       "14508      a public promotion of some product or service  advertising  \n",
       "14509  an arithmetic operation in which the differenc...        minus  \n",
       "\n",
       "[14510 rows x 8 columns]"
      ]
     },
     "execution_count": 6,
     "metadata": {},
     "output_type": "execute_result"
    }
   ],
   "source": [
    "wordnet_results"
   ]
  },
  {
   "cell_type": "code",
   "execution_count": 30,
   "id": "6e594713",
   "metadata": {},
   "outputs": [
    {
     "data": {
      "text/plain": [
       "array(['[0.69792664 0.6932633  0.6935595  ... 0.94232845 0.933143   1.4470958 ]',\n",
       "       '[1.323698  1.3317105 1.3251357 ... 1.5490806 1.5550903 2.0237167]',\n",
       "       '[1.2565463 1.2563612 1.2515718 ... 1.3953149 1.3806636 2.0507755]',\n",
       "       ...,\n",
       "       '[1.1195537 1.121753  1.1181879 ... 1.311897  1.3244026 1.8391958]',\n",
       "       '[0.8080919  0.79169583 0.7964013  ... 1.0367491  1.0548832  1.5070081 ]',\n",
       "       '[0.753031  0.7497793 0.7435698 ... 1.0002934 1.0069473 1.5159401]'],\n",
       "      dtype=object)"
      ]
     },
     "execution_count": 30,
     "metadata": {},
     "output_type": "execute_result"
    }
   ],
   "source": [
    "wordnet_results.norm_distance.values"
   ]
  },
  {
   "cell_type": "code",
   "execution_count": 27,
   "id": "b0afcfeb",
   "metadata": {},
   "outputs": [
    {
     "name": "stdout",
     "output_type": "stream",
     "text": [
      "norm_recall\n",
      "9687    (['hawk', 'bird', 'fox', 'snake', 'birds', 'ea...\n",
      "Name: norm_recall, dtype: object\n",
      "norm_distance\n",
      "9687    [1.7049384 1.7067298 1.7022897 ... 1.9511259 1...\n",
      "Name: norm_distance, dtype: object\n",
      "cos_recall\n",
      "9687    ['277', '510', '321', '404', '269', '268', '77...\n",
      "Name: cos_recall, dtype: object\n",
      "cos_distance\n",
      "9687    [0.6336487  0.62889665 0.62577575 0.62195545 0...\n",
      "Name: cos_distance, dtype: object\n",
      "original_recall\n",
      "9687    ['owls', '1779', '1795', '1675', '1672', '1738...\n",
      "Name: original_recall, dtype: object\n",
      "original_distance\n",
      "9687    [0.7283466  0.62349284 0.6173864  0.6096438  0...\n",
      "Name: original_distance, dtype: object\n",
      "definition\n",
      "9687    nocturnal bird of prey with hawk-like beak and...\n",
      "Name: definition, dtype: object\n",
      "word\n",
      "9687    owl\n",
      "Name: word, dtype: object\n"
     ]
    }
   ],
   "source": [
    "def show(word):\n",
    "    data = wordnet_results[wordnet_results.word == word]\n",
    "    for col in data.columns:\n",
    "        col_data = data[col]\n",
    "        \n",
    "        while len(col_data.values) > 1:\n",
    "            \n",
    "            col_data = col_data[0]\n",
    "        print(col)\n",
    "        print(col_data)\n",
    "        # print(col,\":\",  \" \".join(col_data))\n",
    "\n",
    "show('owl')"
   ]
  },
  {
   "cell_type": "code",
   "execution_count": 8,
   "id": "8e9d2a52",
   "metadata": {},
   "outputs": [
    {
     "name": "stdout",
     "output_type": "stream",
     "text": [
      "norm_recall : (['man', 'woman', 'girl', 'people', 'men', 'boy', ',', 'women', 'the', 'two'],)\n",
      "norm_distance : [2.8689575 2.8591194 2.8588204 ... 2.8953598 2.8868437 3.441141 ]\n",
      "cos_recall : ['woman', 'girl', 'boy', 'men', 'women', 'people', 'one', 'person', 'first', 'female']\n",
      "cos_distance : [0.5321789  0.5022715  0.4530978  0.44097948 0.4111847  0.41093996\n",
      " 0.379366   0.36962488 0.36571974 0.3574081 ]\n",
      "original_recall : ['women', 'girl', 'female', 'man', 'lady', 'girls', '##woman', 'person', 'ladies', 'men']\n",
      "original_distance : [0.7033925  0.6869456  0.65422714 0.63370425 0.54124594 0.534307\n",
      " 0.5214605  0.51233083 0.50182664 0.49077353]\n",
      "definition : an adult female person (as opposed to a man)\n",
      "word : woman\n"
     ]
    }
   ],
   "source": [
    "show('woman')"
   ]
  },
  {
   "cell_type": "code",
   "execution_count": 9,
   "id": "e1188554",
   "metadata": {},
   "outputs": [
    {
     "name": "stdout",
     "output_type": "stream",
     "text": [
      "norm_recall : (['dog', 'horse', 'cat', 'dogs', 'wolf', 'man', 'the', 'animal', 'lion', 'fish'],)\n",
      "norm_distance : [2.6176114 2.6188922 2.616334  ... 2.7756228 2.750112  3.251837 ]\n",
      "cos_recall : ['horse', 'cat', 'dogs', '351', '331', '269', '229', '257', 'lion', '287']\n",
      "cos_distance : [0.5258284  0.50953424 0.47904587 0.4605931  0.45792827 0.45631462\n",
      " 0.45577    0.45547795 0.4524907  0.45165592]\n",
      "original_recall : ['dogs', 'cat', 'canine', '##dog', 'puppy', 'horse', 'hounds', 'animal', '249', '1736']\n",
      "original_distance : [0.70958376 0.508151   0.5021058  0.49847338 0.4952114  0.4894181\n",
      " 0.47718742 0.4721737  0.46933907 0.4685484 ]\n",
      "definition : a member of the genus Canis (probably descended from the common wolf) that has been domesticated by man since prehistoric times; occurs in many breeds\n",
      "word : dog\n"
     ]
    }
   ],
   "source": [
    "show('dog')"
   ]
  },
  {
   "cell_type": "code",
   "execution_count": 10,
   "id": "1d15d365",
   "metadata": {},
   "outputs": [
    {
     "name": "stdout",
     "output_type": "stream",
     "text": [
      "norm_recall : (['germany', 'italy', 'russia', 'france', 'poland', 'spain', 'sweden', 'austria', 'europe', 'brazil'],)\n",
      "norm_distance : [1.3937476 1.4056239 1.3941851 ... 1.582994  1.6007898 2.0671754]\n",
      "cos_recall : ['austria', 'poland', 'italy', 'russia', 'sweden', 'hungary', 'france', 'spain', 'switzerland', 'scandinavia']\n",
      "cos_distance : [0.6514341  0.65115917 0.6401498  0.63703114 0.6336819  0.618495\n",
      " 0.61720455 0.6169652  0.61536705 0.60909283]\n",
      "original_recall : ['german', 'germans', 'italy', 'france', 'russia', 'spain', 'belgium', 'europe', 'sweden', 'switzerland']\n",
      "original_distance : [0.6753513  0.66178715 0.65768427 0.63687915 0.6303664  0.6217238\n",
      " 0.61625814 0.61307746 0.60637474 0.6036824 ]\n",
      "definition : a republic in central Europe; split into East Germany and West Germany after World War II and reunited in 1990\n",
      "word : germany\n"
     ]
    }
   ],
   "source": [
    "show('germany')"
   ]
  },
  {
   "cell_type": "code",
   "execution_count": 11,
   "id": "00db5103",
   "metadata": {},
   "outputs": [
    {
     "name": "stdout",
     "output_type": "stream",
     "text": [
      "norm_recall : (['mountain', 'mountains', 'plateau', '1982', '1979', 'valley', '1981', '1970', '1983', '1980'],)\n",
      "norm_distance : [1.185877  1.1765275 1.1706028 ... 1.3709185 1.4035387 1.8609186]\n",
      "cos_recall : ['plateau', 'hilltop', '1682', '1679', '1699', '1732', '1729', '1779', '33rd', '1781']\n",
      "cos_distance : [0.65169626 0.6509792  0.647647   0.6470854  0.6446583  0.63959557\n",
      " 0.6393992  0.6375577  0.6366195  0.6365886 ]\n",
      "original_recall : ['1628', '1641', '1790', '1738', '1740', '1760', '1635', '1718', '1711', '1754']\n",
      "original_distance : [0.6392355  0.63468343 0.63292575 0.6318631  0.63177073 0.63131326\n",
      " 0.6300452  0.6279077  0.6275514  0.6263817 ]\n",
      "definition : a hill that rises abruptly from the surrounding region; has a flat top and sloping sides\n",
      "word : butte\n"
     ]
    }
   ],
   "source": [
    "show('butte')"
   ]
  },
  {
   "cell_type": "code",
   "execution_count": 12,
   "id": "e57eef36",
   "metadata": {},
   "outputs": [
    {
     "name": "stdout",
     "output_type": "stream",
     "text": [
      "norm_recall : (['hawk', 'bird', 'fox', 'snake', 'birds', 'eagle', '36', 'wolf', '43', '37'],)\n",
      "norm_distance : [1.7049384 1.7067298 1.7022897 ... 1.9511259 1.9853333 2.310291 ]\n",
      "cos_recall : ['277', '510', '321', '404', '269', '268', '770', '288', '417', '273']\n",
      "cos_distance : [0.6336487  0.62889665 0.62577575 0.62195545 0.61896414 0.61791235\n",
      " 0.6173652  0.61683464 0.6152628  0.6149283 ]\n",
      "original_recall : ['owls', '1779', '1795', '1675', '1672', '1738', '1679', '1781', '1819', '1611']\n",
      "original_distance : [0.7283466  0.62349284 0.6173864  0.6096438  0.6080808  0.60511464\n",
      " 0.60454524 0.6042434  0.60414577 0.6037679 ]\n",
      "definition : nocturnal bird of prey with hawk-like beak and claws and large head with front-facing eyes\n",
      "word : owl\n"
     ]
    }
   ],
   "source": [
    "show('owl')"
   ]
  },
  {
   "cell_type": "code",
   "execution_count": 13,
   "id": "53101604",
   "metadata": {},
   "outputs": [
    {
     "name": "stdout",
     "output_type": "stream",
     "text": [
      "norm_recall : (['bird', 'birds', 'fish', 'animals', 'animal', 'john', 'soldiers', 'people', 'he', 'henry'],)\n",
      "norm_distance : [1.687394  1.6938479 1.692901  ... 1.8352077 1.865871  2.456159 ]\n",
      "cos_recall : ['birds', 'fly', '410', '277', '269', '670', '355', 'falcon', 'fish', '216']\n",
      "cos_distance : [0.58604336 0.53623235 0.527133   0.5270702  0.52438307 0.5190463\n",
      " 0.51899165 0.51814413 0.5156359  0.51129687]\n",
      "original_recall : ['birds', 'parrot', '##bird', 'owl', '47th', '1654', '1675', '269', '44th', '46th']\n",
      "original_distance : [0.696099   0.55069506 0.54447794 0.5112339  0.5000034  0.49795637\n",
      " 0.497543   0.49753776 0.49641398 0.4957056 ]\n",
      "definition : warm-blooded egg-laying vertebrates characterized by feathers and forelimbs modified as wings\n",
      "word : bird\n"
     ]
    }
   ],
   "source": [
    "show('bird')"
   ]
  },
  {
   "cell_type": "code",
   "execution_count": 14,
   "id": "23efbf6a",
   "metadata": {},
   "outputs": [
    {
     "name": "stdout",
     "output_type": "stream",
     "text": [
      "norm_recall : (['man', 'woman', 'girl', 'boy', 'people', 'men', 'women', 'the', ',', 'brother'],)\n",
      "norm_distance : [2.2453656 2.2322788 2.2273073 ... 2.3075018 2.3103518 2.8363836]\n",
      "cos_recall : ['woman', 'girl', 'boy', 'men', 'women', 'people', 'female', 'person', 'young', 'male']\n",
      "cos_distance : [0.6044945  0.57489467 0.5247522  0.49086803 0.46982425 0.46086574\n",
      " 0.4596385  0.44226038 0.4360747  0.43024486]\n",
      "original_recall : ['woman', 'men', '##man', 'boy', 'girl', 'person', 'guy', '229', '228', '269']\n",
      "original_distance : [0.63370425 0.5670583  0.536309   0.5040643  0.4927034  0.48984465\n",
      " 0.46555227 0.46152154 0.45967817 0.4591232 ]\n",
      "definition : an adult person who is male (as opposed to a woman)\n",
      "word : man\n"
     ]
    }
   ],
   "source": [
    "show('man')"
   ]
  },
  {
   "cell_type": "code",
   "execution_count": 15,
   "id": "0badc4c5",
   "metadata": {},
   "outputs": [
    {
     "name": "stdout",
     "output_type": "stream",
     "text": [
      "norm_recall : (['concrete', 'sandstone', '1967', 'marble', '1993', '1968', '1969', 'granite', '1992', '1991'],)\n",
      "norm_distance : [1.323698  1.3317105 1.3251357 ... 1.5490806 1.5550903 2.0237167]\n",
      "cos_recall : ['concrete', '1703', '1785', '1655', '1664', '1740', '1805', 'marble', '1661', '1721']\n",
      "cos_distance : [0.5703736  0.5658724  0.56560504 0.565216   0.5640032  0.56202114\n",
      " 0.5613932  0.5601108  0.55944073 0.5593198 ]\n",
      "original_recall : ['[unused169]', '[unused650]', '[unused656]', '[unused137]', '[unused447]', '[unused68]', '[unused835]', '[unused531]', '[unused278]', '[unused415]']\n",
      "original_distance : [0.671616   0.6684143  0.6676686  0.667373   0.6669375  0.6667924\n",
      " 0.6667631  0.6667176  0.66656905 0.6665491 ]\n",
      "definition : a plaster now made mostly from Portland cement and sand and lime; applied while soft to cover exterior walls or surfaces\n",
      "word : stucco\n"
     ]
    }
   ],
   "source": [
    "show('stucco')"
   ]
  },
  {
   "cell_type": "code",
   "execution_count": 16,
   "id": "238fe996",
   "metadata": {},
   "outputs": [
    {
     "name": "stdout",
     "output_type": "stream",
     "text": [
      "norm_recall : \n",
      "norm_distance : \n",
      "cos_recall : \n",
      "cos_distance : \n",
      "original_recall : \n",
      "original_distance : \n",
      "definition : \n",
      "word : \n"
     ]
    }
   ],
   "source": [
    "show('Xpeng')"
   ]
  },
  {
   "cell_type": "code",
   "execution_count": 17,
   "id": "a1d00867",
   "metadata": {},
   "outputs": [
    {
     "name": "stdout",
     "output_type": "stream",
     "text": [
      "norm_recall : (['hawk', 'bird', 'fox', 'snake', 'birds', 'eagle', '36', 'wolf', '43', '37'],)\n",
      "norm_distance : [1.7049384 1.7067298 1.7022897 ... 1.9511259 1.9853333 2.310291 ]\n",
      "cos_recall : ['277', '510', '321', '404', '269', '268', '770', '288', '417', '273']\n",
      "cos_distance : [0.6336487  0.62889665 0.62577575 0.62195545 0.61896414 0.61791235\n",
      " 0.6173652  0.61683464 0.6152628  0.6149283 ]\n",
      "original_recall : ['owls', '1779', '1795', '1675', '1672', '1738', '1679', '1781', '1819', '1611']\n",
      "original_distance : [0.7283466  0.62349284 0.6173864  0.6096438  0.6080808  0.60511464\n",
      " 0.60454524 0.6042434  0.60414577 0.6037679 ]\n",
      "definition : nocturnal bird of prey with hawk-like beak and claws and large head with front-facing eyes\n",
      "word : owl\n"
     ]
    }
   ],
   "source": [
    "show('owl')"
   ]
  },
  {
   "cell_type": "code",
   "execution_count": 18,
   "id": "06de93ce",
   "metadata": {},
   "outputs": [],
   "source": [
    "mel_wordnet_results = wordnet_results.melt(id_vars='word')"
   ]
  },
  {
   "cell_type": "code",
   "execution_count": 19,
   "id": "7a84afab",
   "metadata": {},
   "outputs": [
    {
     "name": "stdout",
     "output_type": "stream",
     "text": [
      "(['hawk', 'bird', 'fox', 'snake', 'birds', 'eagle', '36', 'wolf', '43', '37'],)\n",
      "[1.7049384 1.7067298 1.7022897 ... 1.9511259 1.9853333 2.310291 ]\n",
      "['277', '510', '321', '404', '269', '268', '770', '288', '417', '273']\n",
      "[0.6336487  0.62889665 0.62577575 0.62195545 0.61896414 0.61791235\n",
      " 0.6173652  0.61683464 0.6152628  0.6149283 ]\n",
      "['owls', '1779', '1795', '1675', '1672', '1738', '1679', '1781', '1819', '1611']\n",
      "[0.7283466  0.62349284 0.6173864  0.6096438  0.6080808  0.60511464\n",
      " 0.60454524 0.6042434  0.60414577 0.6037679 ]\n",
      "nocturnal bird of prey with hawk-like beak and claws and large head with front-facing eyes\n"
     ]
    }
   ],
   "source": [
    "for i in mel_wordnet_results[mel_wordnet_results.word == 'owl']['value']:\n",
    "    print(i)"
   ]
  },
  {
   "cell_type": "code",
   "execution_count": 20,
   "id": "bee4e512",
   "metadata": {},
   "outputs": [
    {
     "name": "stdout",
     "output_type": "stream",
     "text": [
      "norm_recall : (['concrete', 'sandstone', '1967', 'marble', '1993', '1968', '1969', 'granite', '1992', '1991'],)\n",
      "norm_distance : [1.323698  1.3317105 1.3251357 ... 1.5490806 1.5550903 2.0237167]\n",
      "cos_recall : ['concrete', '1703', '1785', '1655', '1664', '1740', '1805', 'marble', '1661', '1721']\n",
      "cos_distance : [0.5703736  0.5658724  0.56560504 0.565216   0.5640032  0.56202114\n",
      " 0.5613932  0.5601108  0.55944073 0.5593198 ]\n",
      "original_recall : ['[unused169]', '[unused650]', '[unused656]', '[unused137]', '[unused447]', '[unused68]', '[unused835]', '[unused531]', '[unused278]', '[unused415]']\n",
      "original_distance : [0.671616   0.6684143  0.6676686  0.667373   0.6669375  0.6667924\n",
      " 0.6667631  0.6667176  0.66656905 0.6665491 ]\n",
      "definition : a plaster now made mostly from Portland cement and sand and lime; applied while soft to cover exterior walls or surfaces\n",
      "word : stucco\n"
     ]
    }
   ],
   "source": [
    "show('stucco')"
   ]
  }
 ],
 "metadata": {
  "kernelspec": {
   "display_name": "Python 3 (ipykernel)",
   "language": "python",
   "name": "python3"
  },
  "language_info": {
   "codemirror_mode": {
    "name": "ipython",
    "version": 3
   },
   "file_extension": ".py",
   "mimetype": "text/x-python",
   "name": "python",
   "nbconvert_exporter": "python",
   "pygments_lexer": "ipython3",
   "version": "3.8.8"
  }
 },
 "nbformat": 4,
 "nbformat_minor": 5
}
