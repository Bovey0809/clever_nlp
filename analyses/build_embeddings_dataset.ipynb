{
 "cells": [
  {
   "cell_type": "code",
   "execution_count": 1,
   "id": "b60ffd34",
   "metadata": {},
   "outputs": [],
   "source": [
    "import pandas as pd"
   ]
  },
  {
   "cell_type": "code",
   "execution_count": 2,
   "id": "4e28b17e",
   "metadata": {},
   "outputs": [],
   "source": [
    "csv_file = \"./wordnet_bert_common_words.csv\""
   ]
  },
  {
   "cell_type": "code",
   "execution_count": 4,
   "id": "5e281b16",
   "metadata": {},
   "outputs": [],
   "source": [
    "data = pd.read_csv(csv_file)"
   ]
  },
  {
   "cell_type": "code",
   "execution_count": 5,
   "id": "ffbe1b64",
   "metadata": {},
   "outputs": [
    {
     "data": {
      "text/html": [
       "<div>\n",
       "<style scoped>\n",
       "    .dataframe tbody tr th:only-of-type {\n",
       "        vertical-align: middle;\n",
       "    }\n",
       "\n",
       "    .dataframe tbody tr th {\n",
       "        vertical-align: top;\n",
       "    }\n",
       "\n",
       "    .dataframe thead th {\n",
       "        text-align: right;\n",
       "    }\n",
       "</style>\n",
       "<table border=\"1\" class=\"dataframe\">\n",
       "  <thead>\n",
       "    <tr style=\"text-align: right;\">\n",
       "      <th></th>\n",
       "      <th>norms</th>\n",
       "      <th>words</th>\n",
       "      <th>definition</th>\n",
       "      <th>embeddings_ids</th>\n",
       "      <th>word_ids</th>\n",
       "    </tr>\n",
       "  </thead>\n",
       "  <tbody>\n",
       "    <tr>\n",
       "      <th>0</th>\n",
       "      <td>1.504637</td>\n",
       "      <td>exploited</td>\n",
       "      <td>use or manipulate to one's advantage</td>\n",
       "      <td>18516</td>\n",
       "      <td>18516</td>\n",
       "    </tr>\n",
       "    <tr>\n",
       "      <th>1</th>\n",
       "      <td>1.468520</td>\n",
       "      <td>stucco</td>\n",
       "      <td>a plaster now made mostly from Portland cement...</td>\n",
       "      <td>27443</td>\n",
       "      <td>27443</td>\n",
       "    </tr>\n",
       "    <tr>\n",
       "      <th>2</th>\n",
       "      <td>0.982207</td>\n",
       "      <td>southern</td>\n",
       "      <td>in or characteristic of a region of the United...</td>\n",
       "      <td>2670</td>\n",
       "      <td>2670</td>\n",
       "    </tr>\n",
       "    <tr>\n",
       "      <th>3</th>\n",
       "      <td>1.575430</td>\n",
       "      <td>barrio</td>\n",
       "      <td>a Spanish-speaking quarter in a town or city (...</td>\n",
       "      <td>25676</td>\n",
       "      <td>25676</td>\n",
       "    </tr>\n",
       "    <tr>\n",
       "      <th>4</th>\n",
       "      <td>1.459064</td>\n",
       "      <td>humidity</td>\n",
       "      <td>wetness in the atmosphere</td>\n",
       "      <td>18213</td>\n",
       "      <td>18213</td>\n",
       "    </tr>\n",
       "    <tr>\n",
       "      <th>...</th>\n",
       "      <td>...</td>\n",
       "      <td>...</td>\n",
       "      <td>...</td>\n",
       "      <td>...</td>\n",
       "      <td>...</td>\n",
       "    </tr>\n",
       "    <tr>\n",
       "      <th>14505</th>\n",
       "      <td>1.262073</td>\n",
       "      <td>biography</td>\n",
       "      <td>an account of the series of events making up a...</td>\n",
       "      <td>8308</td>\n",
       "      <td>8308</td>\n",
       "    </tr>\n",
       "    <tr>\n",
       "      <th>14506</th>\n",
       "      <td>1.342552</td>\n",
       "      <td>deacon</td>\n",
       "      <td>a Protestant layman who assists the minister</td>\n",
       "      <td>14845</td>\n",
       "      <td>14845</td>\n",
       "    </tr>\n",
       "    <tr>\n",
       "      <th>14507</th>\n",
       "      <td>1.081511</td>\n",
       "      <td>fully</td>\n",
       "      <td>to the greatest degree or extent; completely o...</td>\n",
       "      <td>3929</td>\n",
       "      <td>3929</td>\n",
       "    </tr>\n",
       "    <tr>\n",
       "      <th>14508</th>\n",
       "      <td>1.167255</td>\n",
       "      <td>advertising</td>\n",
       "      <td>a public promotion of some product or service</td>\n",
       "      <td>6475</td>\n",
       "      <td>6475</td>\n",
       "    </tr>\n",
       "    <tr>\n",
       "      <th>14509</th>\n",
       "      <td>1.551968</td>\n",
       "      <td>minus</td>\n",
       "      <td>an arithmetic operation in which the differenc...</td>\n",
       "      <td>15718</td>\n",
       "      <td>15718</td>\n",
       "    </tr>\n",
       "  </tbody>\n",
       "</table>\n",
       "<p>14510 rows × 5 columns</p>\n",
       "</div>"
      ],
      "text/plain": [
       "          norms        words  \\\n",
       "0      1.504637    exploited   \n",
       "1      1.468520       stucco   \n",
       "2      0.982207     southern   \n",
       "3      1.575430       barrio   \n",
       "4      1.459064     humidity   \n",
       "...         ...          ...   \n",
       "14505  1.262073    biography   \n",
       "14506  1.342552       deacon   \n",
       "14507  1.081511        fully   \n",
       "14508  1.167255  advertising   \n",
       "14509  1.551968        minus   \n",
       "\n",
       "                                              definition  embeddings_ids  \\\n",
       "0                   use or manipulate to one's advantage           18516   \n",
       "1      a plaster now made mostly from Portland cement...           27443   \n",
       "2      in or characteristic of a region of the United...            2670   \n",
       "3      a Spanish-speaking quarter in a town or city (...           25676   \n",
       "4                              wetness in the atmosphere           18213   \n",
       "...                                                  ...             ...   \n",
       "14505  an account of the series of events making up a...            8308   \n",
       "14506       a Protestant layman who assists the minister           14845   \n",
       "14507  to the greatest degree or extent; completely o...            3929   \n",
       "14508      a public promotion of some product or service            6475   \n",
       "14509  an arithmetic operation in which the differenc...           15718   \n",
       "\n",
       "       word_ids  \n",
       "0         18516  \n",
       "1         27443  \n",
       "2          2670  \n",
       "3         25676  \n",
       "4         18213  \n",
       "...         ...  \n",
       "14505      8308  \n",
       "14506     14845  \n",
       "14507      3929  \n",
       "14508      6475  \n",
       "14509     15718  \n",
       "\n",
       "[14510 rows x 5 columns]"
      ]
     },
     "execution_count": 5,
     "metadata": {},
     "output_type": "execute_result"
    }
   ],
   "source": [
    "data"
   ]
  },
  {
   "cell_type": "code",
   "execution_count": 21,
   "id": "1a3c738e",
   "metadata": {},
   "outputs": [
    {
     "data": {
      "text/plain": [
       "array(['southern', 'smaller', 'finding', ..., 'educational', 'fully',\n",
       "       'advertising'], dtype=object)"
      ]
     },
     "execution_count": 21,
     "metadata": {},
     "output_type": "execute_result"
    }
   ],
   "source": [
    "data[data.norms.apply(lambda x: 0 < x < 1.2)].words.values"
   ]
  },
  {
   "cell_type": "code",
   "execution_count": 22,
   "id": "871e7ef5",
   "metadata": {},
   "outputs": [
    {
     "data": {
      "text/plain": [
       "array(['southern', 'smaller', 'finding', ..., 'educational', 'fully',\n",
       "       'advertising'], dtype=object)"
      ]
     },
     "execution_count": 22,
     "metadata": {},
     "output_type": "execute_result"
    }
   ],
   "source": [
    "def filter_words_by_norm(norm_range=(0, 1.2)):\n",
    "    data = pd.read_csv(\"wordnet_bert_common_words.csv\")\n",
    "    words = data[data.norms.apply(lambda x: norm_range[0]<x<norm_range[1])].words.values\n",
    "    return words\n",
    "\n",
    "filter_words_by_norm()"
   ]
  }
 ],
 "metadata": {
  "kernelspec": {
   "display_name": "Python 3 (ipykernel)",
   "language": "python",
   "name": "python3"
  },
  "language_info": {
   "codemirror_mode": {
    "name": "ipython",
    "version": 3
   },
   "file_extension": ".py",
   "mimetype": "text/x-python",
   "name": "python",
   "nbconvert_exporter": "python",
   "pygments_lexer": "ipython3",
   "version": "3.8.8"
  }
 },
 "nbformat": 4,
 "nbformat_minor": 5
}
