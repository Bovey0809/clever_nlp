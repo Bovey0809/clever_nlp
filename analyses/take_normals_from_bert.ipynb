{
 "cells": [
  {
   "cell_type": "markdown",
   "id": "eb54bc60",
   "metadata": {},
   "source": [
    "# Tasks\n",
    "- [x] 提取模长比较短的词."
   ]
  },
  {
   "cell_type": "code",
   "execution_count": 1,
   "id": "ac678e34",
   "metadata": {},
   "outputs": [],
   "source": [
    "from transformers import AutoModel"
   ]
  },
  {
   "cell_type": "code",
   "execution_count": 2,
   "id": "8e35b622",
   "metadata": {},
   "outputs": [],
   "source": [
    "chekpoint = \"bert-base-uncased\""
   ]
  },
  {
   "cell_type": "code",
   "execution_count": 3,
   "id": "0558e4e2",
   "metadata": {},
   "outputs": [
    {
     "name": "stderr",
     "output_type": "stream",
     "text": [
      "Some weights of the model checkpoint at bert-base-uncased were not used when initializing BertModel: ['cls.predictions.transform.dense.bias', 'cls.predictions.transform.LayerNorm.bias', 'cls.predictions.transform.LayerNorm.weight', 'cls.seq_relationship.weight', 'cls.predictions.decoder.weight', 'cls.seq_relationship.bias', 'cls.predictions.transform.dense.weight', 'cls.predictions.bias']\n",
      "- This IS expected if you are initializing BertModel from the checkpoint of a model trained on another task or with another architecture (e.g. initializing a BertForSequenceClassification model from a BertForPreTraining model).\n",
      "- This IS NOT expected if you are initializing BertModel from the checkpoint of a model that you expect to be exactly identical (initializing a BertForSequenceClassification model from a BertForSequenceClassification model).\n"
     ]
    }
   ],
   "source": [
    "model = AutoModel.from_pretrained(chekpoint)"
   ]
  },
  {
   "cell_type": "code",
   "execution_count": 4,
   "id": "4cfcde3c",
   "metadata": {},
   "outputs": [
    {
     "data": {
      "text/plain": [
       "BertEmbeddings(\n",
       "  (word_embeddings): Embedding(30522, 768, padding_idx=0)\n",
       "  (position_embeddings): Embedding(512, 768)\n",
       "  (token_type_embeddings): Embedding(2, 768)\n",
       "  (LayerNorm): LayerNorm((768,), eps=1e-12, elementwise_affine=True)\n",
       "  (dropout): Dropout(p=0.1, inplace=False)\n",
       ")"
      ]
     },
     "execution_count": 4,
     "metadata": {},
     "output_type": "execute_result"
    }
   ],
   "source": [
    "model.embeddings"
   ]
  },
  {
   "cell_type": "markdown",
   "id": "c5978cdf",
   "metadata": {},
   "source": [
    "## 为什么word embedding的输入是30522? 回答: 是字典的长度"
   ]
  },
  {
   "cell_type": "code",
   "execution_count": 5,
   "id": "717b7ea4",
   "metadata": {},
   "outputs": [],
   "source": [
    "from transformers import AutoTokenizer"
   ]
  },
  {
   "cell_type": "code",
   "execution_count": 6,
   "id": "a4f0433f",
   "metadata": {},
   "outputs": [],
   "source": [
    "tokenizer = AutoTokenizer.from_pretrained(chekpoint)"
   ]
  },
  {
   "cell_type": "code",
   "execution_count": 7,
   "id": "7134bee3",
   "metadata": {},
   "outputs": [],
   "source": [
    "text = \"I'm using bert.\""
   ]
  },
  {
   "cell_type": "code",
   "execution_count": 8,
   "id": "5d4c7440",
   "metadata": {},
   "outputs": [
    {
     "data": {
      "text/plain": [
       "{'input_ids': [101, 1045, 1005, 1049, 2478, 14324, 1012, 102], 'token_type_ids': [0, 0, 0, 0, 0, 0, 0, 0], 'attention_mask': [1, 1, 1, 1, 1, 1, 1, 1]}"
      ]
     },
     "execution_count": 8,
     "metadata": {},
     "output_type": "execute_result"
    }
   ],
   "source": [
    "tokenizer(text)"
   ]
  },
  {
   "cell_type": "code",
   "execution_count": 9,
   "id": "5e709217",
   "metadata": {},
   "outputs": [
    {
     "data": {
      "text/plain": [
       "30522"
      ]
     },
     "execution_count": 9,
     "metadata": {},
     "output_type": "execute_result"
    }
   ],
   "source": [
    "len(tokenizer.vocab)"
   ]
  },
  {
   "cell_type": "markdown",
   "id": "71381fd6",
   "metadata": {},
   "source": [
    "词典的个数就是 word_embeddings 的深度."
   ]
  },
  {
   "cell_type": "code",
   "execution_count": 10,
   "id": "3aa2472e",
   "metadata": {},
   "outputs": [],
   "source": [
    "inputs = tokenizer(text)"
   ]
  },
  {
   "cell_type": "code",
   "execution_count": 11,
   "id": "e056b41c",
   "metadata": {},
   "outputs": [
    {
     "data": {
      "text/plain": [
       "('./vocab.txt',)"
      ]
     },
     "execution_count": 11,
     "metadata": {},
     "output_type": "execute_result"
    }
   ],
   "source": [
    "tokenizer.save_vocabulary(\"./\")"
   ]
  },
  {
   "cell_type": "markdown",
   "id": "724342d4",
   "metadata": {},
   "source": [
    "# 拿出norm的值比较低的看一下.\n",
    "1. 计算所有的vocabulary的norm的值.\n",
    "2. 排序之后查看norm最大的10个对应的单词."
   ]
  },
  {
   "cell_type": "code",
   "execution_count": 12,
   "id": "90e4d8a4",
   "metadata": {},
   "outputs": [
    {
     "data": {
      "text/plain": [
       "odict_keys(['position_ids', 'word_embeddings.weight', 'position_embeddings.weight', 'token_type_embeddings.weight', 'LayerNorm.weight', 'LayerNorm.bias'])"
      ]
     },
     "execution_count": 12,
     "metadata": {},
     "output_type": "execute_result"
    }
   ],
   "source": [
    "model.embeddings.state_dict().keys()"
   ]
  },
  {
   "cell_type": "code",
   "execution_count": 13,
   "id": "0ec4b666",
   "metadata": {},
   "outputs": [],
   "source": [
    "embeddings_weights = model.embeddings.state_dict()['word_embeddings.weight']"
   ]
  },
  {
   "cell_type": "code",
   "execution_count": 14,
   "id": "c262aa47",
   "metadata": {},
   "outputs": [],
   "source": [
    "# calculate norms for embeddings.\n",
    "words_norms = embeddings_weights.norm(dim=1)"
   ]
  },
  {
   "cell_type": "code",
   "execution_count": 47,
   "id": "0f493881",
   "metadata": {},
   "outputs": [
    {
     "name": "stdout",
     "output_type": "stream",
     "text": [
      "There are 20 with longest norms.\n",
      "670\n",
      "##omba\n",
      "##rdon\n",
      "[CLS]\n",
      "##anor\n",
      "##lho\n",
      "840\n",
      "##lland\n",
      "930\n",
      "690\n",
      "##onte\n",
      "740\n",
      "##dna\n",
      "910\n",
      "570\n",
      "381\n",
      "##gall\n",
      "##ango\n",
      "##ibar\n",
      "##oles\n"
     ]
    }
   ],
   "source": [
    "# topk\n",
    "K=20\n",
    "indexes = words_norms.argsort(descending=True)[:K]\n",
    "# change tokens \n",
    "tokens = tokenizer.convert_ids_to_tokens(indexes)\n",
    "print(f\"There are {len(tokens)} with longest norms.\")\n",
    "tokenizer.convert_tokens_to_string(tokens)\n",
    "for token in tokens:\n",
    "    print(tokenizer.convert_tokens_to_string([token]))"
   ]
  },
  {
   "cell_type": "code",
   "execution_count": 48,
   "id": "06484e59",
   "metadata": {},
   "outputs": [
    {
     "name": "stdout",
     "output_type": "stream",
     "text": [
      "There are 20 with shortest norms.\n",
      "[SEP]\n",
      ".\n",
      ";\n",
      "the\n",
      ",\n",
      "of\n",
      "his\n",
      "(\n",
      "in\n",
      "her\n",
      "\"\n",
      "a\n",
      "is\n",
      "several\n",
      "at\n",
      "john\n",
      "william\n",
      "with\n",
      "was\n",
      "him\n"
     ]
    }
   ],
   "source": [
    "# topk\n",
    "K=20\n",
    "indexes = words_norms.argsort(descending=False)[:K]\n",
    "# change tokens \n",
    "tokens = tokenizer.convert_ids_to_tokens(indexes)\n",
    "print(f\"There are {len(tokens)} with shortest norms.\")\n",
    "tokenizer.convert_tokens_to_string(tokens)\n",
    "for token in tokens:\n",
    "    print(tokenizer.convert_tokens_to_string([token]))"
   ]
  },
  {
   "cell_type": "markdown",
   "id": "c32d7a9d",
   "metadata": {},
   "source": [
    "更长的模长的单词确实都不知道是什么意思, 除了“[CLS]”这个token, 最短的模长的单词都是常见词.\n",
    "\n",
    "模长 | 意思\n",
    "-- | -- \n",
    "长 | 看不懂\n",
    "短 | 常见词"
   ]
  },
  {
   "cell_type": "markdown",
   "id": "ff4aa6e4",
   "metadata": {},
   "source": [
    "- [x] TODO: 找到50个低频词汇和字典的交集\n",
    "不需要作这一步, 这一步是循环论证了."
   ]
  },
  {
   "cell_type": "markdown",
   "id": "73ac6749",
   "metadata": {},
   "source": [
    "# 构建训练数据集\n",
    "构建数据集需要在已有的vocabulary里面找到在wordnet对应的单词.\n",
    "1. wordnet 和 bert 的 vocabulary 求交集.\n",
    "2. 求完交集之后的单词列表再对 imdb 数据集筛选."
   ]
  },
  {
   "cell_type": "code",
   "execution_count": 50,
   "id": "2c2b0fca",
   "metadata": {},
   "outputs": [
    {
     "name": "stderr",
     "output_type": "stream",
     "text": [
      "Reusing dataset imdb (/diskb/houbowei/.cache/huggingface/datasets/imdb/plain_text/1.0.0/2fdd8b9bcadd6e7055e742a706876ba43f19faee861df134affd7a3f60fc38a1)\n"
     ]
    },
    {
     "data": {
      "application/vnd.jupyter.widget-view+json": {
       "model_id": "3edfc9265f324248b103925b3d0773b6",
       "version_major": 2,
       "version_minor": 0
      },
      "text/plain": [
       "  0%|          | 0/3 [00:00<?, ?it/s]"
      ]
     },
     "metadata": {},
     "output_type": "display_data"
    }
   ],
   "source": [
    "from typing import Counter\n",
    "from datasets import load_dataset\n",
    "\n",
    "\n",
    "def word_dict() -> dict:\n",
    "    data_files = \"/diskb/houbowei/clever_nlp/core-wordnet.txt\"\n",
    "\n",
    "    def _parse_words(words: list):\n",
    "        word = words[1]\n",
    "        word = word.strip(\"[]\")\n",
    "        explanation = ' '.join(words[2:]).strip()\n",
    "        return word, explanation\n",
    "\n",
    "    wordnet = {}\n",
    "    with open(data_files, 'r') as f:\n",
    "        text = f.readline()\n",
    "        while text:\n",
    "            words = text.split()\n",
    "            assert len(words) >= 3, f\"{words}\"\n",
    "            word, explanation = _parse_words(words[1:])\n",
    "            if explanation and word:\n",
    "                wordnet[word] = explanation\n",
    "            text = f.readline()\n",
    "        print(\"DONE\")\n",
    "    return wordnet\n",
    "\n",
    "\n",
    "imdb_dataset = load_dataset(\"imdb\")"
   ]
  },
  {
   "cell_type": "code",
   "execution_count": 51,
   "id": "cd9152cf",
   "metadata": {},
   "outputs": [
    {
     "name": "stdout",
     "output_type": "stream",
     "text": [
      "DONE\n"
     ]
    }
   ],
   "source": [
    "wordnet = word_dict()"
   ]
  },
  {
   "cell_type": "code",
   "execution_count": 55,
   "id": "fabd848b",
   "metadata": {},
   "outputs": [],
   "source": [
    "words_wordnet = list(wordnet.keys())"
   ]
  },
  {
   "cell_type": "code",
   "execution_count": 60,
   "id": "5b24807d",
   "metadata": {},
   "outputs": [],
   "source": [
    "words_bert = list(tokenizer.vocab.keys())"
   ]
  },
  {
   "cell_type": "code",
   "execution_count": 70,
   "id": "ca5c4c60",
   "metadata": {},
   "outputs": [
    {
     "name": "stdout",
     "output_type": "stream",
     "text": [
      "there are 3266 in wordnet\n"
     ]
    }
   ],
   "source": [
    "print(f\"there are {len(words_wordnet)} in wordnet\")"
   ]
  },
  {
   "cell_type": "code",
   "execution_count": 72,
   "id": "3aab9863",
   "metadata": {},
   "outputs": [
    {
     "name": "stdout",
     "output_type": "stream",
     "text": [
      "there are 30522 in bert.\n"
     ]
    }
   ],
   "source": [
    "print(f\"there are {len(words_bert)} in bert.\")"
   ]
  },
  {
   "cell_type": "code",
   "execution_count": 68,
   "id": "30d5d6e0",
   "metadata": {},
   "outputs": [],
   "source": [
    "common_words = set(words_bert) & set(words_wordnet)"
   ]
  },
  {
   "cell_type": "code",
   "execution_count": 73,
   "id": "5e6a853a",
   "metadata": {},
   "outputs": [
    {
     "name": "stdout",
     "output_type": "stream",
     "text": [
      "there are 3044 in wordnet and bert\n"
     ]
    }
   ],
   "source": [
    "print(f\"there are {len(common_words)} in wordnet and bert\")"
   ]
  },
  {
   "cell_type": "markdown",
   "id": "6d8dd9c5",
   "metadata": {},
   "source": [
    "- [ ] 由双方共有的单词表来构建训练数据集"
   ]
  },
  {
   "cell_type": "code",
   "execution_count": 76,
   "id": "b98e2574",
   "metadata": {},
   "outputs": [
    {
     "data": {
      "text/plain": [
       "Dataset({\n",
       "    features: ['text', 'label'],\n",
       "    num_rows: 25000\n",
       "})"
      ]
     },
     "execution_count": 76,
     "metadata": {},
     "output_type": "execute_result"
    }
   ],
   "source": [
    "imdb_dataset['train']"
   ]
  },
  {
   "cell_type": "markdown",
   "id": "bac90e2d",
   "metadata": {},
   "source": [
    "- [ ] 寻找common words里面的低频词汇"
   ]
  },
  {
   "cell_type": "code",
   "execution_count": 95,
   "id": "5924a985",
   "metadata": {},
   "outputs": [],
   "source": [
    "# words -> tokens --> norms\n",
    "common_words_norms = {}\n",
    "for word in common_words:\n",
    "    token = tokenizer.tokenize(word)\n",
    "    i = tokenizer.convert_tokens_to_ids(token)\n",
    "    common_words_norms[word] = words_norms[i].numpy()"
   ]
  },
  {
   "cell_type": "markdown",
   "id": "df12ee0a",
   "metadata": {},
   "source": [
    "上一步得到了单词表里面的单词的词频, 下一步需要计算下模长最长的单词是啥."
   ]
  },
  {
   "cell_type": "code",
   "execution_count": 104,
   "id": "3ce18994",
   "metadata": {
    "collapsed": true
   },
   "outputs": [
    {
     "data": {
      "text/plain": [
       "{'gallon': array([1.6540791], dtype=float32),\n",
       " 'sock': array([1.6361235], dtype=float32),\n",
       " 'wrestle': array([1.6341456], dtype=float32),\n",
       " 'shave': array([1.623518], dtype=float32),\n",
       " 'devote': array([1.6151217], dtype=float32),\n",
       " 'plead': array([1.5917], dtype=float32),\n",
       " 'kettle': array([1.5911119], dtype=float32),\n",
       " 'preach': array([1.5900376], dtype=float32),\n",
       " 'weigh': array([1.5883232], dtype=float32),\n",
       " 'spoil': array([1.5873092], dtype=float32),\n",
       " 'tread': array([1.5854286], dtype=float32),\n",
       " 'owe': array([1.5769775], dtype=float32),\n",
       " 'bracket': array([1.5668452], dtype=float32),\n",
       " 'scramble': array([1.5654179], dtype=float32),\n",
       " 'courtesy': array([1.5640211], dtype=float32),\n",
       " 'casualty': array([1.5632261], dtype=float32),\n",
       " 'vain': array([1.5607172], dtype=float32),\n",
       " 'appendix': array([1.5547643], dtype=float32),\n",
       " 'chew': array([1.5537211], dtype=float32),\n",
       " 'coma': array([1.5535696], dtype=float32),\n",
       " 'deprivation': array([1.5535201], dtype=float32),\n",
       " 'budge': array([1.5510107], dtype=float32),\n",
       " 'flu': array([1.5503379], dtype=float32),\n",
       " 'haunt': array([1.5495533], dtype=float32),\n",
       " 'leash': array([1.5484831], dtype=float32),\n",
       " 'cheat': array([1.5478809], dtype=float32),\n",
       " 'glue': array([1.5450484], dtype=float32),\n",
       " 'stir': array([1.5445803], dtype=float32),\n",
       " 'bulb': array([1.5416491], dtype=float32),\n",
       " 'bless': array([1.5370314], dtype=float32),\n",
       " 'nominate': array([1.5350885], dtype=float32),\n",
       " 'premature': array([1.5340354], dtype=float32),\n",
       " 'convict': array([1.5326632], dtype=float32),\n",
       " 'safari': array([1.5324451], dtype=float32),\n",
       " 'fuss': array([1.5287129], dtype=float32),\n",
       " 'cater': array([1.5285116], dtype=float32),\n",
       " 'queue': array([1.5282216], dtype=float32),\n",
       " 'tidy': array([1.5271881], dtype=float32),\n",
       " 'timetable': array([1.5270019], dtype=float32),\n",
       " 'fig': array([1.5269557], dtype=float32),\n",
       " 'scrape': array([1.5244126], dtype=float32),\n",
       " 'reproduce': array([1.5229212], dtype=float32),\n",
       " 'buffet': array([1.5226705], dtype=float32),\n",
       " 'consolidate': array([1.5223818], dtype=float32),\n",
       " 'rib': array([1.5216395], dtype=float32),\n",
       " 'neglect': array([1.521408], dtype=float32),\n",
       " 'looting': array([1.5207301], dtype=float32),\n",
       " 'peel': array([1.5200865], dtype=float32),\n",
       " 'persist': array([1.5166957], dtype=float32),\n",
       " 'flush': array([1.5148453], dtype=float32),\n",
       " 'testify': array([1.5140786], dtype=float32),\n",
       " 'vein': array([1.513772], dtype=float32),\n",
       " 'handy': array([1.5136358], dtype=float32),\n",
       " 'morale': array([1.5134082], dtype=float32),\n",
       " 'slump': array([1.5119914], dtype=float32),\n",
       " 'horseshoe': array([1.5117663], dtype=float32),\n",
       " 'mold': array([1.5117389], dtype=float32),\n",
       " 'nun': array([1.5111247], dtype=float32),\n",
       " 'straw': array([1.5106646], dtype=float32),\n",
       " 'beg': array([1.5095707], dtype=float32),\n",
       " 'rotten': array([1.5085797], dtype=float32),\n",
       " 'supplementary': array([1.5083458], dtype=float32),\n",
       " 'lend': array([1.5077661], dtype=float32),\n",
       " 'courtship': array([1.5077631], dtype=float32),\n",
       " 'negligence': array([1.507544], dtype=float32),\n",
       " 'shrink': array([1.5065769], dtype=float32),\n",
       " 'thirsty': array([1.5062048], dtype=float32),\n",
       " 'limb': array([1.5054804], dtype=float32),\n",
       " 'pony': array([1.5045601], dtype=float32),\n",
       " 'clearance': array([1.5034705], dtype=float32),\n",
       " 'password': array([1.5023696], dtype=float32),\n",
       " 'jockey': array([1.5019944], dtype=float32),\n",
       " 'calf': array([1.501714], dtype=float32),\n",
       " 'agile': array([1.5016476], dtype=float32),\n",
       " 'urine': array([1.5011127], dtype=float32),\n",
       " 'tenant': array([1.500634], dtype=float32),\n",
       " 'straighten': array([1.4998996], dtype=float32),\n",
       " 'contraction': array([1.4993006], dtype=float32),\n",
       " 'elect': array([1.4984303], dtype=float32),\n",
       " 'nap': array([1.4983753], dtype=float32),\n",
       " 'confuse': array([1.4981755], dtype=float32),\n",
       " 'auditor': array([1.4970117], dtype=float32),\n",
       " 'bland': array([1.496944], dtype=float32),\n",
       " 'knit': array([1.4968114], dtype=float32),\n",
       " 'widen': array([1.4950275], dtype=float32),\n",
       " 'afford': array([1.494259], dtype=float32),\n",
       " 'surround': array([1.4933244], dtype=float32),\n",
       " 'tire': array([1.4919097], dtype=float32),\n",
       " 'fold': array([1.491009], dtype=float32),\n",
       " 'rubbish': array([1.4892883], dtype=float32),\n",
       " 'ton': array([1.4891968], dtype=float32),\n",
       " 'grind': array([1.4884962], dtype=float32),\n",
       " 'tolerant': array([1.4882324], dtype=float32),\n",
       " 'hemisphere': array([1.4872127], dtype=float32),\n",
       " 'pumpkin': array([1.4869908], dtype=float32),\n",
       " 'stain': array([1.4869127], dtype=float32),\n",
       " 'onion': array([1.4863235], dtype=float32),\n",
       " 'ballot': array([1.4859542], dtype=float32),\n",
       " 'wage': array([1.4858118], dtype=float32),\n",
       " 'brink': array([1.4857109], dtype=float32),\n",
       " 'choke': array([1.484928], dtype=float32),\n",
       " 'pill': array([1.4841292], dtype=float32),\n",
       " 'fare': array([1.483952], dtype=float32),\n",
       " 'chalk': array([1.4837917], dtype=float32),\n",
       " 'relaxation': array([1.483181], dtype=float32),\n",
       " 'flock': array([1.4830317], dtype=float32),\n",
       " 'headline': array([1.4827284], dtype=float32),\n",
       " 'pawn': array([1.4825827], dtype=float32),\n",
       " 'mole': array([1.4822327], dtype=float32),\n",
       " 'recommend': array([1.4821758], dtype=float32),\n",
       " 'mourning': array([1.4819607], dtype=float32),\n",
       " 'oven': array([1.481856], dtype=float32),\n",
       " 'translate': array([1.4818182], dtype=float32),\n",
       " 'deter': array([1.4816393], dtype=float32),\n",
       " 'fibre': array([1.4810513], dtype=float32),\n",
       " 'curl': array([1.4808818], dtype=float32),\n",
       " 'deserve': array([1.4805726], dtype=float32),\n",
       " 'exempt': array([1.4804214], dtype=float32),\n",
       " 'overlook': array([1.4803544], dtype=float32),\n",
       " 'reconcile': array([1.4801259], dtype=float32),\n",
       " 'correspond': array([1.4800453], dtype=float32),\n",
       " 'shatter': array([1.4797943], dtype=float32),\n",
       " 'chimney': array([1.478665], dtype=float32),\n",
       " 'pest': array([1.478532], dtype=float32),\n",
       " 'correction': array([1.477345], dtype=float32),\n",
       " 'squash': array([1.4773153], dtype=float32),\n",
       " 'quota': array([1.4772284], dtype=float32),\n",
       " 'sniff': array([1.4769629], dtype=float32),\n",
       " 'exclude': array([1.4764881], dtype=float32),\n",
       " 'tumble': array([1.4762008], dtype=float32),\n",
       " 'stall': array([1.4760386], dtype=float32),\n",
       " 'lick': array([1.4755179], dtype=float32),\n",
       " 'ample': array([1.4740299], dtype=float32),\n",
       " 'vegetarian': array([1.4735466], dtype=float32),\n",
       " 'convenience': array([1.4733558], dtype=float32),\n",
       " 'wardrobe': array([1.4733464], dtype=float32),\n",
       " 'peanut': array([1.472999], dtype=float32),\n",
       " 'bait': array([1.4727447], dtype=float32),\n",
       " 'concession': array([1.4726909], dtype=float32),\n",
       " 'neighbour': array([1.4726566], dtype=float32),\n",
       " 'forbid': array([1.472335], dtype=float32),\n",
       " 'differ': array([1.4721574], dtype=float32),\n",
       " 'bleed': array([1.4714284], dtype=float32),\n",
       " 'constellation': array([1.4711851], dtype=float32),\n",
       " 'flourish': array([1.4703628], dtype=float32),\n",
       " 'disclose': array([1.4702191], dtype=float32),\n",
       " 'discourage': array([1.4699888], dtype=float32),\n",
       " 'justify': array([1.4693199], dtype=float32),\n",
       " 'clarify': array([1.4692426], dtype=float32),\n",
       " 'chord': array([1.4686444], dtype=float32),\n",
       " 'deviation': array([1.4683917], dtype=float32),\n",
       " 'lid': array([1.4681611], dtype=float32),\n",
       " 'cancel': array([1.4677806], dtype=float32),\n",
       " 'theorist': array([1.4674829], dtype=float32),\n",
       " 'disgrace': array([1.4673289], dtype=float32),\n",
       " 'classify': array([1.4661942], dtype=float32),\n",
       " 'slant': array([1.4660146], dtype=float32),\n",
       " 'appetite': array([1.4654131], dtype=float32),\n",
       " 'kinship': array([1.4652009], dtype=float32),\n",
       " 'nail': array([1.4651295], dtype=float32),\n",
       " 'exception': array([1.4646946], dtype=float32),\n",
       " 'leak': array([1.4646536], dtype=float32),\n",
       " 'gem': array([1.4638909], dtype=float32),\n",
       " 'dash': array([1.4636925], dtype=float32),\n",
       " 'recession': array([1.4635676], dtype=float32),\n",
       " 'stab': array([1.4632796], dtype=float32),\n",
       " 'creed': array([1.4629757], dtype=float32),\n",
       " 'embark': array([1.4626317], dtype=float32),\n",
       " 'trench': array([1.4622611], dtype=float32),\n",
       " 'bald': array([1.4621651], dtype=float32),\n",
       " 'receipt': array([1.4620378], dtype=float32),\n",
       " 'miner': array([1.4616656], dtype=float32),\n",
       " 'bargain': array([1.4616215], dtype=float32),\n",
       " 'petty': array([1.4614681], dtype=float32),\n",
       " 'dependence': array([1.461194], dtype=float32),\n",
       " 'foreigner': array([1.4603695], dtype=float32),\n",
       " 'drain': array([1.4600717], dtype=float32),\n",
       " 'magnitude': array([1.459365], dtype=float32),\n",
       " 'charismatic': array([1.4590217], dtype=float32),\n",
       " 'bind': array([1.4588466], dtype=float32),\n",
       " 'printer': array([1.4581354], dtype=float32),\n",
       " 'crouch': array([1.4579638], dtype=float32),\n",
       " 'sermon': array([1.4571548], dtype=float32),\n",
       " 'gradient': array([1.4570898], dtype=float32),\n",
       " 'divide': array([1.4567732], dtype=float32),\n",
       " 'seller': array([1.4564188], dtype=float32),\n",
       " 'nut': array([1.4561218], dtype=float32),\n",
       " 'obstacle': array([1.4561028], dtype=float32),\n",
       " 'coincide': array([1.4558445], dtype=float32),\n",
       " 'diet': array([1.4556952], dtype=float32),\n",
       " 'attic': array([1.4553225], dtype=float32),\n",
       " 'disagree': array([1.4552927], dtype=float32),\n",
       " 'hesitate': array([1.4546508], dtype=float32),\n",
       " 'disposition': array([1.4541883], dtype=float32),\n",
       " 'pray': array([1.453594], dtype=float32),\n",
       " 'entertain': array([1.4533633], dtype=float32),\n",
       " 'stride': array([1.4532412], dtype=float32),\n",
       " 'warrant': array([1.4529904], dtype=float32),\n",
       " 'pardon': array([1.4513443], dtype=float32),\n",
       " 'forge': array([1.4512624], dtype=float32),\n",
       " 'insist': array([1.4510825], dtype=float32),\n",
       " 'glide': array([1.4508538], dtype=float32),\n",
       " 'contradiction': array([1.4506795], dtype=float32),\n",
       " 'directory': array([1.4498229], dtype=float32),\n",
       " 'reliance': array([1.4498168], dtype=float32),\n",
       " 'scratch': array([1.4496822], dtype=float32),\n",
       " 'tick': array([1.4496003], dtype=float32),\n",
       " 'rehearsal': array([1.4495991], dtype=float32),\n",
       " 'glove': array([1.449598], dtype=float32),\n",
       " 'remedy': array([1.4490252], dtype=float32),\n",
       " 'ambiguity': array([1.4487689], dtype=float32),\n",
       " 'impress': array([1.4482661], dtype=float32),\n",
       " 'contrary': array([1.4480518], dtype=float32),\n",
       " 'conscience': array([1.4478432], dtype=float32),\n",
       " 'offender': array([1.4477129], dtype=float32),\n",
       " 'offset': array([1.4475389], dtype=float32),\n",
       " 'sour': array([1.4468577], dtype=float32),\n",
       " 'insistence': array([1.4467986], dtype=float32),\n",
       " 'rotate': array([1.4467326], dtype=float32),\n",
       " 'royalty': array([1.4455571], dtype=float32),\n",
       " 'braid': array([1.4451718], dtype=float32),\n",
       " 'chop': array([1.4445804], dtype=float32),\n",
       " 'pudding': array([1.4445593], dtype=float32),\n",
       " 'competence': array([1.4441499], dtype=float32),\n",
       " 'liability': array([1.4440517], dtype=float32),\n",
       " 'default': array([1.4436533], dtype=float32),\n",
       " 'mushroom': array([1.4436455], dtype=float32),\n",
       " 'swear': array([1.4433321], dtype=float32),\n",
       " 'toast': array([1.4432325], dtype=float32),\n",
       " 'toll': array([1.4426275], dtype=float32),\n",
       " 'shareholder': array([1.4425322], dtype=float32),\n",
       " 'kite': array([1.4424763], dtype=float32),\n",
       " 'breakdown': array([1.442267], dtype=float32),\n",
       " 'drown': array([1.4422125], dtype=float32),\n",
       " 'craftsman': array([1.441989], dtype=float32),\n",
       " 'favour': array([1.4418726], dtype=float32),\n",
       " 'plaster': array([1.4418015], dtype=float32),\n",
       " 'grimace': array([1.4417077], dtype=float32),\n",
       " 'skip': array([1.4416149], dtype=float32),\n",
       " 'dentist': array([1.4414726], dtype=float32),\n",
       " 'lump': array([1.4410592], dtype=float32),\n",
       " 'illustrate': array([1.4407445], dtype=float32),\n",
       " 'borrow': array([1.440426], dtype=float32),\n",
       " 'occupy': array([1.4402815], dtype=float32),\n",
       " 'strap': array([1.4399958], dtype=float32),\n",
       " 'aquarium': array([1.4398605], dtype=float32),\n",
       " 'brake': array([1.4397551], dtype=float32),\n",
       " 'accumulation': array([1.439196], dtype=float32),\n",
       " 'voter': array([1.4386072], dtype=float32),\n",
       " 'quarrel': array([1.4383584], dtype=float32),\n",
       " 'drill': array([1.4380502], dtype=float32),\n",
       " 'exceed': array([1.437874], dtype=float32),\n",
       " 'colon': array([1.4377165], dtype=float32),\n",
       " 'ivory': array([1.4374198], dtype=float32),\n",
       " 'norm': array([1.4372456], dtype=float32),\n",
       " 'penetrate': array([1.4371288], dtype=float32),\n",
       " 'monopoly': array([1.4367288], dtype=float32),\n",
       " 'twitch': array([1.4364612], dtype=float32),\n",
       " 'aisle': array([1.4364016], dtype=float32),\n",
       " 'tolerate': array([1.4358214], dtype=float32),\n",
       " 'lung': array([1.4357072], dtype=float32),\n",
       " 'childish': array([1.4356362], dtype=float32),\n",
       " 'haul': array([1.4354764], dtype=float32),\n",
       " 'stitch': array([1.4354503], dtype=float32),\n",
       " 'incapable': array([1.4349699], dtype=float32),\n",
       " 'perceive': array([1.4348282], dtype=float32),\n",
       " 'shortage': array([1.4347702], dtype=float32),\n",
       " 'dorm': array([1.4344628], dtype=float32),\n",
       " 'restrain': array([1.4339616], dtype=float32),\n",
       " 'freighter': array([1.4334073], dtype=float32),\n",
       " 'snatch': array([1.4333003], dtype=float32),\n",
       " 'handicap': array([1.4331123], dtype=float32),\n",
       " 'spill': array([1.4330409], dtype=float32),\n",
       " 'dominate': array([1.4329832], dtype=float32),\n",
       " 'slippery': array([1.4327744], dtype=float32),\n",
       " 'tract': array([1.432636], dtype=float32),\n",
       " 'mosquito': array([1.4325743], dtype=float32),\n",
       " 'exploit': array([1.432479], dtype=float32),\n",
       " 'inhibition': array([1.4317266], dtype=float32),\n",
       " 'maze': array([1.4316386], dtype=float32),\n",
       " 'dare': array([1.4309012], dtype=float32),\n",
       " 'crusade': array([1.4307889], dtype=float32),\n",
       " 'mutual': array([1.4307173], dtype=float32),\n",
       " 'sustain': array([1.4301815], dtype=float32),\n",
       " 'pity': array([1.43011], dtype=float32),\n",
       " 'threaten': array([1.4296124], dtype=float32),\n",
       " 'exemption': array([1.429389], dtype=float32),\n",
       " 'forecast': array([1.4291605], dtype=float32),\n",
       " 'outlook': array([1.4287213], dtype=float32),\n",
       " 'repetition': array([1.4284471], dtype=float32),\n",
       " 'retire': array([1.4282922], dtype=float32),\n",
       " 'ignorance': array([1.4282674], dtype=float32),\n",
       " 'indirect': array([1.4278791], dtype=float32),\n",
       " 'implicit': array([1.4276589], dtype=float32),\n",
       " 'restrict': array([1.4276282], dtype=float32),\n",
       " 'hike': array([1.4268173], dtype=float32),\n",
       " 'paralyzed': array([1.4267839], dtype=float32),\n",
       " 'implication': array([1.4267153], dtype=float32),\n",
       " 'ditch': array([1.4265326], dtype=float32),\n",
       " 'deficit': array([1.4265237], dtype=float32),\n",
       " 'parachute': array([1.4261627], dtype=float32),\n",
       " 'creep': array([1.4260442], dtype=float32),\n",
       " 'blame': array([1.4255136], dtype=float32),\n",
       " 'pigeon': array([1.4254601], dtype=float32),\n",
       " 'fixture': array([1.4254211], dtype=float32),\n",
       " 'snap': array([1.4253601], dtype=float32),\n",
       " 'repeat': array([1.4253074], dtype=float32),\n",
       " 'addicted': array([1.4251325], dtype=float32),\n",
       " 'survivor': array([1.425073], dtype=float32),\n",
       " 'jar': array([1.4250115], dtype=float32),\n",
       " 'soprano': array([1.4249879], dtype=float32),\n",
       " 'reinforce': array([1.4248707], dtype=float32),\n",
       " 'allowance': array([1.4243796], dtype=float32),\n",
       " 'remind': array([1.4241517], dtype=float32),\n",
       " 'relieve': array([1.4237653], dtype=float32),\n",
       " 'heel': array([1.423716], dtype=float32),\n",
       " 'spare': array([1.423655], dtype=float32),\n",
       " 'skeleton': array([1.4236261], dtype=float32),\n",
       " 'sting': array([1.4228128], dtype=float32),\n",
       " 'nursery': array([1.4226763], dtype=float32),\n",
       " 'slot': array([1.4224937], dtype=float32),\n",
       " 'paradox': array([1.4224253], dtype=float32),\n",
       " 'crop': array([1.4223622], dtype=float32),\n",
       " 'poll': array([1.4223363], dtype=float32),\n",
       " 'highlight': array([1.4220521], dtype=float32),\n",
       " 'jelly': array([1.4218014], dtype=float32),\n",
       " 'snack': array([1.4216179], dtype=float32),\n",
       " 'pupil': array([1.4214591], dtype=float32),\n",
       " 'warn': array([1.4212286], dtype=float32),\n",
       " 'presidency': array([1.4210945], dtype=float32),\n",
       " 'cereal': array([1.4209198], dtype=float32),\n",
       " 'deficiency': array([1.4207819], dtype=float32),\n",
       " 'sleeve': array([1.4206302], dtype=float32),\n",
       " 'flawed': array([1.4203525], dtype=float32),\n",
       " 'apparatus': array([1.4201359], dtype=float32),\n",
       " 'hobby': array([1.4198015], dtype=float32),\n",
       " 'dough': array([1.4197756], dtype=float32),\n",
       " 'inflation': array([1.4197633], dtype=float32),\n",
       " 'weave': array([1.4196657], dtype=float32),\n",
       " 'carrot': array([1.4196512], dtype=float32),\n",
       " 'linger': array([1.4196333], dtype=float32),\n",
       " 'expectation': array([1.4193395], dtype=float32),\n",
       " 'deposit': array([1.4188495], dtype=float32),\n",
       " 'pier': array([1.4186783], dtype=float32),\n",
       " 'embryo': array([1.4179778], dtype=float32),\n",
       " 'scrap': array([1.4177235], dtype=float32),\n",
       " 'distortion': array([1.4175647], dtype=float32),\n",
       " 'reluctance': array([1.4173001], dtype=float32),\n",
       " 'scan': array([1.4171441], dtype=float32),\n",
       " 'pepper': array([1.4169573], dtype=float32),\n",
       " 'stroll': array([1.4164815], dtype=float32),\n",
       " 'interrupt': array([1.4162596], dtype=float32),\n",
       " 'trivial': array([1.4161924], dtype=float32),\n",
       " 'bend': array([1.4161255], dtype=float32),\n",
       " 'garlic': array([1.4157428], dtype=float32),\n",
       " 'expenditure': array([1.4156868], dtype=float32),\n",
       " 'knot': array([1.41529], dtype=float32),\n",
       " 'dressing': array([1.4152764], dtype=float32),\n",
       " 'skate': array([1.414963], dtype=float32),\n",
       " 'ego': array([1.4149544], dtype=float32),\n",
       " 'freeze': array([1.4148896], dtype=float32),\n",
       " 'oral': array([1.4148712], dtype=float32),\n",
       " 'dismiss': array([1.414675], dtype=float32),\n",
       " 'electron': array([1.4146062], dtype=float32),\n",
       " 'rack': array([1.4145747], dtype=float32),\n",
       " 'stake': array([1.4145466], dtype=float32),\n",
       " 'combine': array([1.4144114], dtype=float32),\n",
       " 'prejudice': array([1.4143997], dtype=float32),\n",
       " 'patent': array([1.4142812], dtype=float32),\n",
       " 'incentive': array([1.4142607], dtype=float32),\n",
       " 'bury': array([1.4142132], dtype=float32),\n",
       " 'provoke': array([1.4138633], dtype=float32),\n",
       " 'hilarious': array([1.4138508], dtype=float32),\n",
       " 'plaintiff': array([1.4135069], dtype=float32),\n",
       " 'whip': array([1.4133978], dtype=float32),\n",
       " 'sickness': array([1.4128296], dtype=float32),\n",
       " 'restriction': array([1.4127537], dtype=float32),\n",
       " 'fork': array([1.4127125], dtype=float32),\n",
       " 'ancestor': array([1.4125487], dtype=float32),\n",
       " 'detector': array([1.4123908], dtype=float32),\n",
       " 'tendency': array([1.4117465], dtype=float32),\n",
       " 'distributor': array([1.4117073], dtype=float32),\n",
       " 'circumstance': array([1.4113568], dtype=float32),\n",
       " 'veil': array([1.4111867], dtype=float32),\n",
       " 'pasture': array([1.4111606], dtype=float32),\n",
       " 'admire': array([1.4110374], dtype=float32),\n",
       " 'behave': array([1.4109193], dtype=float32),\n",
       " 'fling': array([1.4101584], dtype=float32),\n",
       " 'asylum': array([1.4099538], dtype=float32),\n",
       " 'circulation': array([1.4099039], dtype=float32),\n",
       " 'copyright': array([1.4095883], dtype=float32),\n",
       " 'hut': array([1.409471], dtype=float32),\n",
       " 'stamp': array([1.4094299], dtype=float32),\n",
       " 'pour': array([1.4090887], dtype=float32),\n",
       " 'sum': array([1.4090371], dtype=float32),\n",
       " 'worth': array([1.4087206], dtype=float32),\n",
       " 'screw': array([1.4084558], dtype=float32),\n",
       " 'sip': array([1.4082769], dtype=float32),\n",
       " 'unaware': array([1.4082708], dtype=float32),\n",
       " 'bang': array([1.4082161], dtype=float32),\n",
       " 'contempt': array([1.4081265], dtype=float32),\n",
       " 'literacy': array([1.4081109], dtype=float32),\n",
       " 'betray': array([1.4081043], dtype=float32),\n",
       " 'tender': array([1.4080933], dtype=float32),\n",
       " 'trolley': array([1.407978], dtype=float32),\n",
       " 'hostage': array([1.4077252], dtype=float32),\n",
       " 'astonishing': array([1.4075226], dtype=float32),\n",
       " 'farewell': array([1.4071325], dtype=float32),\n",
       " 'diagram': array([1.4070623], dtype=float32),\n",
       " 'outlet': array([1.406973], dtype=float32),\n",
       " 'extinct': array([1.4068307], dtype=float32),\n",
       " 'brilliance': array([1.4068061], dtype=float32),\n",
       " 'donor': array([1.4061798], dtype=float32),\n",
       " 'weed': array([1.4060638], dtype=float32),\n",
       " 'lamb': array([1.4060167], dtype=float32),\n",
       " 'menu': array([1.4058859], dtype=float32),\n",
       " 'revive': array([1.4058353], dtype=float32),\n",
       " 'adjust': array([1.4058069], dtype=float32),\n",
       " 'linen': array([1.4057723], dtype=float32),\n",
       " 'memorandum': array([1.4057199], dtype=float32),\n",
       " 'favourite': array([1.4053626], dtype=float32),\n",
       " 'consensus': array([1.4053571], dtype=float32),\n",
       " 'strawberry': array([1.4049768], dtype=float32),\n",
       " 'offense': array([1.4047506], dtype=float32),\n",
       " 'licence': array([1.4044344], dtype=float32),\n",
       " 'isolation': array([1.4041047], dtype=float32),\n",
       " 'habit': array([1.4037471], dtype=float32),\n",
       " 'acquaintance': array([1.403485], dtype=float32),\n",
       " 'injection': array([1.4033768], dtype=float32),\n",
       " 'boot': array([1.4028624], dtype=float32),\n",
       " 'credibility': array([1.4025499], dtype=float32),\n",
       " 'custody': array([1.4024692], dtype=float32),\n",
       " 'correspondence': array([1.4022249], dtype=float32),\n",
       " 'approve': array([1.402092], dtype=float32),\n",
       " 'occasion': array([1.4020058], dtype=float32),\n",
       " 'restraint': array([1.401934], dtype=float32),\n",
       " 'hen': array([1.4016528], dtype=float32),\n",
       " 'ant': array([1.4012378], dtype=float32),\n",
       " 'salon': array([1.4001752], dtype=float32),\n",
       " 'traction': array([1.3996705], dtype=float32),\n",
       " 'immune': array([1.3996634], dtype=float32),\n",
       " 'rub': array([1.3994936], dtype=float32),\n",
       " 'fail': array([1.3991066], dtype=float32),\n",
       " 'constraint': array([1.3989313], dtype=float32),\n",
       " 'unlawful': array([1.398609], dtype=float32),\n",
       " 'overview': array([1.3984085], dtype=float32),\n",
       " 'trance': array([1.3982186], dtype=float32),\n",
       " 'whale': array([1.3981515], dtype=float32),\n",
       " 'swell': array([1.3981], dtype=float32),\n",
       " 'definite': array([1.397892], dtype=float32),\n",
       " 'allocation': array([1.3978314], dtype=float32),\n",
       " 'favor': array([1.3978256], dtype=float32),\n",
       " 'dose': array([1.3976771], dtype=float32),\n",
       " 'stimulation': array([1.3974371], dtype=float32),\n",
       " 'vigorous': array([1.397407], dtype=float32),\n",
       " 'seize': array([1.3972254], dtype=float32),\n",
       " 'domination': array([1.3966922], dtype=float32),\n",
       " 'cane': array([1.3965373], dtype=float32),\n",
       " 'rumor': array([1.3962486], dtype=float32),\n",
       " 'absorption': array([1.3960837], dtype=float32),\n",
       " 'nerve': array([1.3952816], dtype=float32),\n",
       " 'clash': array([1.3949854], dtype=float32),\n",
       " 'accompany': array([1.3947786], dtype=float32),\n",
       " 'unanimous': array([1.3944045], dtype=float32),\n",
       " 'excuse': array([1.3943905], dtype=float32),\n",
       " 'spit': array([1.3943048], dtype=float32),\n",
       " 'vacuum': array([1.3942027], dtype=float32),\n",
       " 'spokesperson': array([1.3938016], dtype=float32),\n",
       " 'depend': array([1.3936057], dtype=float32),\n",
       " 'wander': array([1.3935901], dtype=float32),\n",
       " 'crude': array([1.3934084], dtype=float32),\n",
       " 'tap': array([1.393313], dtype=float32),\n",
       " 'pension': array([1.3933085], dtype=float32),\n",
       " 'convert': array([1.3930726], dtype=float32),\n",
       " 'stem': array([1.3928552], dtype=float32),\n",
       " 'tease': array([1.3925465], dtype=float32),\n",
       " 'shine': array([1.3923527], dtype=float32),\n",
       " 'feather': array([1.3922867], dtype=float32),\n",
       " 'landowner': array([1.391722], dtype=float32),\n",
       " 'sticky': array([1.3910359], dtype=float32),\n",
       " 'denial': array([1.3908368], dtype=float32),\n",
       " 'bark': array([1.3904415], dtype=float32),\n",
       " 'absorb': array([1.38965], dtype=float32),\n",
       " 'slab': array([1.3896328], dtype=float32),\n",
       " 'precedent': array([1.3895822], dtype=float32),\n",
       " 'therapist': array([1.389372], dtype=float32),\n",
       " 'abortion': array([1.3892664], dtype=float32),\n",
       " 'flex': array([1.3892455], dtype=float32),\n",
       " 'fisherman': array([1.3891537], dtype=float32),\n",
       " 'fault': array([1.3890711], dtype=float32),\n",
       " 'negotiation': array([1.3890591], dtype=float32),\n",
       " 'cassette': array([1.3887933], dtype=float32),\n",
       " 'node': array([1.3886424], dtype=float32),\n",
       " 'lease': array([1.3885654], dtype=float32),\n",
       " 'jury': array([1.388534], dtype=float32),\n",
       " 'irony': array([1.3884081], dtype=float32),\n",
       " 'bin': array([1.3882015], dtype=float32),\n",
       " 'continuation': array([1.3880178], dtype=float32),\n",
       " 'greeting': array([1.3879219], dtype=float32),\n",
       " 'impulse': array([1.3879218], dtype=float32),\n",
       " 'import': array([1.3877258], dtype=float32),\n",
       " 'prediction': array([1.3877237], dtype=float32),\n",
       " 'log': array([1.3877119], dtype=float32),\n",
       " 'bee': array([1.3875144], dtype=float32),\n",
       " 'posture': array([1.387347], dtype=float32),\n",
       " 'troop': array([1.38732], dtype=float32),\n",
       " 'proportion': array([1.3873025], dtype=float32),\n",
       " 'toss': array([1.3873003], dtype=float32),\n",
       " 'prescription': array([1.3871279], dtype=float32),\n",
       " 'affinity': array([1.3870262], dtype=float32),\n",
       " 'reverse': array([1.386848], dtype=float32),\n",
       " 'anniversary': array([1.386386], dtype=float32),\n",
       " 'strain': array([1.3862362], dtype=float32),\n",
       " 'seal': array([1.3858362], dtype=float32),\n",
       " 'bubble': array([1.3853326], dtype=float32),\n",
       " 'smash': array([1.3850754], dtype=float32),\n",
       " 'tactic': array([1.3846971], dtype=float32),\n",
       " 'salvation': array([1.3846818], dtype=float32),\n",
       " 'realism': array([1.384631], dtype=float32),\n",
       " 'referee': array([1.3845983], dtype=float32),\n",
       " 'soap': array([1.384551], dtype=float32),\n",
       " 'refer': array([1.3841431], dtype=float32),\n",
       " 'dip': array([1.3839902], dtype=float32),\n",
       " 'resign': array([1.3838071], dtype=float32),\n",
       " 'dish': array([1.383775], dtype=float32),\n",
       " 'expose': array([1.3836135], dtype=float32),\n",
       " 'mosaic': array([1.3829618], dtype=float32),\n",
       " 'worm': array([1.3828462], dtype=float32),\n",
       " 'systematic': array([1.3827708], dtype=float32),\n",
       " 'coincidence': array([1.3826532], dtype=float32),\n",
       " 'bundle': array([1.3824553], dtype=float32),\n",
       " 'salad': array([1.3822027], dtype=float32),\n",
       " 'horizon': array([1.3814702], dtype=float32),\n",
       " 'ecstasy': array([1.3814108], dtype=float32),\n",
       " 'temptation': array([1.3811315], dtype=float32),\n",
       " 'simplicity': array([1.3810833], dtype=float32),\n",
       " 'mug': array([1.3810662], dtype=float32),\n",
       " 'virtue': array([1.3809084], dtype=float32),\n",
       " 'solve': array([1.380802], dtype=float32),\n",
       " 'outline': array([1.38074], dtype=float32),\n",
       " 'nest': array([1.3804603], dtype=float32),\n",
       " 'draft': array([1.380104], dtype=float32),\n",
       " 'obligation': array([1.3798453], dtype=float32),\n",
       " 'predict': array([1.379443], dtype=float32),\n",
       " 'basket': array([1.37926], dtype=float32),\n",
       " 'unfair': array([1.3791965], dtype=float32),\n",
       " 'thread': array([1.3789952], dtype=float32),\n",
       " 'minimize': array([1.3785704], dtype=float32),\n",
       " 'drift': array([1.3779287], dtype=float32),\n",
       " 'banquet': array([1.3773744], dtype=float32),\n",
       " 'complain': array([1.3772751], dtype=float32),\n",
       " 'torch': array([1.3769459], dtype=float32),\n",
       " 'pledge': array([1.3768837], dtype=float32),\n",
       " 'cooperate': array([1.3768554], dtype=float32),\n",
       " 'cunning': array([1.3767989], dtype=float32),\n",
       " 'pound': array([1.3764797], dtype=float32),\n",
       " 'drawer': array([1.3762873], dtype=float32),\n",
       " 'thank': array([1.3762305], dtype=float32),\n",
       " 'wreck': array([1.3758206], dtype=float32),\n",
       " 'hospitality': array([1.3758094], dtype=float32),\n",
       " 'eyebrow': array([1.3756254], dtype=float32),\n",
       " 'compose': array([1.3754122], dtype=float32),\n",
       " 'projection': array([1.3751162], dtype=float32),\n",
       " 'execute': array([1.3749719], dtype=float32),\n",
       " 'nonsense': array([1.3749119], dtype=float32),\n",
       " 'sin': array([1.374704], dtype=float32),\n",
       " 'guarantee': array([1.374682], dtype=float32),\n",
       " 'decay': array([1.3746691], dtype=float32),\n",
       " 'conception': array([1.3742917], dtype=float32),\n",
       " 'salmon': array([1.3740757], dtype=float32),\n",
       " 'refuse': array([1.373995], dtype=float32),\n",
       " 'compliance': array([1.3738463], dtype=float32),\n",
       " 'organ': array([1.3737202], dtype=float32),\n",
       " 'inspire': array([1.3735228], dtype=float32),\n",
       " 'pneumonia': array([1.3732126], dtype=float32),\n",
       " 'dismissal': array([1.372939], dtype=float32),\n",
       " 'disco': array([1.3727589], dtype=float32),\n",
       " 'owl': array([1.3727531], dtype=float32),\n",
       " 'insert': array([1.372673], dtype=float32),\n",
       " 'fit': array([1.372648], dtype=float32),\n",
       " 'spite': array([1.3722053], dtype=float32),\n",
       " 'discount': array([1.3721874], dtype=float32),\n",
       " 'bean': array([1.3719003], dtype=float32),\n",
       " 'proposition': array([1.3716874], dtype=float32),\n",
       " 'grain': array([1.3714563], dtype=float32),\n",
       " 'ignorant': array([1.3713694], dtype=float32),\n",
       " 'accent': array([1.3712016], dtype=float32),\n",
       " 'attachment': array([1.3708535], dtype=float32),\n",
       " 'umbrella': array([1.3707169], dtype=float32),\n",
       " 'slam': array([1.3705705], dtype=float32),\n",
       " 'spoon': array([1.370559], dtype=float32),\n",
       " 'depart': array([1.3705188], dtype=float32),\n",
       " 'compromise': array([1.3703882], dtype=float32),\n",
       " 'orbit': array([1.3702124], dtype=float32),\n",
       " 'preference': array([1.3700843], dtype=float32),\n",
       " 'quote': array([1.3696486], dtype=float32),\n",
       " 'miracle': array([1.3693185], dtype=float32),\n",
       " 'egg': array([1.3693018], dtype=float32),\n",
       " 'lesson': array([1.36925], dtype=float32),\n",
       " 'grave': array([1.3690321], dtype=float32),\n",
       " 'tie': array([1.3690033], dtype=float32),\n",
       " 'reflection': array([1.368852], dtype=float32),\n",
       " 'pencil': array([1.368829], dtype=float32),\n",
       " 'appoint': array([1.3686177], dtype=float32),\n",
       " 'recruit': array([1.3685502], dtype=float32),\n",
       " 'herd': array([1.3684351], dtype=float32),\n",
       " 'cope': array([1.3682963], dtype=float32),\n",
       " 'bulletin': array([1.3681679], dtype=float32),\n",
       " 'spontaneous': array([1.3678585], dtype=float32),\n",
       " 'greet': array([1.3678378], dtype=float32),\n",
       " 'auction': array([1.3677255], dtype=float32),\n",
       " 'tear': array([1.3676988], dtype=float32),\n",
       " 'fade': array([1.3675244], dtype=float32),\n",
       " 'taxi': array([1.367332], dtype=float32),\n",
       " 'curtain': array([1.367279], dtype=float32),\n",
       " 'tablet': array([1.3672663], dtype=float32),\n",
       " 'obscure': array([1.3668566], dtype=float32),\n",
       " 'rotation': array([1.3664525], dtype=float32),\n",
       " 'faithful': array([1.3664397], dtype=float32),\n",
       " 'withdrawal': array([1.3663443], dtype=float32),\n",
       " 'wool': array([1.3661819], dtype=float32),\n",
       " 'homosexual': array([1.3660309], dtype=float32),\n",
       " 'blackmail': array([1.3659474], dtype=float32),\n",
       " 'jam': array([1.365923], dtype=float32),\n",
       " 'interference': array([1.365913], dtype=float32),\n",
       " 'liver': array([1.365858], dtype=float32),\n",
       " 'banana': array([1.365766], dtype=float32),\n",
       " 'shy': array([1.3655869], dtype=float32),\n",
       " 'install': array([1.3654791], dtype=float32),\n",
       " 'distribute': array([1.365277], dtype=float32),\n",
       " 'harmful': array([1.3651979], dtype=float32),\n",
       " 'coup': array([1.3647264], dtype=float32),\n",
       " 'integrity': array([1.3647249], dtype=float32),\n",
       " 'snail': array([1.364709], dtype=float32),\n",
       " 'trait': array([1.3646866], dtype=float32),\n",
       " 'laundry': array([1.3644493], dtype=float32),\n",
       " 'stool': array([1.3637022], dtype=float32),\n",
       " 'harm': array([1.3636832], dtype=float32),\n",
       " 'perfume': array([1.3635349], dtype=float32),\n",
       " 'retailer': array([1.363464], dtype=float32),\n",
       " 'bet': array([1.3634288], dtype=float32),\n",
       " 'prosecution': array([1.3632427], dtype=float32),\n",
       " 'rally': array([1.3631775], dtype=float32),\n",
       " 'fraction': array([1.3630884], dtype=float32),\n",
       " 'root': array([1.3630669], dtype=float32),\n",
       " 'relevance': array([1.3628944], dtype=float32),\n",
       " 'galaxy': array([1.3627799], dtype=float32),\n",
       " 'plug': array([1.362768], dtype=float32),\n",
       " 'relate': array([1.3623259], dtype=float32),\n",
       " 'utter': array([1.3622262], dtype=float32),\n",
       " 'invite': array([1.3622197], dtype=float32),\n",
       " 'dilemma': array([1.3618964], dtype=float32),\n",
       " 'fashionable': array([1.361871], dtype=float32),\n",
       " 'pedestrian': array([1.3617424], dtype=float32),\n",
       " 'virgin': array([1.3617082], dtype=float32),\n",
       " 'paragraph': array([1.3616643], dtype=float32),\n",
       " 'chip': array([1.3613418], dtype=float32),\n",
       " 'rent': array([1.3609606], dtype=float32),\n",
       " 'cord': array([1.3608344], dtype=float32),\n",
       " 'weakness': array([1.3608307], dtype=float32),\n",
       " 'kit': array([1.3602743], dtype=float32),\n",
       " 'productive': array([1.3602192], dtype=float32),\n",
       " 'calendar': array([1.3601007], dtype=float32),\n",
       " 'priority': array([1.359776], dtype=float32),\n",
       " 'pet': array([1.3596622], dtype=float32),\n",
       " 'summary': array([1.3596033], dtype=float32),\n",
       " 'feminine': array([1.3594264], dtype=float32),\n",
       " 'remark': array([1.3592585], dtype=float32),\n",
       " 'sweat': array([1.3592328], dtype=float32),\n",
       " 'threshold': array([1.3591679], dtype=float32),\n",
       " 'conglomerate': array([1.3589523], dtype=float32),\n",
       " 'gradual': array([1.3588176], dtype=float32),\n",
       " 'pie': array([1.3585528], dtype=float32),\n",
       " 'ambiguous': array([1.3583872], dtype=float32),\n",
       " 'sweep': array([1.3582613], dtype=float32),\n",
       " 'mosque': array([1.3580129], dtype=float32),\n",
       " 'sunrise': array([1.3570826], dtype=float32),\n",
       " 'employ': array([1.357066], dtype=float32),\n",
       " 'mess': array([1.356991], dtype=float32),\n",
       " 'horn': array([1.3569396], dtype=float32),\n",
       " 'autonomy': array([1.3567904], dtype=float32),\n",
       " 'lazy': array([1.3566573], dtype=float32),\n",
       " 'violation': array([1.356572], dtype=float32),\n",
       " 'discreet': array([1.3563596], dtype=float32),\n",
       " 'breed': array([1.3562255], dtype=float32),\n",
       " 'cart': array([1.3557651], dtype=float32),\n",
       " 'lap': array([1.3557273], dtype=float32),\n",
       " 'gasp': array([1.3555615], dtype=float32),\n",
       " 'disability': array([1.3554844], dtype=float32),\n",
       " 'maid': array([1.3552952], dtype=float32),\n",
       " 'register': array([1.3551719], dtype=float32),\n",
       " 'recommendation': array([1.355145], dtype=float32),\n",
       " 'fragment': array([1.3550787], dtype=float32),\n",
       " 'trick': array([1.3549801], dtype=float32),\n",
       " 'jewel': array([1.3548485], dtype=float32),\n",
       " 'verdict': array([1.354797], dtype=float32),\n",
       " 'clue': array([1.3545214], dtype=float32),\n",
       " 'catalogue': array([1.354316], dtype=float32),\n",
       " 'spectrum': array([1.3541645], dtype=float32),\n",
       " 'tile': array([1.3538803], dtype=float32),\n",
       " 'quantity': array([1.3538651], dtype=float32),\n",
       " 'indication': array([1.353563], dtype=float32),\n",
       " 'neutral': array([1.3535513], dtype=float32),\n",
       " 'prestige': array([1.3532887], dtype=float32),\n",
       " 'excess': array([1.3532416], dtype=float32),\n",
       " 'dozen': array([1.3532311], dtype=float32),\n",
       " 'economist': array([1.3530186], dtype=float32),\n",
       " 'kidnap': array([1.3530124], dtype=float32),\n",
       " 'respectable': array([1.3529006], dtype=float32),\n",
       " 'steak': array([1.3527373], dtype=float32),\n",
       " 'bounce': array([1.3526534], dtype=float32),\n",
       " 'predator': array([1.3523234], dtype=float32),\n",
       " 'dictionary': array([1.351846], dtype=float32),\n",
       " 'pursuit': array([1.3517846], dtype=float32),\n",
       " 'tooth': array([1.3515028], dtype=float32),\n",
       " 'mutation': array([1.351388], dtype=float32),\n",
       " 'clock': array([1.3508888], dtype=float32),\n",
       " 'monstrous': array([1.3506724], dtype=float32),\n",
       " 'banner': array([1.3505998], dtype=float32),\n",
       " 'canvas': array([1.3505561], dtype=float32),\n",
       " 'elephant': array([1.3502843], dtype=float32),\n",
       " 'passive': array([1.3501406], dtype=float32),\n",
       " 'assumption': array([1.3501037], dtype=float32),\n",
       " 'lace': array([1.3499856], dtype=float32),\n",
       " 'depressed': array([1.349973], dtype=float32),\n",
       " 'needle': array([1.3497621], dtype=float32),\n",
       " 'fossil': array([1.3496115], dtype=float32),\n",
       " 'censorship': array([1.3492786], dtype=float32),\n",
       " 'dignity': array([1.3489964], dtype=float32),\n",
       " 'arch': array([1.348907], dtype=float32),\n",
       " 'beard': array([1.3487622], dtype=float32),\n",
       " 'deny': array([1.3487525], dtype=float32),\n",
       " 'texture': array([1.3484498], dtype=float32),\n",
       " 'explicit': array([1.3484068], dtype=float32),\n",
       " 'riot': array([1.3482251], dtype=float32),\n",
       " 'cow': array([1.3480463], dtype=float32),\n",
       " 'pitch': array([1.3478916], dtype=float32),\n",
       " 'reproduction': array([1.3478225], dtype=float32),\n",
       " 'hay': array([1.3478172], dtype=float32),\n",
       " 'instinct': array([1.3477014], dtype=float32),\n",
       " 'swarm': array([1.3476763], dtype=float32),\n",
       " 'pin': array([1.3476499], dtype=float32),\n",
       " 'merit': array([1.3474138], dtype=float32),\n",
       " 'herb': array([1.3471975], dtype=float32),\n",
       " 'spine': array([1.34707], dtype=float32),\n",
       " 'exercise': array([1.3470649], dtype=float32),\n",
       " 'sodium': array([1.346796], dtype=float32),\n",
       " 'vague': array([1.3463866], dtype=float32),\n",
       " 'calculation': array([1.3461704], dtype=float32),\n",
       " 'feedback': array([1.3459046], dtype=float32),\n",
       " 'disagreement': array([1.3454033], dtype=float32),\n",
       " 'sink': array([1.345074], dtype=float32),\n",
       " 'bat': array([1.3450364], dtype=float32),\n",
       " 'hierarchy': array([1.3448297], dtype=float32),\n",
       " 'heir': array([1.3447838], dtype=float32),\n",
       " 'pillow': array([1.3446798], dtype=float32),\n",
       " 'cellar': array([1.344609], dtype=float32),\n",
       " 'inn': array([1.3443925], dtype=float32),\n",
       " 'cruelty': array([1.3440058], dtype=float32),\n",
       " 'admission': array([1.3439523], dtype=float32),\n",
       " 'exact': array([1.3438638], dtype=float32),\n",
       " 'medium': array([1.3434958], dtype=float32),\n",
       " 'apology': array([1.3433592], dtype=float32),\n",
       " 'pot': array([1.343348], dtype=float32),\n",
       " 'packet': array([1.3429837], dtype=float32),\n",
       " 'momentum': array([1.3428668], dtype=float32),\n",
       " 'reward': array([1.3428043], dtype=float32),\n",
       " 'welcome': array([1.3424451], dtype=float32),\n",
       " 'urgency': array([1.3419617], dtype=float32),\n",
       " 'ribbon': array([1.3418814], dtype=float32),\n",
       " 'error': array([1.34184], dtype=float32),\n",
       " 'minority': array([1.3416089], dtype=float32),\n",
       " 'admit': array([1.3414973], dtype=float32),\n",
       " 'disturbance': array([1.3414071], dtype=float32),\n",
       " 'reader': array([1.3413817], dtype=float32),\n",
       " 'pen': array([1.3412509], dtype=float32),\n",
       " 'dump': array([1.3411843], dtype=float32),\n",
       " 'gravel': array([1.3410974], dtype=float32),\n",
       " 'candle': array([1.3408586], dtype=float32),\n",
       " 'lemon': array([1.3406582], dtype=float32),\n",
       " 'bond': array([1.3398347], dtype=float32),\n",
       " 'parade': array([1.339833], dtype=float32),\n",
       " 'sail': array([1.3396655], dtype=float32),\n",
       " 'charm': array([1.339291], dtype=float32),\n",
       " 'slap': array([1.3391495], dtype=float32),\n",
       " 'privilege': array([1.3390241], dtype=float32),\n",
       " 'sailor': array([1.3389513], dtype=float32),\n",
       " 'strip': array([1.338944], dtype=float32),\n",
       " 'prospect': array([1.3388854], dtype=float32),\n",
       " 'ankle': array([1.3388287], dtype=float32),\n",
       " 'glimpse': array([1.3388287], dtype=float32),\n",
       " 'patience': array([1.3387492], dtype=float32),\n",
       " 'corn': array([1.3387036], dtype=float32),\n",
       " 'microphone': array([1.3386202], dtype=float32),\n",
       " 'ticket': array([1.3382931], dtype=float32),\n",
       " 'shaft': array([1.3382859], dtype=float32),\n",
       " 'halt': array([1.3379842], dtype=float32),\n",
       " 'carbon': array([1.3377517], dtype=float32),\n",
       " 'ratio': array([1.3377084], dtype=float32),\n",
       " 'bride': array([1.337621], dtype=float32),\n",
       " 'compartment': array([1.3375422], dtype=float32),\n",
       " 'shelf': array([1.3374552], dtype=float32),\n",
       " 'abandon': array([1.3374072], dtype=float32),\n",
       " 'heroin': array([1.3373199], dtype=float32),\n",
       " 'prey': array([1.3370745], dtype=float32),\n",
       " 'gloom': array([1.3367063], dtype=float32),\n",
       " 'axis': array([1.3366375], dtype=float32),\n",
       " 'breeze': array([1.3365912], dtype=float32),\n",
       " 'thumb': array([1.3364997], dtype=float32),\n",
       " 'elbow': array([1.3359745], dtype=float32),\n",
       " 'undermine': array([1.335819], dtype=float32),\n",
       " 'intermediate': array([1.3358022], dtype=float32),\n",
       " 'tin': array([1.3357822], dtype=float32),\n",
       " 'illusion': array([1.3357356], dtype=float32),\n",
       " 'brush': array([1.3354821], dtype=float32),\n",
       " 'observer': array([1.3354727], dtype=float32),\n",
       " 'float': array([1.3354347], dtype=float32),\n",
       " 'census': array([1.3354162], dtype=float32),\n",
       " 'privacy': array([1.3353528], dtype=float32),\n",
       " 'beef': array([1.335279], dtype=float32),\n",
       " 'blank': array([1.3351803], dtype=float32),\n",
       " 'mist': array([1.3351601], dtype=float32),\n",
       " 'witness': array([1.3347206], dtype=float32),\n",
       " 'multimedia': array([1.334523], dtype=float32),\n",
       " 'suppress': array([1.3344271], dtype=float32),\n",
       " 'oppose': array([1.3343062], dtype=float32),\n",
       " 'aluminium': array([1.334224], dtype=float32),\n",
       " 'twilight': array([1.334145], dtype=float32),\n",
       " 'shark': array([1.3337765], dtype=float32),\n",
       " 'belong': array([1.3335785], dtype=float32),\n",
       " 'wound': array([1.3334928], dtype=float32),\n",
       " 'bolt': array([1.3334427], dtype=float32),\n",
       " 'gravity': array([1.3329163], dtype=float32),\n",
       " 'treat': array([1.3325881], dtype=float32),\n",
       " 'explode': array([1.3325466], dtype=float32),\n",
       " 'stroke': array([1.3323635], dtype=float32),\n",
       " 'urge': array([1.3322002], dtype=float32),\n",
       " 'berry': array([1.3320413], dtype=float32),\n",
       " 'dome': array([1.3318244], dtype=float32),\n",
       " 'unlikely': array([1.3317686], dtype=float32),\n",
       " 'rhetoric': array([1.3316076], dtype=float32),\n",
       " 'thesis': array([1.3315171], dtype=float32),\n",
       " 'frog': array([1.3314661], dtype=float32),\n",
       " 'prevalence': array([1.3312466], dtype=float32),\n",
       " 'exile': array([1.3310825], dtype=float32),\n",
       " 'seminar': array([1.3310152], dtype=float32),\n",
       " 'ham': array([1.3309098], dtype=float32),\n",
       " 'compact': array([1.3308569], dtype=float32),\n",
       " 'pipe': array([1.3308446], dtype=float32),\n",
       " 'divorce': array([1.3308076], dtype=float32),\n",
       " 'fortune': array([1.3307153], dtype=float32),\n",
       " 'sandwich': array([1.3307148], dtype=float32),\n",
       " 'kidney': array([1.3304774], dtype=float32),\n",
       " 'spray': array([1.3304684], dtype=float32),\n",
       " 'velvet': array([1.3301418], dtype=float32),\n",
       " 'pole': array([1.3298693], dtype=float32),\n",
       " 'dull': array([1.3296912], dtype=float32),\n",
       " 'qualify': array([1.329664], dtype=float32),\n",
       " 'sausage': array([1.3295484], dtype=float32),\n",
       " 'rat': array([1.3294276], dtype=float32),\n",
       " 'guerrilla': array([1.3294094], dtype=float32),\n",
       " 'drag': array([1.329408], dtype=float32),\n",
       " 'steward': array([1.3293846], dtype=float32),\n",
       " 'emphasis': array([1.3292569], dtype=float32),\n",
       " 'hook': array([1.3291144], dtype=float32),\n",
       " 'evaluate': array([1.3289942], dtype=float32),\n",
       " 'margin': array([1.3289716], dtype=float32),\n",
       " 'estimate': array([1.3287443], dtype=float32),\n",
       " 'fill': array([1.3286625], dtype=float32),\n",
       " 'trend': array([1.3282353], dtype=float32),\n",
       " 'flour': array([1.3282256], dtype=float32),\n",
       " 'unrest': array([1.3282168], dtype=float32),\n",
       " 'bow': array([1.328179], dtype=float32),\n",
       " 'puzzle': array([1.3278567], dtype=float32),\n",
       " 'accountant': array([1.3278413], dtype=float32),\n",
       " 'extract': array([1.327761], dtype=float32),\n",
       " 'cupboard': array([1.3277528], dtype=float32),\n",
       " 'squeeze': array([1.3276911], dtype=float32),\n",
       " 'shed': array([1.3276272], dtype=float32),\n",
       " 'adoption': array([1.3272381], dtype=float32),\n",
       " 'ruin': array([1.3272228], dtype=float32),\n",
       " 'acid': array([1.3270644], dtype=float32),\n",
       " 'knock': array([1.3268198], dtype=float32),\n",
       " 'conscious': array([1.3267428], dtype=float32),\n",
       " 'arrange': array([1.326736], dtype=float32),\n",
       " 'heal': array([1.326502], dtype=float32),\n",
       " 'sympathetic': array([1.3264047], dtype=float32),\n",
       " 'cap': array([1.3259242], dtype=float32),\n",
       " 'pyramid': array([1.3258812], dtype=float32),\n",
       " 'filter': array([1.3258177], dtype=float32),\n",
       " 'dollar': array([1.3257438], dtype=float32),\n",
       " 'confession': array([1.3253105], dtype=float32),\n",
       " 'engagement': array([1.3252429], dtype=float32),\n",
       " 'stumble': array([1.3252283], dtype=float32),\n",
       " 'racism': array([1.3248794], dtype=float32),\n",
       " 'drum': array([1.3247007], dtype=float32),\n",
       " 'ban': array([1.324611], dtype=float32),\n",
       " 'consultation': array([1.3245168], dtype=float32),\n",
       " 'flavor': array([1.3243965], dtype=float32),\n",
       " 'measure': array([1.324243], dtype=float32),\n",
       " 'glory': array([1.3240609], dtype=float32),\n",
       " 'champagne': array([1.3239329], dtype=float32),\n",
       " 'harvest': array([1.3237695], dtype=float32),\n",
       " 'net': array([1.3237531], dtype=float32),\n",
       " 'abundant': array([1.3235334], dtype=float32),\n",
       " 'cheap': array([1.3234903], dtype=float32),\n",
       " 'seed': array([1.3234557], dtype=float32),\n",
       " 'triangle': array([1.3234417], dtype=float32),\n",
       " 'tense': array([1.3232652], dtype=float32),\n",
       " 'commemorate': array([1.3232331], dtype=float32),\n",
       " 'swallow': array([1.3232226], dtype=float32),\n",
       " 'hardship': array([1.3230515], dtype=float32),\n",
       " 'penalty': array([1.3228182], dtype=float32),\n",
       " 'parking': array([1.3224272], dtype=float32),\n",
       " 'doll': array([1.3222404], dtype=float32),\n",
       " 'fee': array([1.321989], dtype=float32),\n",
       " 'dive': array([1.3219104], dtype=float32),\n",
       " 'fur': array([1.3217741], dtype=float32),\n",
       " 'boom': array([1.3217155], dtype=float32),\n",
       " 'inch': array([1.3216805], dtype=float32),\n",
       " 'valid': array([1.3215913], dtype=float32),\n",
       " 'lip': array([1.3212186], dtype=float32),\n",
       " 'stretch': array([1.321117], dtype=float32),\n",
       " 'debt': array([1.321009], dtype=float32),\n",
       " 'sensitivity': array([1.3209156], dtype=float32),\n",
       " 'garbage': array([1.3207754], dtype=float32),\n",
       " 'update': array([1.3205574], dtype=float32),\n",
       " 'trap': array([1.3204592], dtype=float32),\n",
       " 'appeal': array([1.3195634], dtype=float32),\n",
       " 'orientation': array([1.3195232], dtype=float32),\n",
       " 'computing': array([1.3195142], dtype=float32),\n",
       " 'gossip': array([1.3191608], dtype=float32),\n",
       " 'pile': array([1.3187428], dtype=float32),\n",
       " 'nationalism': array([1.3186507], dtype=float32),\n",
       " 'credit': array([1.3186417], dtype=float32),\n",
       " 'fever': array([1.3185954], dtype=float32),\n",
       " 'restless': array([1.3185341], dtype=float32),\n",
       " 'theft': array([1.3184794], dtype=float32),\n",
       " 'row': array([1.3183216], dtype=float32),\n",
       " 'lean': array([1.318265], dtype=float32),\n",
       " 'ladder': array([1.3182384], dtype=float32),\n",
       " 'sentiment': array([1.3181225], dtype=float32),\n",
       " 'vegetable': array([1.3179547], dtype=float32),\n",
       " 'analyst': array([1.3174828], dtype=float32),\n",
       " 'collar': array([1.3174088], dtype=float32),\n",
       " 'transaction': array([1.3173234], dtype=float32),\n",
       " 'width': array([1.3171822], dtype=float32),\n",
       " 'empirical': array([1.3171545], dtype=float32),\n",
       " 'volcano': array([1.3170571], dtype=float32),\n",
       " 'excavation': array([1.3169563], dtype=float32),\n",
       " 'favorable': array([1.3164911], dtype=float32),\n",
       " 'automatic': array([1.3164543], dtype=float32),\n",
       " 'battlefield': array([1.3162787], dtype=float32),\n",
       " 'blind': array([1.316153], dtype=float32),\n",
       " 'subway': array([1.3160304], dtype=float32),\n",
       " 'soup': array([1.315919], dtype=float32),\n",
       " 'forestry': array([1.3159174], dtype=float32),\n",
       " 'regret': array([1.3158522], dtype=float32),\n",
       " 'persistent': array([1.315852], dtype=float32),\n",
       " 'regard': array([1.3157254], dtype=float32),\n",
       " 'dealer': array([1.3153219], dtype=float32),\n",
       " 'trustee': array([1.3152999], dtype=float32),\n",
       " 'proof': array([1.3152399], dtype=float32),\n",
       " 'venture': array([1.3150415], dtype=float32),\n",
       " 'makeup': array([1.3150398], dtype=float32),\n",
       " 'reactor': array([1.3148731], dtype=float32),\n",
       " 'spy': array([1.314394], dtype=float32),\n",
       " 'unfortunate': array([1.313806], dtype=float32),\n",
       " 'undertake': array([1.3135042], dtype=float32),\n",
       " 'adopt': array([1.313429], dtype=float32),\n",
       " 'ambition': array([1.3132876], dtype=float32),\n",
       " 'reflect': array([1.3130951], dtype=float32),\n",
       " 'bomber': array([1.3127701], dtype=float32),\n",
       " 'delay': array([1.3127565], dtype=float32),\n",
       " 'duck': array([1.3124669], dtype=float32),\n",
       " 'punch': array([1.312339], dtype=float32),\n",
       " 'latest': array([1.3119249], dtype=float32),\n",
       " 'judgment': array([1.3119023], dtype=float32),\n",
       " 'swim': array([1.3117425], dtype=float32),\n",
       " 'parameter': array([1.3117244], dtype=float32),\n",
       " 'tune': array([1.3117127], dtype=float32),\n",
       " 'conspiracy': array([1.3113118], dtype=float32),\n",
       " 'reject': array([1.3110603], dtype=float32),\n",
       " 'conductor': array([1.3107331], dtype=float32),\n",
       " 'pit': array([1.3107066], dtype=float32),\n",
       " 'superintendent': array([1.3107042], dtype=float32),\n",
       " 'currency': array([1.3106192], dtype=float32),\n",
       " 'ceiling': array([1.3105764], dtype=float32),\n",
       " 'trace': array([1.3103973], dtype=float32),\n",
       " 'endure': array([1.3102813], dtype=float32),\n",
       " 'bold': array([1.3100871], dtype=float32),\n",
       " 'breast': array([1.3098848], dtype=float32),\n",
       " 'magnetic': array([1.3097875], dtype=float32),\n",
       " 'dimension': array([1.309713], dtype=float32),\n",
       " 'load': array([1.3095834], dtype=float32),\n",
       " 'waste': array([1.3095341], dtype=float32),\n",
       " 'syndrome': array([1.3094338], dtype=float32),\n",
       " 'unpleasant': array([1.3093297], dtype=float32),\n",
       " 'twist': array([1.309304], dtype=float32),\n",
       " 'add': array([1.3091207], dtype=float32),\n",
       " ...}"
      ]
     },
     "execution_count": 104,
     "metadata": {},
     "output_type": "execute_result"
    }
   ],
   "source": [
    "jjj"
   ]
  },
  {
   "cell_type": "markdown",
   "id": "f837a90c",
   "metadata": {},
   "source": [
    "owe确实在wordnet里面, 不过这些单词我都认识呀....不过这样也确实证明了几个事情\n",
    "1. embedding的模长没有取错.\n",
    "\n",
    "现在拥有了一个低频(低模)的词典, 并且这个词典里面的词都是bert的语料里面出现过的.\n",
    "现在我需要训练一个网络, 让这些低频词的模长发生变化, 集体变小."
   ]
  },
  {
   "cell_type": "markdown",
   "id": "184193ce",
   "metadata": {},
   "source": [
    "- [ ] TODO: 利用wordnet的字典做一个recnn的net.\n",
    "- [ ] 利用pandas做一个transformer的数据集, 先做train, 里面包含 features 是 [explanation] [word] [embeddings]"
   ]
  },
  {
   "cell_type": "code",
   "execution_count": 140,
   "id": "f8cb03b5",
   "metadata": {},
   "outputs": [],
   "source": [
    "# Select common words from wordnet, common words is the word in bert.\n",
    "common_words_dict = {k:v for k, v in wordnet.items() if k in common_words}"
   ]
  },
  {
   "cell_type": "code",
   "execution_count": 165,
   "id": "5a28ff0f",
   "metadata": {},
   "outputs": [],
   "source": [
    "import pandas as pd\n",
    "wordnet_series = pd.DataFrame({'word':common_words_dict.keys(), 'explanation':common_words_dict.values()}, index=None)"
   ]
  },
  {
   "cell_type": "code",
   "execution_count": 168,
   "id": "1cfe3a9d",
   "metadata": {},
   "outputs": [],
   "source": [
    "# change series to transformer's dataset\n",
    "# 1. create txt wordnet\n",
    "wordnet_series.to_csv(\"wordnet.csv\", index=None)"
   ]
  },
  {
   "cell_type": "code",
   "execution_count": 199,
   "id": "6dd2c0b5",
   "metadata": {},
   "outputs": [
    {
     "name": "stderr",
     "output_type": "stream",
     "text": [
      "Using custom data configuration default-6904515b038bdcdf\n",
      "Reusing dataset csv (/diskb/houbowei/.cache/huggingface/datasets/csv/default-6904515b038bdcdf/0.0.0/6b9057d9e23d9d8a2f05b985917a0da84d70c5dae3d22ddd8a3f22fb01c69d9e)\n"
     ]
    },
    {
     "data": {
      "application/vnd.jupyter.widget-view+json": {
       "model_id": "d77806b33caf441da3ba97dc3821dcac",
       "version_major": 2,
       "version_minor": 0
      },
      "text/plain": [
       "  0%|          | 0/1 [00:00<?, ?it/s]"
      ]
     },
     "metadata": {},
     "output_type": "display_data"
    }
   ],
   "source": [
    "wordnet_dataset = load_dataset('csv', data_files=\"wordnet.csv\")"
   ]
  },
  {
   "cell_type": "markdown",
   "id": "ffa5d850",
   "metadata": {},
   "source": [
    "# 利用数据集训练网络\n",
    "- [ ] 构建一个网络"
   ]
  },
  {
   "cell_type": "code",
   "execution_count": 279,
   "id": "fa68140c",
   "metadata": {
    "collapsed": true
   },
   "outputs": [
    {
     "name": "stderr",
     "output_type": "stream",
     "text": [
      "loading configuration file https://huggingface.co/bert-base-uncased/resolve/main/config.json from cache at /diskb/houbowei/.cache/huggingface/transformers/3c61d016573b14f7f008c02c4e51a366c67ab274726fe2910691e2a761acf43e.37395cee442ab11005bcd270f3c34464dc1704b715b5d7d52b1a461abe3b9e4e\n",
      "Model config BertConfig {\n",
      "  \"architectures\": [\n",
      "    \"BertForMaskedLM\"\n",
      "  ],\n",
      "  \"attention_probs_dropout_prob\": 0.1,\n",
      "  \"classifier_dropout\": null,\n",
      "  \"gradient_checkpointing\": false,\n",
      "  \"hidden_act\": \"gelu\",\n",
      "  \"hidden_dropout_prob\": 0.1,\n",
      "  \"hidden_size\": 768,\n",
      "  \"initializer_range\": 0.02,\n",
      "  \"intermediate_size\": 3072,\n",
      "  \"layer_norm_eps\": 1e-12,\n",
      "  \"max_position_embeddings\": 512,\n",
      "  \"model_type\": \"bert\",\n",
      "  \"num_attention_heads\": 12,\n",
      "  \"num_hidden_layers\": 12,\n",
      "  \"pad_token_id\": 0,\n",
      "  \"position_embedding_type\": \"absolute\",\n",
      "  \"transformers_version\": \"4.11.3\",\n",
      "  \"type_vocab_size\": 2,\n",
      "  \"use_cache\": true,\n",
      "  \"vocab_size\": 30522\n",
      "}\n",
      "\n",
      "loading weights file https://huggingface.co/bert-base-uncased/resolve/main/pytorch_model.bin from cache at /diskb/houbowei/.cache/huggingface/transformers/a8041bf617d7f94ea26d15e218abd04afc2004805632abc0ed2066aa16d50d04.faf6ea826ae9c5867d12b22257f9877e6b8367890837bd60f7c54a29633f7f2f\n",
      "Some weights of the model checkpoint at bert-base-uncased were not used when initializing BertModel: ['cls.predictions.transform.dense.bias', 'cls.predictions.transform.LayerNorm.bias', 'cls.predictions.transform.LayerNorm.weight', 'cls.seq_relationship.weight', 'cls.predictions.decoder.weight', 'cls.seq_relationship.bias', 'cls.predictions.transform.dense.weight', 'cls.predictions.bias']\n",
      "- This IS expected if you are initializing BertModel from the checkpoint of a model trained on another task or with another architecture (e.g. initializing a BertForSequenceClassification model from a BertForPreTraining model).\n",
      "- This IS NOT expected if you are initializing BertModel from the checkpoint of a model that you expect to be exactly identical (initializing a BertForSequenceClassification model from a BertForSequenceClassification model).\n",
      "All the weights of BertModel were initialized from the model checkpoint at bert-base-uncased.\n",
      "If your task is similar to the task the model of the checkpoint was trained on, you can already use BertModel for predictions without further training.\n"
     ]
    }
   ],
   "source": [
    "import torch\n",
    "\n",
    "import torch.nn as nn\n",
    "import torch.nn.functional as F\n",
    "import torch.optim as optim\n",
    "\n",
    "from transformers import BertModel, BertTokenizer\n",
    "\n",
    "\n",
    "class DictNet(nn.Module):\n",
    "    \"\"\"Some Information about CleverNLP\"\"\"\n",
    "    def __init__(self, model='bert-base-uncased', device='cuda'):\n",
    "        super(DictNet, self).__init__()\n",
    "        self.device = device\n",
    "        self.bert = BertModel.from_pretrained(model)\n",
    "        self.recnn = torch.nn.Sequential(nn.Linear(768, 768),\n",
    "                                         nn.Linear(768, 768),\n",
    "                                         nn.Linear(768, 768))\n",
    "\n",
    "    def mean_pooling(self, model_output):\n",
    "        return model_output.mean(axis=0)\n",
    "\n",
    "    def forward(self, explanation):\n",
    "        print(explanation)\n",
    "        with torch.no_grad():\n",
    "            explanation = self.bert(**explanation)[0][0]\n",
    "        recnn_output = self.recnn(explanation)\n",
    "        pred_embed = self.mean_pooling(recnn_output)\n",
    "        return pred_embed\n",
    "\n",
    "model = DictNet()"
   ]
  },
  {
   "cell_type": "code",
   "execution_count": 280,
   "id": "7267188d",
   "metadata": {},
   "outputs": [
    {
     "name": "stdout",
     "output_type": "stream",
     "text": [
      "{'input_ids': tensor([[ 101, 3231,  102]]), 'token_type_ids': tensor([[0, 0, 0]]), 'attention_mask': tensor([[1, 1, 1]])}\n"
     ]
    },
    {
     "data": {
      "text/plain": [
       "torch.Size([768])"
      ]
     },
     "execution_count": 280,
     "metadata": {},
     "output_type": "execute_result"
    }
   ],
   "source": [
    "# test single input\n",
    "single_input = tokenizer(\"test\", return_tensors='pt')\n",
    "model(single_input).shape"
   ]
  },
  {
   "cell_type": "markdown",
   "id": "45466345",
   "metadata": {},
   "source": [
    "- [ ] test multi inputs(outputs is wrong, should be batched.)\n",
    "``` python\n",
    "mul_inputs = tokenizer([\"I am a bird.\"], [\"He is a chicken.\"], return_tensors='pt')\n",
    "model(mul_inputs).shape\n",
    "```"
   ]
  },
  {
   "cell_type": "code",
   "execution_count": 348,
   "id": "5b188440",
   "metadata": {},
   "outputs": [
    {
     "name": "stdout",
     "output_type": "stream",
     "text": [
      "Automatic pdb calling has been turned OFF\n"
     ]
    }
   ],
   "source": [
    "%pdb"
   ]
  },
  {
   "cell_type": "code",
   "execution_count": 310,
   "id": "5282b8a5",
   "metadata": {},
   "outputs": [
    {
     "data": {
      "text/plain": [
       "torch.Size([30522, 768])"
      ]
     },
     "execution_count": 310,
     "metadata": {},
     "output_type": "execute_result"
    }
   ],
   "source": [
    "embeddings_weights.shape"
   ]
  },
  {
   "cell_type": "code",
   "execution_count": 312,
   "id": "f2b3b30f",
   "metadata": {},
   "outputs": [
    {
     "data": {
      "text/plain": [
       "13547"
      ]
     },
     "execution_count": 312,
     "metadata": {},
     "output_type": "execute_result"
    }
   ],
   "source": [
    "tokenizer.convert_tokens_to_ids('owl')"
   ]
  },
  {
   "cell_type": "code",
   "execution_count": 375,
   "id": "16815b24",
   "metadata": {},
   "outputs": [
    {
     "name": "stderr",
     "output_type": "stream",
     "text": [
      "Loading cached processed dataset at /diskb/houbowei/.cache/huggingface/datasets/csv/default-6904515b038bdcdf/0.0.0/6b9057d9e23d9d8a2f05b985917a0da84d70c5dae3d22ddd8a3f22fb01c69d9e/cache-456a1c2a22a7d084.arrow\n"
     ]
    },
    {
     "data": {
      "text/plain": [
       "{'attention_mask': tensor([[1, 1, 1, 0, 0, 0, 0, 0, 0, 0, 0, 0, 0, 0, 0, 0, 0],\n",
       "        [1, 1, 1, 1, 1, 0, 0, 0, 0, 0, 0, 0, 0, 0, 0, 0, 0],\n",
       "        [1, 1, 1, 1, 1, 1, 1, 0, 0, 0, 0, 0, 0, 0, 0, 0, 0],\n",
       "        [1, 1, 1, 1, 1, 0, 0, 0, 0, 0, 0, 0, 0, 0, 0, 0, 0],\n",
       "        [1, 1, 1, 0, 0, 0, 0, 0, 0, 0, 0, 0, 0, 0, 0, 0, 0],\n",
       "        [1, 1, 1, 0, 0, 0, 0, 0, 0, 0, 0, 0, 0, 0, 0, 0, 0],\n",
       "        [1, 1, 1, 1, 1, 1, 1, 1, 1, 0, 0, 0, 0, 0, 0, 0, 0],\n",
       "        [1, 1, 1, 0, 0, 0, 0, 0, 0, 0, 0, 0, 0, 0, 0, 0, 0]]), 'input_ids': tensor([[  101,  5214,   102,     0,     0,     0,     0,     0,     0,     0,\n",
       "             0,     0,     0,     0,     0,     0,     0],\n",
       "        [  101,  3819,  2030,  3143,   102,     0,     0,     0,     0,     0,\n",
       "             0,     0,     0,     0,     0,     0,     0],\n",
       "        [  101,  4493,  2069,  1999,  1996,  2568,   102,     0,     0,     0,\n",
       "             0,     0,     0,     0,     0,     0,     0],\n",
       "        [  101, 20228,  4765, 18424,   102,     0,     0,     0,     0,     0,\n",
       "             0,     0,     0,     0,     0,     0,     0],\n",
       "        [  101, 21813,   102,     0,     0,     0,     0,     0,     0,     0,\n",
       "             0,     0,     0,     0,     0,     0,     0],\n",
       "        [  101, 13322,   102,     0,     0,     0,     0,     0,     0,     0,\n",
       "             0,     0,     0,     0,     0,     0,     0],\n",
       "        [  101,  9152, 19661,  1010, 11867,  2854,  1010,  4248,   102,     0,\n",
       "             0,     0,     0,     0,     0,     0,     0],\n",
       "        [  101,  2444,   102,     0,     0,     0,     0,     0,     0,     0,\n",
       "             0,     0,     0,     0,     0,     0,     0]]), 'token_type_ids': tensor([[0, 0, 0, 0, 0, 0, 0, 0, 0, 0, 0, 0, 0, 0, 0, 0, 0],\n",
       "        [0, 0, 0, 0, 0, 0, 0, 0, 0, 0, 0, 0, 0, 0, 0, 0, 0],\n",
       "        [0, 0, 0, 0, 0, 0, 0, 0, 0, 0, 0, 0, 0, 0, 0, 0, 0],\n",
       "        [0, 0, 0, 0, 0, 0, 0, 0, 0, 0, 0, 0, 0, 0, 0, 0, 0],\n",
       "        [0, 0, 0, 0, 0, 0, 0, 0, 0, 0, 0, 0, 0, 0, 0, 0, 0],\n",
       "        [0, 0, 0, 0, 0, 0, 0, 0, 0, 0, 0, 0, 0, 0, 0, 0, 0],\n",
       "        [0, 0, 0, 0, 0, 0, 0, 0, 0, 0, 0, 0, 0, 0, 0, 0, 0],\n",
       "        [0, 0, 0, 0, 0, 0, 0, 0, 0, 0, 0, 0, 0, 0, 0, 0, 0]]), 'word_ids': tensor([ 2583,  7619, 10061, 12990,  3161, 23042, 29003,  4142])}"
      ]
     },
     "execution_count": 375,
     "metadata": {},
     "output_type": "execute_result"
    }
   ],
   "source": [
    "# batched inputs\n",
    "from transformers import DataCollatorWithPadding\n",
    "data_collator = DataCollatorWithPadding(tokenizer, padding=True, return_tensors='pt')\n",
    "\n",
    "def tokenize_function(example):\n",
    "    res = tokenizer(example['explanation'], truncation=True, padding=True)\n",
    "    res['word_ids']=tokenizer.convert_tokens_to_ids(example['word'])\n",
    "    return res\n",
    "\n",
    "tokenized_dataset = wordnet_dataset.map(tokenize_function, batched=True)\n",
    "\n",
    "tokenized_dataset = tokenized_dataset.remove_columns(['explanation', 'word'])\n",
    "\n",
    "data_collator([tokenized_dataset['train'][i] for i in range(8)])"
   ]
  },
  {
   "cell_type": "code",
   "execution_count": 377,
   "id": "cd71276c",
   "metadata": {},
   "outputs": [],
   "source": [
    "for k in tokenized_dataset['train']:\n",
    "    assert len(k['input_ids']) > 0"
   ]
  },
  {
   "cell_type": "code",
   "execution_count": 378,
   "id": "3ee67224",
   "metadata": {},
   "outputs": [
    {
     "data": {
      "text/plain": [
       "{'attention_mask': [1, 1, 1, 1, 0, 0, 0, 0, 0, 0, 0, 0, 0, 0, 0, 0, 0],\n",
       " 'input_ids': [101, 3013, 2460, 102, 0, 0, 0, 0, 0, 0, 0, 0, 0, 0, 0, 0, 0],\n",
       " 'token_type_ids': [0, 0, 0, 0, 0, 0, 0, 0, 0, 0, 0, 0, 0, 0, 0, 0, 0],\n",
       " 'word_ids': 10416}"
      ]
     },
     "execution_count": 378,
     "metadata": {},
     "output_type": "execute_result"
    }
   ],
   "source": [
    "tokenized_dataset['train'][904]"
   ]
  },
  {
   "cell_type": "code",
   "execution_count": 379,
   "id": "93d188a3",
   "metadata": {},
   "outputs": [
    {
     "name": "stderr",
     "output_type": "stream",
     "text": [
      "PyTorch: setting up devices\n",
      "The default value for the training argument `--report_to` will change in v5 (from all installed integrations to none). In v5, you will need to use `--report_to all` to get the same behavior as now. You should start updating your code and make this info disappear :-).\n",
      "The following columns in the training set  don't have a corresponding argument in `DictNet.forward` and have been ignored: word_ids, attention_mask, token_type_ids, input_ids.\n",
      "***** Running training *****\n",
      "  Num examples = 0\n",
      "  Num Epochs = 1\n",
      "  Instantaneous batch size per device = 8\n",
      "  Total train batch size (w. parallel, distributed & accumulation) = 64\n",
      "  Gradient Accumulation steps = 1\n",
      "  Total optimization steps = 48\n"
     ]
    },
    {
     "ename": "IndexError",
     "evalue": "Invalid key: 904 is out of bounds for size 0",
     "output_type": "error",
     "traceback": [
      "\u001b[0;31m---------------------------------------------------------------------------\u001b[0m",
      "\u001b[0;31mIndexError\u001b[0m                                Traceback (most recent call last)",
      "\u001b[0;32m/tmp/ipykernel_4141796/3363676915.py\u001b[0m in \u001b[0;36m<module>\u001b[0;34m\u001b[0m\n\u001b[1;32m     15\u001b[0m \u001b[0;31m#     data_collator=data_collator\u001b[0m\u001b[0;34m\u001b[0m\u001b[0;34m\u001b[0m\u001b[0;34m\u001b[0m\u001b[0m\n\u001b[1;32m     16\u001b[0m )\n\u001b[0;32m---> 17\u001b[0;31m \u001b[0mtrainer\u001b[0m\u001b[0;34m.\u001b[0m\u001b[0mtrain\u001b[0m\u001b[0;34m(\u001b[0m\u001b[0;34m)\u001b[0m\u001b[0;34m\u001b[0m\u001b[0;34m\u001b[0m\u001b[0m\n\u001b[0m",
      "\u001b[0;32m~/anaconda3/lib/python3.8/site-packages/transformers/trainer.py\u001b[0m in \u001b[0;36mtrain\u001b[0;34m(self, resume_from_checkpoint, trial, ignore_keys_for_eval, **kwargs)\u001b[0m\n\u001b[1;32m   1288\u001b[0m             \u001b[0mself\u001b[0m\u001b[0;34m.\u001b[0m\u001b[0mcontrol\u001b[0m \u001b[0;34m=\u001b[0m \u001b[0mself\u001b[0m\u001b[0;34m.\u001b[0m\u001b[0mcallback_handler\u001b[0m\u001b[0;34m.\u001b[0m\u001b[0mon_epoch_begin\u001b[0m\u001b[0;34m(\u001b[0m\u001b[0margs\u001b[0m\u001b[0;34m,\u001b[0m \u001b[0mself\u001b[0m\u001b[0;34m.\u001b[0m\u001b[0mstate\u001b[0m\u001b[0;34m,\u001b[0m \u001b[0mself\u001b[0m\u001b[0;34m.\u001b[0m\u001b[0mcontrol\u001b[0m\u001b[0;34m)\u001b[0m\u001b[0;34m\u001b[0m\u001b[0;34m\u001b[0m\u001b[0m\n\u001b[1;32m   1289\u001b[0m \u001b[0;34m\u001b[0m\u001b[0m\n\u001b[0;32m-> 1290\u001b[0;31m             \u001b[0;32mfor\u001b[0m \u001b[0mstep\u001b[0m\u001b[0;34m,\u001b[0m \u001b[0minputs\u001b[0m \u001b[0;32min\u001b[0m \u001b[0menumerate\u001b[0m\u001b[0;34m(\u001b[0m\u001b[0mepoch_iterator\u001b[0m\u001b[0;34m)\u001b[0m\u001b[0;34m:\u001b[0m\u001b[0;34m\u001b[0m\u001b[0;34m\u001b[0m\u001b[0m\n\u001b[0m\u001b[1;32m   1291\u001b[0m \u001b[0;34m\u001b[0m\u001b[0m\n\u001b[1;32m   1292\u001b[0m                 \u001b[0;31m# Skip past any already trained steps if resuming training\u001b[0m\u001b[0;34m\u001b[0m\u001b[0;34m\u001b[0m\u001b[0;34m\u001b[0m\u001b[0m\n",
      "\u001b[0;32m~/anaconda3/lib/python3.8/site-packages/torch/utils/data/dataloader.py\u001b[0m in \u001b[0;36m__next__\u001b[0;34m(self)\u001b[0m\n\u001b[1;32m    519\u001b[0m             \u001b[0;32mif\u001b[0m \u001b[0mself\u001b[0m\u001b[0;34m.\u001b[0m\u001b[0m_sampler_iter\u001b[0m \u001b[0;32mis\u001b[0m \u001b[0;32mNone\u001b[0m\u001b[0;34m:\u001b[0m\u001b[0;34m\u001b[0m\u001b[0;34m\u001b[0m\u001b[0m\n\u001b[1;32m    520\u001b[0m                 \u001b[0mself\u001b[0m\u001b[0;34m.\u001b[0m\u001b[0m_reset\u001b[0m\u001b[0;34m(\u001b[0m\u001b[0;34m)\u001b[0m\u001b[0;34m\u001b[0m\u001b[0;34m\u001b[0m\u001b[0m\n\u001b[0;32m--> 521\u001b[0;31m             \u001b[0mdata\u001b[0m \u001b[0;34m=\u001b[0m \u001b[0mself\u001b[0m\u001b[0;34m.\u001b[0m\u001b[0m_next_data\u001b[0m\u001b[0;34m(\u001b[0m\u001b[0;34m)\u001b[0m\u001b[0;34m\u001b[0m\u001b[0;34m\u001b[0m\u001b[0m\n\u001b[0m\u001b[1;32m    522\u001b[0m             \u001b[0mself\u001b[0m\u001b[0;34m.\u001b[0m\u001b[0m_num_yielded\u001b[0m \u001b[0;34m+=\u001b[0m \u001b[0;36m1\u001b[0m\u001b[0;34m\u001b[0m\u001b[0;34m\u001b[0m\u001b[0m\n\u001b[1;32m    523\u001b[0m             \u001b[0;32mif\u001b[0m \u001b[0mself\u001b[0m\u001b[0;34m.\u001b[0m\u001b[0m_dataset_kind\u001b[0m \u001b[0;34m==\u001b[0m \u001b[0m_DatasetKind\u001b[0m\u001b[0;34m.\u001b[0m\u001b[0mIterable\u001b[0m \u001b[0;32mand\u001b[0m\u001b[0;31m \u001b[0m\u001b[0;31m\\\u001b[0m\u001b[0;34m\u001b[0m\u001b[0;34m\u001b[0m\u001b[0m\n",
      "\u001b[0;32m~/anaconda3/lib/python3.8/site-packages/torch/utils/data/dataloader.py\u001b[0m in \u001b[0;36m_next_data\u001b[0;34m(self)\u001b[0m\n\u001b[1;32m    559\u001b[0m     \u001b[0;32mdef\u001b[0m \u001b[0m_next_data\u001b[0m\u001b[0;34m(\u001b[0m\u001b[0mself\u001b[0m\u001b[0;34m)\u001b[0m\u001b[0;34m:\u001b[0m\u001b[0;34m\u001b[0m\u001b[0;34m\u001b[0m\u001b[0m\n\u001b[1;32m    560\u001b[0m         \u001b[0mindex\u001b[0m \u001b[0;34m=\u001b[0m \u001b[0mself\u001b[0m\u001b[0;34m.\u001b[0m\u001b[0m_next_index\u001b[0m\u001b[0;34m(\u001b[0m\u001b[0;34m)\u001b[0m  \u001b[0;31m# may raise StopIteration\u001b[0m\u001b[0;34m\u001b[0m\u001b[0;34m\u001b[0m\u001b[0m\n\u001b[0;32m--> 561\u001b[0;31m         \u001b[0mdata\u001b[0m \u001b[0;34m=\u001b[0m \u001b[0mself\u001b[0m\u001b[0;34m.\u001b[0m\u001b[0m_dataset_fetcher\u001b[0m\u001b[0;34m.\u001b[0m\u001b[0mfetch\u001b[0m\u001b[0;34m(\u001b[0m\u001b[0mindex\u001b[0m\u001b[0;34m)\u001b[0m  \u001b[0;31m# may raise StopIteration\u001b[0m\u001b[0;34m\u001b[0m\u001b[0;34m\u001b[0m\u001b[0m\n\u001b[0m\u001b[1;32m    562\u001b[0m         \u001b[0;32mif\u001b[0m \u001b[0mself\u001b[0m\u001b[0;34m.\u001b[0m\u001b[0m_pin_memory\u001b[0m\u001b[0;34m:\u001b[0m\u001b[0;34m\u001b[0m\u001b[0;34m\u001b[0m\u001b[0m\n\u001b[1;32m    563\u001b[0m             \u001b[0mdata\u001b[0m \u001b[0;34m=\u001b[0m \u001b[0m_utils\u001b[0m\u001b[0;34m.\u001b[0m\u001b[0mpin_memory\u001b[0m\u001b[0;34m.\u001b[0m\u001b[0mpin_memory\u001b[0m\u001b[0;34m(\u001b[0m\u001b[0mdata\u001b[0m\u001b[0;34m)\u001b[0m\u001b[0;34m\u001b[0m\u001b[0;34m\u001b[0m\u001b[0m\n",
      "\u001b[0;32m~/anaconda3/lib/python3.8/site-packages/torch/utils/data/_utils/fetch.py\u001b[0m in \u001b[0;36mfetch\u001b[0;34m(self, possibly_batched_index)\u001b[0m\n\u001b[1;32m     47\u001b[0m     \u001b[0;32mdef\u001b[0m \u001b[0mfetch\u001b[0m\u001b[0;34m(\u001b[0m\u001b[0mself\u001b[0m\u001b[0;34m,\u001b[0m \u001b[0mpossibly_batched_index\u001b[0m\u001b[0;34m)\u001b[0m\u001b[0;34m:\u001b[0m\u001b[0;34m\u001b[0m\u001b[0;34m\u001b[0m\u001b[0m\n\u001b[1;32m     48\u001b[0m         \u001b[0;32mif\u001b[0m \u001b[0mself\u001b[0m\u001b[0;34m.\u001b[0m\u001b[0mauto_collation\u001b[0m\u001b[0;34m:\u001b[0m\u001b[0;34m\u001b[0m\u001b[0;34m\u001b[0m\u001b[0m\n\u001b[0;32m---> 49\u001b[0;31m             \u001b[0mdata\u001b[0m \u001b[0;34m=\u001b[0m \u001b[0;34m[\u001b[0m\u001b[0mself\u001b[0m\u001b[0;34m.\u001b[0m\u001b[0mdataset\u001b[0m\u001b[0;34m[\u001b[0m\u001b[0midx\u001b[0m\u001b[0;34m]\u001b[0m \u001b[0;32mfor\u001b[0m \u001b[0midx\u001b[0m \u001b[0;32min\u001b[0m \u001b[0mpossibly_batched_index\u001b[0m\u001b[0;34m]\u001b[0m\u001b[0;34m\u001b[0m\u001b[0;34m\u001b[0m\u001b[0m\n\u001b[0m\u001b[1;32m     50\u001b[0m         \u001b[0;32melse\u001b[0m\u001b[0;34m:\u001b[0m\u001b[0;34m\u001b[0m\u001b[0;34m\u001b[0m\u001b[0m\n\u001b[1;32m     51\u001b[0m             \u001b[0mdata\u001b[0m \u001b[0;34m=\u001b[0m \u001b[0mself\u001b[0m\u001b[0;34m.\u001b[0m\u001b[0mdataset\u001b[0m\u001b[0;34m[\u001b[0m\u001b[0mpossibly_batched_index\u001b[0m\u001b[0;34m]\u001b[0m\u001b[0;34m\u001b[0m\u001b[0;34m\u001b[0m\u001b[0m\n",
      "\u001b[0;32m~/anaconda3/lib/python3.8/site-packages/torch/utils/data/_utils/fetch.py\u001b[0m in \u001b[0;36m<listcomp>\u001b[0;34m(.0)\u001b[0m\n\u001b[1;32m     47\u001b[0m     \u001b[0;32mdef\u001b[0m \u001b[0mfetch\u001b[0m\u001b[0;34m(\u001b[0m\u001b[0mself\u001b[0m\u001b[0;34m,\u001b[0m \u001b[0mpossibly_batched_index\u001b[0m\u001b[0;34m)\u001b[0m\u001b[0;34m:\u001b[0m\u001b[0;34m\u001b[0m\u001b[0;34m\u001b[0m\u001b[0m\n\u001b[1;32m     48\u001b[0m         \u001b[0;32mif\u001b[0m \u001b[0mself\u001b[0m\u001b[0;34m.\u001b[0m\u001b[0mauto_collation\u001b[0m\u001b[0;34m:\u001b[0m\u001b[0;34m\u001b[0m\u001b[0;34m\u001b[0m\u001b[0m\n\u001b[0;32m---> 49\u001b[0;31m             \u001b[0mdata\u001b[0m \u001b[0;34m=\u001b[0m \u001b[0;34m[\u001b[0m\u001b[0mself\u001b[0m\u001b[0;34m.\u001b[0m\u001b[0mdataset\u001b[0m\u001b[0;34m[\u001b[0m\u001b[0midx\u001b[0m\u001b[0;34m]\u001b[0m \u001b[0;32mfor\u001b[0m \u001b[0midx\u001b[0m \u001b[0;32min\u001b[0m \u001b[0mpossibly_batched_index\u001b[0m\u001b[0;34m]\u001b[0m\u001b[0;34m\u001b[0m\u001b[0;34m\u001b[0m\u001b[0m\n\u001b[0m\u001b[1;32m     50\u001b[0m         \u001b[0;32melse\u001b[0m\u001b[0;34m:\u001b[0m\u001b[0;34m\u001b[0m\u001b[0;34m\u001b[0m\u001b[0m\n\u001b[1;32m     51\u001b[0m             \u001b[0mdata\u001b[0m \u001b[0;34m=\u001b[0m \u001b[0mself\u001b[0m\u001b[0;34m.\u001b[0m\u001b[0mdataset\u001b[0m\u001b[0;34m[\u001b[0m\u001b[0mpossibly_batched_index\u001b[0m\u001b[0;34m]\u001b[0m\u001b[0;34m\u001b[0m\u001b[0;34m\u001b[0m\u001b[0m\n",
      "\u001b[0;32m~/anaconda3/lib/python3.8/site-packages/datasets/arrow_dataset.py\u001b[0m in \u001b[0;36m__getitem__\u001b[0;34m(self, key)\u001b[0m\n\u001b[1;32m   1913\u001b[0m     \u001b[0;32mdef\u001b[0m \u001b[0m__getitem__\u001b[0m\u001b[0;34m(\u001b[0m\u001b[0mself\u001b[0m\u001b[0;34m,\u001b[0m \u001b[0mkey\u001b[0m\u001b[0;34m)\u001b[0m\u001b[0;34m:\u001b[0m  \u001b[0;31m# noqa: F811\u001b[0m\u001b[0;34m\u001b[0m\u001b[0;34m\u001b[0m\u001b[0m\n\u001b[1;32m   1914\u001b[0m         \u001b[0;34m\"\"\"Can be used to index columns (by string names) or rows (by integer index or iterable of indices or bools).\"\"\"\u001b[0m\u001b[0;34m\u001b[0m\u001b[0;34m\u001b[0m\u001b[0m\n\u001b[0;32m-> 1915\u001b[0;31m         return self._getitem(\n\u001b[0m\u001b[1;32m   1916\u001b[0m             \u001b[0mkey\u001b[0m\u001b[0;34m,\u001b[0m\u001b[0;34m\u001b[0m\u001b[0;34m\u001b[0m\u001b[0m\n\u001b[1;32m   1917\u001b[0m         )\n",
      "\u001b[0;32m~/anaconda3/lib/python3.8/site-packages/datasets/arrow_dataset.py\u001b[0m in \u001b[0;36m_getitem\u001b[0;34m(self, key, decoded, **kwargs)\u001b[0m\n\u001b[1;32m   1897\u001b[0m         \u001b[0mformat_kwargs\u001b[0m \u001b[0;34m=\u001b[0m \u001b[0mformat_kwargs\u001b[0m \u001b[0;32mif\u001b[0m \u001b[0mformat_kwargs\u001b[0m \u001b[0;32mis\u001b[0m \u001b[0;32mnot\u001b[0m \u001b[0;32mNone\u001b[0m \u001b[0;32melse\u001b[0m \u001b[0;34m{\u001b[0m\u001b[0;34m}\u001b[0m\u001b[0;34m\u001b[0m\u001b[0;34m\u001b[0m\u001b[0m\n\u001b[1;32m   1898\u001b[0m         \u001b[0mformatter\u001b[0m \u001b[0;34m=\u001b[0m \u001b[0mget_formatter\u001b[0m\u001b[0;34m(\u001b[0m\u001b[0mformat_type\u001b[0m\u001b[0;34m,\u001b[0m \u001b[0mfeatures\u001b[0m\u001b[0;34m=\u001b[0m\u001b[0mself\u001b[0m\u001b[0;34m.\u001b[0m\u001b[0mfeatures\u001b[0m\u001b[0;34m,\u001b[0m \u001b[0mdecoded\u001b[0m\u001b[0;34m=\u001b[0m\u001b[0mdecoded\u001b[0m\u001b[0;34m,\u001b[0m \u001b[0;34m**\u001b[0m\u001b[0mformat_kwargs\u001b[0m\u001b[0;34m)\u001b[0m\u001b[0;34m\u001b[0m\u001b[0;34m\u001b[0m\u001b[0m\n\u001b[0;32m-> 1899\u001b[0;31m         \u001b[0mpa_subtable\u001b[0m \u001b[0;34m=\u001b[0m \u001b[0mquery_table\u001b[0m\u001b[0;34m(\u001b[0m\u001b[0mself\u001b[0m\u001b[0;34m.\u001b[0m\u001b[0m_data\u001b[0m\u001b[0;34m,\u001b[0m \u001b[0mkey\u001b[0m\u001b[0;34m,\u001b[0m \u001b[0mindices\u001b[0m\u001b[0;34m=\u001b[0m\u001b[0mself\u001b[0m\u001b[0;34m.\u001b[0m\u001b[0m_indices\u001b[0m \u001b[0;32mif\u001b[0m \u001b[0mself\u001b[0m\u001b[0;34m.\u001b[0m\u001b[0m_indices\u001b[0m \u001b[0;32mis\u001b[0m \u001b[0;32mnot\u001b[0m \u001b[0;32mNone\u001b[0m \u001b[0;32melse\u001b[0m \u001b[0;32mNone\u001b[0m\u001b[0;34m)\u001b[0m\u001b[0;34m\u001b[0m\u001b[0;34m\u001b[0m\u001b[0m\n\u001b[0m\u001b[1;32m   1900\u001b[0m         formatted_output = format_table(\n\u001b[1;32m   1901\u001b[0m             \u001b[0mpa_subtable\u001b[0m\u001b[0;34m,\u001b[0m \u001b[0mkey\u001b[0m\u001b[0;34m,\u001b[0m \u001b[0mformatter\u001b[0m\u001b[0;34m=\u001b[0m\u001b[0mformatter\u001b[0m\u001b[0;34m,\u001b[0m \u001b[0mformat_columns\u001b[0m\u001b[0;34m=\u001b[0m\u001b[0mformat_columns\u001b[0m\u001b[0;34m,\u001b[0m \u001b[0moutput_all_columns\u001b[0m\u001b[0;34m=\u001b[0m\u001b[0moutput_all_columns\u001b[0m\u001b[0;34m\u001b[0m\u001b[0;34m\u001b[0m\u001b[0m\n",
      "\u001b[0;32m~/anaconda3/lib/python3.8/site-packages/datasets/formatting/formatting.py\u001b[0m in \u001b[0;36mquery_table\u001b[0;34m(table, key, indices)\u001b[0m\n\u001b[1;32m    483\u001b[0m     \u001b[0;32melse\u001b[0m\u001b[0;34m:\u001b[0m\u001b[0;34m\u001b[0m\u001b[0;34m\u001b[0m\u001b[0m\n\u001b[1;32m    484\u001b[0m         \u001b[0msize\u001b[0m \u001b[0;34m=\u001b[0m \u001b[0mindices\u001b[0m\u001b[0;34m.\u001b[0m\u001b[0mnum_rows\u001b[0m \u001b[0;32mif\u001b[0m \u001b[0mindices\u001b[0m \u001b[0;32mis\u001b[0m \u001b[0;32mnot\u001b[0m \u001b[0;32mNone\u001b[0m \u001b[0;32melse\u001b[0m \u001b[0mtable\u001b[0m\u001b[0;34m.\u001b[0m\u001b[0mnum_rows\u001b[0m\u001b[0;34m\u001b[0m\u001b[0;34m\u001b[0m\u001b[0m\n\u001b[0;32m--> 485\u001b[0;31m         \u001b[0m_check_valid_index_key\u001b[0m\u001b[0;34m(\u001b[0m\u001b[0mkey\u001b[0m\u001b[0;34m,\u001b[0m \u001b[0msize\u001b[0m\u001b[0;34m)\u001b[0m\u001b[0;34m\u001b[0m\u001b[0;34m\u001b[0m\u001b[0m\n\u001b[0m\u001b[1;32m    486\u001b[0m     \u001b[0;31m# Query the main table\u001b[0m\u001b[0;34m\u001b[0m\u001b[0;34m\u001b[0m\u001b[0;34m\u001b[0m\u001b[0m\n\u001b[1;32m    487\u001b[0m     \u001b[0;32mif\u001b[0m \u001b[0mindices\u001b[0m \u001b[0;32mis\u001b[0m \u001b[0;32mNone\u001b[0m\u001b[0;34m:\u001b[0m\u001b[0;34m\u001b[0m\u001b[0;34m\u001b[0m\u001b[0m\n",
      "\u001b[0;32m~/anaconda3/lib/python3.8/site-packages/datasets/formatting/formatting.py\u001b[0m in \u001b[0;36m_check_valid_index_key\u001b[0;34m(key, size)\u001b[0m\n\u001b[1;32m    426\u001b[0m     \u001b[0;32mif\u001b[0m \u001b[0misinstance\u001b[0m\u001b[0;34m(\u001b[0m\u001b[0mkey\u001b[0m\u001b[0;34m,\u001b[0m \u001b[0mint\u001b[0m\u001b[0;34m)\u001b[0m\u001b[0;34m:\u001b[0m\u001b[0;34m\u001b[0m\u001b[0;34m\u001b[0m\u001b[0m\n\u001b[1;32m    427\u001b[0m         \u001b[0;32mif\u001b[0m \u001b[0;34m(\u001b[0m\u001b[0mkey\u001b[0m \u001b[0;34m<\u001b[0m \u001b[0;36m0\u001b[0m \u001b[0;32mand\u001b[0m \u001b[0mkey\u001b[0m \u001b[0;34m+\u001b[0m \u001b[0msize\u001b[0m \u001b[0;34m<\u001b[0m \u001b[0;36m0\u001b[0m\u001b[0;34m)\u001b[0m \u001b[0;32mor\u001b[0m \u001b[0;34m(\u001b[0m\u001b[0mkey\u001b[0m \u001b[0;34m>=\u001b[0m \u001b[0msize\u001b[0m\u001b[0;34m)\u001b[0m\u001b[0;34m:\u001b[0m\u001b[0;34m\u001b[0m\u001b[0;34m\u001b[0m\u001b[0m\n\u001b[0;32m--> 428\u001b[0;31m             \u001b[0;32mraise\u001b[0m \u001b[0mIndexError\u001b[0m\u001b[0;34m(\u001b[0m\u001b[0;34mf\"Invalid key: {key} is out of bounds for size {size}\"\u001b[0m\u001b[0;34m)\u001b[0m\u001b[0;34m\u001b[0m\u001b[0;34m\u001b[0m\u001b[0m\n\u001b[0m\u001b[1;32m    429\u001b[0m         \u001b[0;32mreturn\u001b[0m\u001b[0;34m\u001b[0m\u001b[0;34m\u001b[0m\u001b[0m\n\u001b[1;32m    430\u001b[0m     \u001b[0;32melif\u001b[0m \u001b[0misinstance\u001b[0m\u001b[0;34m(\u001b[0m\u001b[0mkey\u001b[0m\u001b[0;34m,\u001b[0m \u001b[0mslice\u001b[0m\u001b[0;34m)\u001b[0m\u001b[0;34m:\u001b[0m\u001b[0;34m\u001b[0m\u001b[0;34m\u001b[0m\u001b[0m\n",
      "\u001b[0;31mIndexError\u001b[0m: Invalid key: 904 is out of bounds for size 0"
     ]
    }
   ],
   "source": [
    "from transformers import Trainer, TrainingArguments\n",
    "\n",
    "args = TrainingArguments(\n",
    "    output_dir=\"recnn_test\",\n",
    "    per_device_train_batch_size=8,\n",
    "    num_train_epochs=1,\n",
    "    lr_scheduler_type=\"cosine\",\n",
    "    learning_rate=5e-4\n",
    ")\n",
    "\n",
    "trainer = Trainer(\n",
    "    model=model,\n",
    "    args=args,\n",
    "    train_dataset=tokenized_dataset[\"train\"],\n",
    "#     data_collator=data_collator\n",
    ")\n",
    "trainer.train()"
   ]
  },
  {
   "cell_type": "code",
   "execution_count": 380,
   "id": "b11d4ef4",
   "metadata": {},
   "outputs": [
    {
     "data": {
      "application/vnd.jupyter.widget-view+json": {
       "model_id": "558a55867e1644bf93d052df4f1af83e",
       "version_major": 2,
       "version_minor": 0
      },
      "text/plain": [
       "  0%|          | 0/1143 [00:00<?, ?it/s]"
      ]
     },
     "metadata": {},
     "output_type": "display_data"
    },
    {
     "ename": "RuntimeError",
     "evalue": "stack expects each tensor to be equal size, but got [21] at entry 0 and [18] at entry 1",
     "output_type": "error",
     "traceback": [
      "\u001b[0;31m---------------------------------------------------------------------------\u001b[0m",
      "\u001b[0;31mRuntimeError\u001b[0m                              Traceback (most recent call last)",
      "\u001b[0;32m/tmp/ipykernel_4141796/643430934.py\u001b[0m in \u001b[0;36m<module>\u001b[0;34m\u001b[0m\n\u001b[1;32m     27\u001b[0m \u001b[0mmodel\u001b[0m\u001b[0;34m.\u001b[0m\u001b[0mtrain\u001b[0m\u001b[0;34m(\u001b[0m\u001b[0;34m)\u001b[0m\u001b[0;34m\u001b[0m\u001b[0;34m\u001b[0m\u001b[0m\n\u001b[1;32m     28\u001b[0m \u001b[0;32mfor\u001b[0m \u001b[0mepoch\u001b[0m \u001b[0;32min\u001b[0m \u001b[0mrange\u001b[0m\u001b[0;34m(\u001b[0m\u001b[0mnum_epochs\u001b[0m\u001b[0;34m)\u001b[0m\u001b[0;34m:\u001b[0m\u001b[0;34m\u001b[0m\u001b[0;34m\u001b[0m\u001b[0m\n\u001b[0;32m---> 29\u001b[0;31m     \u001b[0;32mfor\u001b[0m \u001b[0mbatch\u001b[0m \u001b[0;32min\u001b[0m \u001b[0mtrain_dataloader\u001b[0m\u001b[0;34m:\u001b[0m\u001b[0;34m\u001b[0m\u001b[0;34m\u001b[0m\u001b[0m\n\u001b[0m\u001b[1;32m     30\u001b[0m         \u001b[0mbatch\u001b[0m \u001b[0;34m=\u001b[0m \u001b[0;34m{\u001b[0m\u001b[0mk\u001b[0m\u001b[0;34m:\u001b[0m \u001b[0mv\u001b[0m\u001b[0;34m.\u001b[0m\u001b[0mto\u001b[0m\u001b[0;34m(\u001b[0m\u001b[0mdevice\u001b[0m\u001b[0;34m)\u001b[0m \u001b[0;32mfor\u001b[0m \u001b[0mk\u001b[0m\u001b[0;34m,\u001b[0m \u001b[0mv\u001b[0m \u001b[0;32min\u001b[0m \u001b[0mbatch\u001b[0m\u001b[0;34m.\u001b[0m\u001b[0mitems\u001b[0m\u001b[0;34m(\u001b[0m\u001b[0;34m)\u001b[0m\u001b[0;34m}\u001b[0m\u001b[0;34m\u001b[0m\u001b[0;34m\u001b[0m\u001b[0m\n\u001b[1;32m     31\u001b[0m         \u001b[0mprint\u001b[0m\u001b[0;34m(\u001b[0m\u001b[0mbatch\u001b[0m\u001b[0;34m)\u001b[0m\u001b[0;34m\u001b[0m\u001b[0;34m\u001b[0m\u001b[0m\n",
      "\u001b[0;32m~/anaconda3/lib/python3.8/site-packages/torch/utils/data/dataloader.py\u001b[0m in \u001b[0;36m__next__\u001b[0;34m(self)\u001b[0m\n\u001b[1;32m    519\u001b[0m             \u001b[0;32mif\u001b[0m \u001b[0mself\u001b[0m\u001b[0;34m.\u001b[0m\u001b[0m_sampler_iter\u001b[0m \u001b[0;32mis\u001b[0m \u001b[0;32mNone\u001b[0m\u001b[0;34m:\u001b[0m\u001b[0;34m\u001b[0m\u001b[0;34m\u001b[0m\u001b[0m\n\u001b[1;32m    520\u001b[0m                 \u001b[0mself\u001b[0m\u001b[0;34m.\u001b[0m\u001b[0m_reset\u001b[0m\u001b[0;34m(\u001b[0m\u001b[0;34m)\u001b[0m\u001b[0;34m\u001b[0m\u001b[0;34m\u001b[0m\u001b[0m\n\u001b[0;32m--> 521\u001b[0;31m             \u001b[0mdata\u001b[0m \u001b[0;34m=\u001b[0m \u001b[0mself\u001b[0m\u001b[0;34m.\u001b[0m\u001b[0m_next_data\u001b[0m\u001b[0;34m(\u001b[0m\u001b[0;34m)\u001b[0m\u001b[0;34m\u001b[0m\u001b[0;34m\u001b[0m\u001b[0m\n\u001b[0m\u001b[1;32m    522\u001b[0m             \u001b[0mself\u001b[0m\u001b[0;34m.\u001b[0m\u001b[0m_num_yielded\u001b[0m \u001b[0;34m+=\u001b[0m \u001b[0;36m1\u001b[0m\u001b[0;34m\u001b[0m\u001b[0;34m\u001b[0m\u001b[0m\n\u001b[1;32m    523\u001b[0m             \u001b[0;32mif\u001b[0m \u001b[0mself\u001b[0m\u001b[0;34m.\u001b[0m\u001b[0m_dataset_kind\u001b[0m \u001b[0;34m==\u001b[0m \u001b[0m_DatasetKind\u001b[0m\u001b[0;34m.\u001b[0m\u001b[0mIterable\u001b[0m \u001b[0;32mand\u001b[0m\u001b[0;31m \u001b[0m\u001b[0;31m\\\u001b[0m\u001b[0;34m\u001b[0m\u001b[0;34m\u001b[0m\u001b[0m\n",
      "\u001b[0;32m~/anaconda3/lib/python3.8/site-packages/torch/utils/data/dataloader.py\u001b[0m in \u001b[0;36m_next_data\u001b[0;34m(self)\u001b[0m\n\u001b[1;32m    559\u001b[0m     \u001b[0;32mdef\u001b[0m \u001b[0m_next_data\u001b[0m\u001b[0;34m(\u001b[0m\u001b[0mself\u001b[0m\u001b[0;34m)\u001b[0m\u001b[0;34m:\u001b[0m\u001b[0;34m\u001b[0m\u001b[0;34m\u001b[0m\u001b[0m\n\u001b[1;32m    560\u001b[0m         \u001b[0mindex\u001b[0m \u001b[0;34m=\u001b[0m \u001b[0mself\u001b[0m\u001b[0;34m.\u001b[0m\u001b[0m_next_index\u001b[0m\u001b[0;34m(\u001b[0m\u001b[0;34m)\u001b[0m  \u001b[0;31m# may raise StopIteration\u001b[0m\u001b[0;34m\u001b[0m\u001b[0;34m\u001b[0m\u001b[0m\n\u001b[0;32m--> 561\u001b[0;31m         \u001b[0mdata\u001b[0m \u001b[0;34m=\u001b[0m \u001b[0mself\u001b[0m\u001b[0;34m.\u001b[0m\u001b[0m_dataset_fetcher\u001b[0m\u001b[0;34m.\u001b[0m\u001b[0mfetch\u001b[0m\u001b[0;34m(\u001b[0m\u001b[0mindex\u001b[0m\u001b[0;34m)\u001b[0m  \u001b[0;31m# may raise StopIteration\u001b[0m\u001b[0;34m\u001b[0m\u001b[0;34m\u001b[0m\u001b[0m\n\u001b[0m\u001b[1;32m    562\u001b[0m         \u001b[0;32mif\u001b[0m \u001b[0mself\u001b[0m\u001b[0;34m.\u001b[0m\u001b[0m_pin_memory\u001b[0m\u001b[0;34m:\u001b[0m\u001b[0;34m\u001b[0m\u001b[0;34m\u001b[0m\u001b[0m\n\u001b[1;32m    563\u001b[0m             \u001b[0mdata\u001b[0m \u001b[0;34m=\u001b[0m \u001b[0m_utils\u001b[0m\u001b[0;34m.\u001b[0m\u001b[0mpin_memory\u001b[0m\u001b[0;34m.\u001b[0m\u001b[0mpin_memory\u001b[0m\u001b[0;34m(\u001b[0m\u001b[0mdata\u001b[0m\u001b[0;34m)\u001b[0m\u001b[0;34m\u001b[0m\u001b[0;34m\u001b[0m\u001b[0m\n",
      "\u001b[0;32m~/anaconda3/lib/python3.8/site-packages/torch/utils/data/_utils/fetch.py\u001b[0m in \u001b[0;36mfetch\u001b[0;34m(self, possibly_batched_index)\u001b[0m\n\u001b[1;32m     50\u001b[0m         \u001b[0;32melse\u001b[0m\u001b[0;34m:\u001b[0m\u001b[0;34m\u001b[0m\u001b[0;34m\u001b[0m\u001b[0m\n\u001b[1;32m     51\u001b[0m             \u001b[0mdata\u001b[0m \u001b[0;34m=\u001b[0m \u001b[0mself\u001b[0m\u001b[0;34m.\u001b[0m\u001b[0mdataset\u001b[0m\u001b[0;34m[\u001b[0m\u001b[0mpossibly_batched_index\u001b[0m\u001b[0;34m]\u001b[0m\u001b[0;34m\u001b[0m\u001b[0;34m\u001b[0m\u001b[0m\n\u001b[0;32m---> 52\u001b[0;31m         \u001b[0;32mreturn\u001b[0m \u001b[0mself\u001b[0m\u001b[0;34m.\u001b[0m\u001b[0mcollate_fn\u001b[0m\u001b[0;34m(\u001b[0m\u001b[0mdata\u001b[0m\u001b[0;34m)\u001b[0m\u001b[0;34m\u001b[0m\u001b[0;34m\u001b[0m\u001b[0m\n\u001b[0m",
      "\u001b[0;32m~/anaconda3/lib/python3.8/site-packages/torch/utils/data/_utils/collate.py\u001b[0m in \u001b[0;36mdefault_collate\u001b[0;34m(batch)\u001b[0m\n\u001b[1;32m     72\u001b[0m         \u001b[0;32mreturn\u001b[0m \u001b[0mbatch\u001b[0m\u001b[0;34m\u001b[0m\u001b[0;34m\u001b[0m\u001b[0m\n\u001b[1;32m     73\u001b[0m     \u001b[0;32melif\u001b[0m \u001b[0misinstance\u001b[0m\u001b[0;34m(\u001b[0m\u001b[0melem\u001b[0m\u001b[0;34m,\u001b[0m \u001b[0mcollections\u001b[0m\u001b[0;34m.\u001b[0m\u001b[0mabc\u001b[0m\u001b[0;34m.\u001b[0m\u001b[0mMapping\u001b[0m\u001b[0;34m)\u001b[0m\u001b[0;34m:\u001b[0m\u001b[0;34m\u001b[0m\u001b[0;34m\u001b[0m\u001b[0m\n\u001b[0;32m---> 74\u001b[0;31m         \u001b[0;32mreturn\u001b[0m \u001b[0;34m{\u001b[0m\u001b[0mkey\u001b[0m\u001b[0;34m:\u001b[0m \u001b[0mdefault_collate\u001b[0m\u001b[0;34m(\u001b[0m\u001b[0;34m[\u001b[0m\u001b[0md\u001b[0m\u001b[0;34m[\u001b[0m\u001b[0mkey\u001b[0m\u001b[0;34m]\u001b[0m \u001b[0;32mfor\u001b[0m \u001b[0md\u001b[0m \u001b[0;32min\u001b[0m \u001b[0mbatch\u001b[0m\u001b[0;34m]\u001b[0m\u001b[0;34m)\u001b[0m \u001b[0;32mfor\u001b[0m \u001b[0mkey\u001b[0m \u001b[0;32min\u001b[0m \u001b[0melem\u001b[0m\u001b[0;34m}\u001b[0m\u001b[0;34m\u001b[0m\u001b[0;34m\u001b[0m\u001b[0m\n\u001b[0m\u001b[1;32m     75\u001b[0m     \u001b[0;32melif\u001b[0m \u001b[0misinstance\u001b[0m\u001b[0;34m(\u001b[0m\u001b[0melem\u001b[0m\u001b[0;34m,\u001b[0m \u001b[0mtuple\u001b[0m\u001b[0;34m)\u001b[0m \u001b[0;32mand\u001b[0m \u001b[0mhasattr\u001b[0m\u001b[0;34m(\u001b[0m\u001b[0melem\u001b[0m\u001b[0;34m,\u001b[0m \u001b[0;34m'_fields'\u001b[0m\u001b[0;34m)\u001b[0m\u001b[0;34m:\u001b[0m  \u001b[0;31m# namedtuple\u001b[0m\u001b[0;34m\u001b[0m\u001b[0;34m\u001b[0m\u001b[0m\n\u001b[1;32m     76\u001b[0m         \u001b[0;32mreturn\u001b[0m \u001b[0melem_type\u001b[0m\u001b[0;34m(\u001b[0m\u001b[0;34m*\u001b[0m\u001b[0;34m(\u001b[0m\u001b[0mdefault_collate\u001b[0m\u001b[0;34m(\u001b[0m\u001b[0msamples\u001b[0m\u001b[0;34m)\u001b[0m \u001b[0;32mfor\u001b[0m \u001b[0msamples\u001b[0m \u001b[0;32min\u001b[0m \u001b[0mzip\u001b[0m\u001b[0;34m(\u001b[0m\u001b[0;34m*\u001b[0m\u001b[0mbatch\u001b[0m\u001b[0;34m)\u001b[0m\u001b[0;34m)\u001b[0m\u001b[0;34m)\u001b[0m\u001b[0;34m\u001b[0m\u001b[0;34m\u001b[0m\u001b[0m\n",
      "\u001b[0;32m~/anaconda3/lib/python3.8/site-packages/torch/utils/data/_utils/collate.py\u001b[0m in \u001b[0;36m<dictcomp>\u001b[0;34m(.0)\u001b[0m\n\u001b[1;32m     72\u001b[0m         \u001b[0;32mreturn\u001b[0m \u001b[0mbatch\u001b[0m\u001b[0;34m\u001b[0m\u001b[0;34m\u001b[0m\u001b[0m\n\u001b[1;32m     73\u001b[0m     \u001b[0;32melif\u001b[0m \u001b[0misinstance\u001b[0m\u001b[0;34m(\u001b[0m\u001b[0melem\u001b[0m\u001b[0;34m,\u001b[0m \u001b[0mcollections\u001b[0m\u001b[0;34m.\u001b[0m\u001b[0mabc\u001b[0m\u001b[0;34m.\u001b[0m\u001b[0mMapping\u001b[0m\u001b[0;34m)\u001b[0m\u001b[0;34m:\u001b[0m\u001b[0;34m\u001b[0m\u001b[0;34m\u001b[0m\u001b[0m\n\u001b[0;32m---> 74\u001b[0;31m         \u001b[0;32mreturn\u001b[0m \u001b[0;34m{\u001b[0m\u001b[0mkey\u001b[0m\u001b[0;34m:\u001b[0m \u001b[0mdefault_collate\u001b[0m\u001b[0;34m(\u001b[0m\u001b[0;34m[\u001b[0m\u001b[0md\u001b[0m\u001b[0;34m[\u001b[0m\u001b[0mkey\u001b[0m\u001b[0;34m]\u001b[0m \u001b[0;32mfor\u001b[0m \u001b[0md\u001b[0m \u001b[0;32min\u001b[0m \u001b[0mbatch\u001b[0m\u001b[0;34m]\u001b[0m\u001b[0;34m)\u001b[0m \u001b[0;32mfor\u001b[0m \u001b[0mkey\u001b[0m \u001b[0;32min\u001b[0m \u001b[0melem\u001b[0m\u001b[0;34m}\u001b[0m\u001b[0;34m\u001b[0m\u001b[0;34m\u001b[0m\u001b[0m\n\u001b[0m\u001b[1;32m     75\u001b[0m     \u001b[0;32melif\u001b[0m \u001b[0misinstance\u001b[0m\u001b[0;34m(\u001b[0m\u001b[0melem\u001b[0m\u001b[0;34m,\u001b[0m \u001b[0mtuple\u001b[0m\u001b[0;34m)\u001b[0m \u001b[0;32mand\u001b[0m \u001b[0mhasattr\u001b[0m\u001b[0;34m(\u001b[0m\u001b[0melem\u001b[0m\u001b[0;34m,\u001b[0m \u001b[0;34m'_fields'\u001b[0m\u001b[0;34m)\u001b[0m\u001b[0;34m:\u001b[0m  \u001b[0;31m# namedtuple\u001b[0m\u001b[0;34m\u001b[0m\u001b[0;34m\u001b[0m\u001b[0m\n\u001b[1;32m     76\u001b[0m         \u001b[0;32mreturn\u001b[0m \u001b[0melem_type\u001b[0m\u001b[0;34m(\u001b[0m\u001b[0;34m*\u001b[0m\u001b[0;34m(\u001b[0m\u001b[0mdefault_collate\u001b[0m\u001b[0;34m(\u001b[0m\u001b[0msamples\u001b[0m\u001b[0;34m)\u001b[0m \u001b[0;32mfor\u001b[0m \u001b[0msamples\u001b[0m \u001b[0;32min\u001b[0m \u001b[0mzip\u001b[0m\u001b[0;34m(\u001b[0m\u001b[0;34m*\u001b[0m\u001b[0mbatch\u001b[0m\u001b[0;34m)\u001b[0m\u001b[0;34m)\u001b[0m\u001b[0;34m)\u001b[0m\u001b[0;34m\u001b[0m\u001b[0;34m\u001b[0m\u001b[0m\n",
      "\u001b[0;32m~/anaconda3/lib/python3.8/site-packages/torch/utils/data/_utils/collate.py\u001b[0m in \u001b[0;36mdefault_collate\u001b[0;34m(batch)\u001b[0m\n\u001b[1;32m     54\u001b[0m             \u001b[0mstorage\u001b[0m \u001b[0;34m=\u001b[0m \u001b[0melem\u001b[0m\u001b[0;34m.\u001b[0m\u001b[0mstorage\u001b[0m\u001b[0;34m(\u001b[0m\u001b[0;34m)\u001b[0m\u001b[0;34m.\u001b[0m\u001b[0m_new_shared\u001b[0m\u001b[0;34m(\u001b[0m\u001b[0mnumel\u001b[0m\u001b[0;34m)\u001b[0m\u001b[0;34m\u001b[0m\u001b[0;34m\u001b[0m\u001b[0m\n\u001b[1;32m     55\u001b[0m             \u001b[0mout\u001b[0m \u001b[0;34m=\u001b[0m \u001b[0melem\u001b[0m\u001b[0;34m.\u001b[0m\u001b[0mnew\u001b[0m\u001b[0;34m(\u001b[0m\u001b[0mstorage\u001b[0m\u001b[0;34m)\u001b[0m\u001b[0;34m\u001b[0m\u001b[0;34m\u001b[0m\u001b[0m\n\u001b[0;32m---> 56\u001b[0;31m         \u001b[0;32mreturn\u001b[0m \u001b[0mtorch\u001b[0m\u001b[0;34m.\u001b[0m\u001b[0mstack\u001b[0m\u001b[0;34m(\u001b[0m\u001b[0mbatch\u001b[0m\u001b[0;34m,\u001b[0m \u001b[0;36m0\u001b[0m\u001b[0;34m,\u001b[0m \u001b[0mout\u001b[0m\u001b[0;34m=\u001b[0m\u001b[0mout\u001b[0m\u001b[0;34m)\u001b[0m\u001b[0;34m\u001b[0m\u001b[0;34m\u001b[0m\u001b[0m\n\u001b[0m\u001b[1;32m     57\u001b[0m     \u001b[0;32melif\u001b[0m \u001b[0melem_type\u001b[0m\u001b[0;34m.\u001b[0m\u001b[0m__module__\u001b[0m \u001b[0;34m==\u001b[0m \u001b[0;34m'numpy'\u001b[0m \u001b[0;32mand\u001b[0m \u001b[0melem_type\u001b[0m\u001b[0;34m.\u001b[0m\u001b[0m__name__\u001b[0m \u001b[0;34m!=\u001b[0m \u001b[0;34m'str_'\u001b[0m\u001b[0;31m \u001b[0m\u001b[0;31m\\\u001b[0m\u001b[0;34m\u001b[0m\u001b[0;34m\u001b[0m\u001b[0m\n\u001b[1;32m     58\u001b[0m             \u001b[0;32mand\u001b[0m \u001b[0melem_type\u001b[0m\u001b[0;34m.\u001b[0m\u001b[0m__name__\u001b[0m \u001b[0;34m!=\u001b[0m \u001b[0;34m'string_'\u001b[0m\u001b[0;34m:\u001b[0m\u001b[0;34m\u001b[0m\u001b[0;34m\u001b[0m\u001b[0m\n",
      "\u001b[0;31mRuntimeError\u001b[0m: stack expects each tensor to be equal size, but got [21] at entry 0 and [18] at entry 1"
     ]
    }
   ],
   "source": [
    "from torch.utils.data import DataLoader\n",
    "\n",
    "tokenized_dataset.set_format(\"torch\")\n",
    "train_dataloader = DataLoader(tokenized_dataset['train'], shuffle=True, batch_size=8)\n",
    "\n",
    "optimizer = torch.optim.SGD(model.parameters(), lr=0.001, momentum=0.9)\n",
    "\n",
    "from transformers import get_scheduler\n",
    "\n",
    "num_epochs =3\n",
    "num_train_step = num_epochs * len(train_dataloader)\n",
    "lr_scheduler = get_scheduler(\n",
    "    'linear',\n",
    "    optimizer=optimizer,\n",
    "    num_warmup_steps=0,\n",
    "    num_training_steps=num_train_step\n",
    ")\n",
    "\n",
    "device = torch.device(\"cuda\") if torch.cuda.is_available() else torch.device(\"cpu\")\n",
    "\n",
    "model.to(device)\n",
    "\n",
    "from tqdm.auto import tqdm\n",
    "\n",
    "progress_bar = tqdm(range(num_train_step))\n",
    "\n",
    "model.train()\n",
    "for epoch in range(num_epochs):\n",
    "    for batch in train_dataloader:\n",
    "        batch = {k: v.to(device) for k, v in batch.items()}\n",
    "        print(batch)\n",
    "        outputs = model(**batch)\n",
    "        loss = outputs.loss\n",
    "        loss.backward()\n",
    "\n",
    "        optimizer.step()\n",
    "        lr_scheduler.step()\n",
    "        optimizer.zero_grad()\n",
    "        progress_bar.update(1)"
   ]
  }
 ],
 "metadata": {
  "kernelspec": {
   "display_name": "Python 3 (ipykernel)",
   "language": "python",
   "name": "python3"
  },
  "language_info": {
   "codemirror_mode": {
    "name": "ipython",
    "version": 3
   },
   "file_extension": ".py",
   "mimetype": "text/x-python",
   "name": "python",
   "nbconvert_exporter": "python",
   "pygments_lexer": "ipython3",
   "version": "3.8.8"
  }
 },
 "nbformat": 4,
 "nbformat_minor": 5
}
